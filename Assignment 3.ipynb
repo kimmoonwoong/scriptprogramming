{
 "cells": [
  {
   "cell_type": "markdown",
   "id": "01073d02",
   "metadata": {},
   "source": [
    "# 1. L=[1, 2, 3, 4, 5]일 때 다음 각 문장을 수행한 후의 결과를 보고 납득할 만한 이유를 설명하시오."
   ]
  },
  {
   "cell_type": "markdown",
   "id": "b15d9304",
   "metadata": {},
   "source": [
    "1)"
   ]
  },
  {
   "cell_type": "code",
   "execution_count": 12,
   "id": "760f1c3f",
   "metadata": {},
   "outputs": [
    {
     "name": "stdout",
     "output_type": "stream",
     "text": [
      "[1, 100, 4, 5]\n"
     ]
    }
   ],
   "source": [
    "L = [1,2,3,4,5]\n",
    "L[1:3] = [100]\n",
    "print(L)"
   ]
  },
  {
   "cell_type": "markdown",
   "id": "b472f9fe",
   "metadata": {},
   "source": [
    "L을 1부터 3전까지 리스트 100으로 바꿔주므로 인덱스 1,2는 100으로 바뀐다"
   ]
  },
  {
   "cell_type": "markdown",
   "id": "727ad3e3",
   "metadata": {},
   "source": [
    "2)"
   ]
  },
  {
   "cell_type": "code",
   "execution_count": 13,
   "id": "6affc439",
   "metadata": {},
   "outputs": [
    {
     "name": "stdout",
     "output_type": "stream",
     "text": [
      "[1, 100, 4, 5]\n"
     ]
    }
   ],
   "source": [
    "L = [1,2,3,4,5]\n",
    "L[1:3] = [(100)]\n",
    "print(L)"
   ]
  },
  {
   "cell_type": "markdown",
   "id": "4e78f761",
   "metadata": {},
   "source": [
    "L의 1부터 2까지를 리스트 100으로 바꿔주면서 인덱스 1,2는 사라지고 100이 들어간것을 볼 수 있다."
   ]
  },
  {
   "cell_type": "markdown",
   "id": "6cc9b627",
   "metadata": {},
   "source": [
    "3)"
   ]
  },
  {
   "cell_type": "code",
   "execution_count": 14,
   "id": "f0844469",
   "metadata": {},
   "outputs": [
    {
     "ename": "TypeError",
     "evalue": "can only assign an iterable",
     "output_type": "error",
     "traceback": [
      "\u001b[1;31m---------------------------------------------------------------------------\u001b[0m",
      "\u001b[1;31mTypeError\u001b[0m                                 Traceback (most recent call last)",
      "\u001b[1;32m<ipython-input-14-0967d74d1459>\u001b[0m in \u001b[0;36m<module>\u001b[1;34m\u001b[0m\n\u001b[0;32m      1\u001b[0m \u001b[0mL\u001b[0m \u001b[1;33m=\u001b[0m \u001b[1;33m[\u001b[0m\u001b[1;36m1\u001b[0m\u001b[1;33m,\u001b[0m\u001b[1;36m2\u001b[0m\u001b[1;33m,\u001b[0m\u001b[1;36m3\u001b[0m\u001b[1;33m,\u001b[0m\u001b[1;36m4\u001b[0m\u001b[1;33m,\u001b[0m\u001b[1;36m5\u001b[0m\u001b[1;33m]\u001b[0m\u001b[1;33m\u001b[0m\u001b[1;33m\u001b[0m\u001b[0m\n\u001b[1;32m----> 2\u001b[1;33m \u001b[0mL\u001b[0m\u001b[1;33m[\u001b[0m\u001b[1;36m1\u001b[0m\u001b[1;33m:\u001b[0m\u001b[1;36m3\u001b[0m\u001b[1;33m]\u001b[0m \u001b[1;33m=\u001b[0m \u001b[1;36m100\u001b[0m\u001b[1;33m\u001b[0m\u001b[1;33m\u001b[0m\u001b[0m\n\u001b[0m\u001b[0;32m      3\u001b[0m \u001b[0mprint\u001b[0m\u001b[1;33m(\u001b[0m\u001b[0mL\u001b[0m\u001b[1;33m)\u001b[0m\u001b[1;33m\u001b[0m\u001b[1;33m\u001b[0m\u001b[0m\n",
      "\u001b[1;31mTypeError\u001b[0m: can only assign an iterable"
     ]
    }
   ],
   "source": [
    "L = [1,2,3,4,5]\n",
    "L[1:3] = 100\n",
    "print(L)"
   ]
  },
  {
   "cell_type": "markdown",
   "id": "b37a66de",
   "metadata": {},
   "source": [
    "타입에러가 뜨는데, 그 이유는 슬라이싱을 1부터 2까지 했는데, 대입되는 값이 정수이기 때문에 오류가 뜨는 것으로 보입니다."
   ]
  },
  {
   "cell_type": "markdown",
   "id": "b5c83983",
   "metadata": {},
   "source": [
    "4)"
   ]
  },
  {
   "cell_type": "code",
   "execution_count": 15,
   "id": "f08fda5e",
   "metadata": {},
   "outputs": [
    {
     "ename": "TypeError",
     "evalue": "can only assign an iterable",
     "output_type": "error",
     "traceback": [
      "\u001b[1;31m---------------------------------------------------------------------------\u001b[0m",
      "\u001b[1;31mTypeError\u001b[0m                                 Traceback (most recent call last)",
      "\u001b[1;32m<ipython-input-15-a4b659c7e649>\u001b[0m in \u001b[0;36m<module>\u001b[1;34m\u001b[0m\n\u001b[0;32m      1\u001b[0m \u001b[0mL\u001b[0m \u001b[1;33m=\u001b[0m \u001b[1;33m[\u001b[0m\u001b[1;36m1\u001b[0m\u001b[1;33m,\u001b[0m\u001b[1;36m2\u001b[0m\u001b[1;33m,\u001b[0m\u001b[1;36m3\u001b[0m\u001b[1;33m,\u001b[0m\u001b[1;36m4\u001b[0m\u001b[1;33m,\u001b[0m\u001b[1;36m5\u001b[0m\u001b[1;33m]\u001b[0m\u001b[1;33m\u001b[0m\u001b[1;33m\u001b[0m\u001b[0m\n\u001b[1;32m----> 2\u001b[1;33m \u001b[0mL\u001b[0m\u001b[1;33m[\u001b[0m\u001b[1;36m1\u001b[0m\u001b[1;33m:\u001b[0m\u001b[1;36m3\u001b[0m\u001b[1;33m]\u001b[0m \u001b[1;33m=\u001b[0m \u001b[1;33m(\u001b[0m\u001b[1;36m100\u001b[0m\u001b[1;33m)\u001b[0m\u001b[1;33m\u001b[0m\u001b[1;33m\u001b[0m\u001b[0m\n\u001b[0m\u001b[0;32m      3\u001b[0m \u001b[0mprint\u001b[0m\u001b[1;33m(\u001b[0m\u001b[0mL\u001b[0m\u001b[1;33m)\u001b[0m\u001b[1;33m\u001b[0m\u001b[1;33m\u001b[0m\u001b[0m\n",
      "\u001b[1;31mTypeError\u001b[0m: can only assign an iterable"
     ]
    }
   ],
   "source": [
    "L = [1,2,3,4,5]\n",
    "L[1:3] = (100)\n",
    "print(L)"
   ]
  },
  {
   "cell_type": "markdown",
   "id": "94e7af6b",
   "metadata": {},
   "source": [
    "이 문제 또한 int값을 대입시키므로 오류가 뜨는 것으로 보입니다."
   ]
  },
  {
   "cell_type": "markdown",
   "id": "8db70284",
   "metadata": {},
   "source": [
    "5)"
   ]
  },
  {
   "cell_type": "code",
   "execution_count": 19,
   "id": "49cbb2ec",
   "metadata": {},
   "outputs": [
    {
     "name": "stdout",
     "output_type": "stream",
     "text": [
      "[1, 100, 101, 102, 4, 5]\n"
     ]
    }
   ],
   "source": [
    "L = [1,2,3,4,5]\n",
    "L[1:3] = (100, 101, 102)\n",
    "print(L)"
   ]
  },
  {
   "cell_type": "markdown",
   "id": "33187c2b",
   "metadata": {},
   "source": [
    "리스트 L의 1부터 2까지 튜플인 (100,101,102)를 대입했으므로 100,101,102가 출력된다."
   ]
  },
  {
   "cell_type": "markdown",
   "id": "12bf8614",
   "metadata": {},
   "source": [
    "6)"
   ]
  },
  {
   "cell_type": "code",
   "execution_count": 20,
   "id": "6f7d4959",
   "metadata": {},
   "outputs": [
    {
     "name": "stdout",
     "output_type": "stream",
     "text": [
      "[1, 100, 101, 102, 4, 5]\n"
     ]
    }
   ],
   "source": [
    "L = [1,2,3,4,5]\n",
    "L[1:3] = [100, 101, 102]\n",
    "print(L)"
   ]
  },
  {
   "cell_type": "markdown",
   "id": "a776ada8",
   "metadata": {},
   "source": [
    "리스트 L의 1부터 2까지 리스트인 [100,101,102]를 대입했으므로 100,101,102가 출력된다."
   ]
  },
  {
   "cell_type": "markdown",
   "id": "4b3370c9",
   "metadata": {},
   "source": [
    "7)"
   ]
  },
  {
   "cell_type": "code",
   "execution_count": 22,
   "id": "969439c6",
   "metadata": {},
   "outputs": [
    {
     "name": "stdout",
     "output_type": "stream",
     "text": [
      "[1, (100, 101, 102), 4, 5]\n"
     ]
    }
   ],
   "source": [
    "L = [1,2,3,4,5]\n",
    "L[1:3] = [(100, 101, 102)]\n",
    "print(L)"
   ]
  },
  {
   "cell_type": "markdown",
   "id": "32630632",
   "metadata": {},
   "source": [
    "리스트 L의 1부타 2까지 리스트 안에있는 (100,101,102) 튜플을 대입시켰으므로 튜플을 그대로 유지한체 대입이 된다.(리스트 안에 있는 객체가 들어가는 거기 때문)"
   ]
  },
  {
   "cell_type": "markdown",
   "id": "19bd806e",
   "metadata": {},
   "source": [
    "8)"
   ]
  },
  {
   "cell_type": "code",
   "execution_count": 23,
   "id": "536aca07",
   "metadata": {},
   "outputs": [
    {
     "name": "stdout",
     "output_type": "stream",
     "text": [
      "[1, [100, 101, 102], 4, 5]\n"
     ]
    }
   ],
   "source": [
    "L = [1,2,3,4,5]\n",
    "L[1:3] = [[100, 101, 102]]\n",
    "print(L)"
   ]
  },
  {
   "cell_type": "markdown",
   "id": "3b8d7b13",
   "metadata": {},
   "source": [
    "리스트 L의 1부터 2까지 리스트 안에있는 리스트를 대입시켰으므로 리스트를 유지한체 대입이 된다.(리스트 안에 있는 객체가 들어가는 거기 때문)"
   ]
  },
  {
   "cell_type": "markdown",
   "id": "6e659767",
   "metadata": {},
   "source": [
    "# 2. 문자열 S = 'Hello World and Python'에 대해 다음 요구사항에 대한 Python 코드를 제시하시오.\n",
    "- 1) 단어의 순서가 역순으로 되어진 문자열 ('Python and World Hello')을 만들고\n",
    "- 2) 1)의 결과 문자열에 대해 메소드 split과 join을 이용하여 공백을 모두 없엔 문자열 'PythonandWorldHello'을 만드시오."
   ]
  },
  {
   "cell_type": "code",
   "execution_count": 193,
   "id": "6b79f45b",
   "metadata": {},
   "outputs": [
    {
     "name": "stdout",
     "output_type": "stream",
     "text": [
      "PythonandWorldHello\n"
     ]
    }
   ],
   "source": [
    "S = \"Hello World and Python\"\n",
    "list = []\n",
    "S = S.split(' ')\n",
    "for ch in range(len(S)-1,-1,-1):\n",
    "    list.append(S[ch])\n",
    "s = ''.join(list)\n",
    "print(s)"
   ]
  },
  {
   "cell_type": "markdown",
   "id": "bdc15060",
   "metadata": {},
   "source": [
    "먼저 문자열 S를 공백을 기준으로 split을 하고, list에 거꾸로 넣어준 다음 join을 이용해 공백없이 출력하게 만들었습니다 "
   ]
  },
  {
   "cell_type": "markdown",
   "id": "fe985f02",
   "metadata": {},
   "source": [
    "# 3.다음 코드를 보고 물음에 답하시오."
   ]
  },
  {
   "cell_type": "code",
   "execution_count": 64,
   "id": "e08db343",
   "metadata": {},
   "outputs": [
    {
     "name": "stdout",
     "output_type": "stream",
     "text": [
      "[1, 2, 3, 1, 2, 3, 1, 2, 3]\n",
      "[[1, 2, 3], [1, 2, 3], [1, 2, 3]]\n"
     ]
    }
   ],
   "source": [
    "a = [1, 2, 3]\n",
    "b = a * 3\n",
    "c = [a] * 3\n",
    "print(b)\n",
    "print(c)"
   ]
  },
  {
   "cell_type": "markdown",
   "id": "f5a1dfa4",
   "metadata": {},
   "source": [
    "- 1) 위 코드를 수행한 이후 다음 코드를 수행한 후 b와 c의 내용을 확인하시오."
   ]
  },
  {
   "cell_type": "code",
   "execution_count": 70,
   "id": "4830d883",
   "metadata": {},
   "outputs": [
    {
     "name": "stdout",
     "output_type": "stream",
     "text": [
      "[1, 2, 3, 1, 2, 3, 1, 2, 3]\n",
      "[[0, 2, 3], [0, 2, 3], [0, 2, 3]]\n"
     ]
    }
   ],
   "source": [
    "a[0]=0\n",
    "print(b)\n",
    "print(c)"
   ]
  },
  {
   "cell_type": "markdown",
   "id": "fb4234eb",
   "metadata": {},
   "source": [
    "- 2) b와 c 객체의 차이는 무엇인가?"
   ]
  },
  {
   "cell_type": "markdown",
   "id": "6e5b3537",
   "metadata": {},
   "source": [
    "먼저 b는 리스트 a에 안에 있는 내용물을 append 3번 하는 것과 같고, c는 a라는 리스트를 곱하기 3을 한것과 같으므로 저라한 결과 나온다\n",
    "여기서 a[0]를 0으로 바꾸었는데, b는 원래의 결과값과 같고, c는 a[0]번째가 바뀐체로 출력된다. 왜냐하면 b는 a의 내용물을 래퍼런스를 하고 c는 a라는 리스트를 래퍼런스하고 있기때문에 다음과 같은 결과가 나옵니다."
   ]
  },
  {
   "cell_type": "markdown",
   "id": "44eb2966",
   "metadata": {},
   "source": [
    "# 4. 다음 문자열을 ':'을 기준으로 분리하여 리스트로 만들고 각 문자열의 좌우 공백을 제거하시오 (즉, 문자열 S에서 l을 만들어라)"
   ]
  },
  {
   "cell_type": "code",
   "execution_count": 85,
   "id": "a71b4035",
   "metadata": {},
   "outputs": [
    {
     "name": "stdout",
     "output_type": "stream",
     "text": [
      "['first star', 'second star', 'third star']\n"
     ]
    }
   ],
   "source": [
    "s = '  first star   :   second star   :    third star  '\n",
    "i = []\n",
    "sc = ''\n",
    "s = s.split(':')\n",
    "i = [ch.strip() for ch in s]\n",
    "print(i) "
   ]
  },
  {
   "cell_type": "markdown",
   "id": "2e93055b",
   "metadata": {},
   "source": [
    "먼저 :을 기준으로 split을 하고, 리스트 내포방식을 이용해 i라는 리스트에 s안에 들어있는 값을 조사고 공백을 모두 제거한 뒤 넣어주게 했습니다."
   ]
  },
  {
   "cell_type": "markdown",
   "id": "7ed5fb75",
   "metadata": {},
   "source": [
    "# 5. 다음과 같이 0보다 큰 정수 리스트 변수 list를 인자로 받는 함수 addall(list)와 addallodd(list)를 for ~ in 리터널과 리스트 내포 방식으로 각각 제시하시오."
   ]
  },
  {
   "cell_type": "markdown",
   "id": "ebed7757",
   "metadata": {},
   "source": [
    "1) addall(list) 함수 (리스트 내의 모든 정수를 더하는 함수로서 해답으로는 for ~ in 리터럴과 리스트 내포 방식으로 각각 제시하시오.)"
   ]
  },
  {
   "cell_type": "code",
   "execution_count": 142,
   "id": "009da36e",
   "metadata": {},
   "outputs": [],
   "source": [
    "def addall(list):\n",
    "    return sum([ch for ch in list])\n",
    "def addallver2(list):\n",
    "    sum = 0\n",
    "    for ch in list:\n",
    "        sum = sum + ch\n",
    "    return sum"
   ]
  },
  {
   "cell_type": "code",
   "execution_count": 143,
   "id": "7337ec27",
   "metadata": {},
   "outputs": [
    {
     "name": "stdout",
     "output_type": "stream",
     "text": [
      "45\n",
      "45\n"
     ]
    }
   ],
   "source": [
    "a = [1, 2, 3, 4, 5, 6, 7, 8, 9]\n",
    "print(addall(a))\n",
    "print(addallver2(a))"
   ]
  },
  {
   "cell_type": "markdown",
   "id": "48f20e9e",
   "metadata": {},
   "source": [
    "리스트 내포방식을 이용하여 return에 리스트안에 모두 더하는 함수인 sum을 사용하여 바로 리스트에 넣어 return해주었고, for ~ in리터널은 for함수를 사용하여 받은 리스트를 하나하나를 sum변수에 더해주어 sum을 return시켜주는 방법으로 했습니다."
   ]
  },
  {
   "cell_type": "markdown",
   "id": "4442bddc",
   "metadata": {},
   "source": [
    "2) addallodd(list) 함수 (리스트내의 모든 홀수를 더하는 함수로서 해답으로는 for ~ in 리터럴과 리스트 내포 방식으로 각각 제시하시오.)"
   ]
  },
  {
   "cell_type": "code",
   "execution_count": 144,
   "id": "642d716e",
   "metadata": {},
   "outputs": [],
   "source": [
    "def addallodd(list):\n",
    "    return sum([ch for ch in list if ch%2 != 0 ])\n",
    "def addalloddver2(list):\n",
    "    sum = 0\n",
    "    for ch in list:\n",
    "        if ch%2 !=0:\n",
    "            sum = sum + ch\n",
    "    return sum"
   ]
  },
  {
   "cell_type": "code",
   "execution_count": 145,
   "id": "8dcfa964",
   "metadata": {},
   "outputs": [
    {
     "name": "stdout",
     "output_type": "stream",
     "text": [
      "25\n",
      "25\n"
     ]
    }
   ],
   "source": [
    "a = [1, 2, 3, 4, 5, 6, 7, 8, 9]\n",
    "print(addallodd(a))\n",
    "print(addalloddver2(a))"
   ]
  },
  {
   "cell_type": "markdown",
   "id": "4a88e3ce",
   "metadata": {},
   "source": [
    "리스트 내포방식을 이용하여 위에 했던 방법에서 뒤에 if문을 추가해주어 return시켜주었고, for ~ in리터럴 방법은 for문을 이용하여 리스트 안에 있는 값을 하나하나 if문을 이용하여 검사하여 홀수인 것만 sum에 더해주고 sum을 return시켰습니다."
   ]
  },
  {
   "cell_type": "markdown",
   "id": "34442cc3",
   "metadata": {},
   "source": [
    "# 6. 다음 코드를 보고 물음에 답하시오."
   ]
  },
  {
   "cell_type": "code",
   "execution_count": 146,
   "id": "c252cfc6",
   "metadata": {},
   "outputs": [
    {
     "name": "stdout",
     "output_type": "stream",
     "text": [
      "{'low': [1, 2, 3], 'high': [4, 5, 6]}\n",
      "{'low': [1, 2, 3], 'high': [4, 5, 6]}\n",
      "{'low': [1, 2, 3], 'high': [4, 5, 6]}\n",
      "\n",
      "{'low': [10, 20, 30], 'high': [4, 500, 6]}\n",
      "{'low': [10, 20, 30], 'high': [4, 500, 6]}\n",
      "{'low': [1, 2, 3], 'high': [4, 500, 6]}\n"
     ]
    }
   ],
   "source": [
    "L1 = [1, 2, 3]\n",
    "L2 = [4, 5, 6]\n",
    "d = {'low':L1, 'high':L2}\n",
    "e = d\n",
    "f = d.copy()\n",
    "print(d)\n",
    "print(e)\n",
    "print(f)\n",
    "print()\n",
    "d['low'] = [10, 20, 30]\n",
    "d['high'][1] = 500\n",
    "print(d)\n",
    "print(e)\n",
    "print(f)"
   ]
  },
  {
   "cell_type": "markdown",
   "id": "f75b4813",
   "metadata": {},
   "source": [
    "1) 위 코드의 수행 결과 d와 e는 항상 같은 결과를 출력한다. 그 이유는 무엇인가?"
   ]
  },
  {
   "cell_type": "markdown",
   "id": "7d5d9d8a",
   "metadata": {},
   "source": [
    "d와 e는 똑같은 곳을 래퍼런스하고 있기 때문에 언제나 같은 결과를 출력합니다. "
   ]
  },
  {
   "cell_type": "markdown",
   "id": "bfa89b0e",
   "metadata": {},
   "source": [
    "2) 위 코드의 수행 결과 마지막 f의 내용은 다음과 같다. 이 때 'high' 키의 값 내용 중 500이 출력된 이유와 'low' 키의 값 내용 중 [1, 2, 3]이 출력된 이유를 설명하시오 ([hint]: shallow copy 관점에서 설명하시오.)\n",
    "{'high': [4, 500, 6], 'low': [1, 2, 3]}"
   ]
  },
  {
   "cell_type": "markdown",
   "id": "5e01f466",
   "metadata": {},
   "source": [
    "먼저 e는 같은 주소를 공유하고 있으므로 d의 값이 바뀌면 e의 값도 바뀌지만, f같은 경우 얕은 복사를 하고 있어 d의 값이 바뀌면 d가 가리키는 것이 달라지는 것이기에 f는 바뀌지않고, d['high'][1]의 경우 d와 f가 가리키는 곳을 의미하므로 값이 바뀌면 d와 f또한 바뀐다."
   ]
  },
  {
   "cell_type": "markdown",
   "id": "17811004",
   "metadata": {},
   "source": [
    "# 7. 사전 d = {'one':1, 'two':2, 'three':3, 'four':4, 'five':5}가 주어졌을 때 다음 요구사항에 맞는 코드를 제시하시오"
   ]
  },
  {
   "cell_type": "markdown",
   "id": "3bc272aa",
   "metadata": {},
   "source": [
    "- [참고]: d.keys(), d.values()를 통해 리스트를 얻어낸 후 리스트가 지니고 있는 sort(cmp=None, key=None, reverse=False)함수를 활용하시오.\n"
   ]
  },
  {
   "cell_type": "markdown",
   "id": "b54c27a5",
   "metadata": {},
   "source": [
    "- 1) 키의 알파벳 오름차순 순서대로 튜플 (키, 값)을 차례대로 출력하시오."
   ]
  },
  {
   "cell_type": "code",
   "execution_count": 189,
   "id": "163bcefa",
   "metadata": {
    "scrolled": true
   },
   "outputs": [
    {
     "name": "stdout",
     "output_type": "stream",
     "text": [
      "('five', 5)\n",
      "('four', 4)\n",
      "('one', 1)\n",
      "('three', 3)\n",
      "('two', 2)\n"
     ]
    }
   ],
   "source": [
    "d = {'one':1, 'two':2, 'three':3, 'four':4, 'five':5}\n",
    "d_key = d.keys()\n",
    "key_list = []\n",
    "for ch in d_key:\n",
    "    key_list.append(ch)\n",
    "key_list.sort()\n",
    "for ch in key_list:\n",
    "    print((ch, d[ch]))\n"
   ]
  },
  {
   "cell_type": "markdown",
   "id": "1d0daf6c",
   "metadata": {},
   "source": [
    "먼저 d의 키값을 뽑아내고, 새로운 리스트를 만들어 d의 키값들을 for문을 이용해 새로운 리스트에 넣어주고, 그 리스트를 정렬한 다음, for문을 이용해 키를 출력하고 벨류값을 출력했습니다."
   ]
  },
  {
   "cell_type": "markdown",
   "id": "8a2bb5d5",
   "metadata": {},
   "source": [
    "- 2) 키의 알파벳 내림차순 순서대로 튜플 (키, 값)을 차례대로 출력하시오."
   ]
  },
  {
   "cell_type": "code",
   "execution_count": 188,
   "id": "4b061c93",
   "metadata": {
    "scrolled": true
   },
   "outputs": [
    {
     "name": "stdout",
     "output_type": "stream",
     "text": [
      "('two', 2)\n",
      "('three', 3)\n",
      "('one', 1)\n",
      "('four', 4)\n",
      "('five', 5)\n"
     ]
    }
   ],
   "source": [
    "d = {'one':1, 'two':2, 'three':3, 'four':4, 'five':5}\n",
    "key_list = []\n",
    "d_key = d.keys()\n",
    "for ch in d_key:\n",
    "    key_list.append(ch)\n",
    "key_list.sort(reverse = True)\n",
    "for ch in key_list:\n",
    "    print((ch, d[ch]))"
   ]
  },
  {
   "cell_type": "markdown",
   "id": "0fa647f3",
   "metadata": {},
   "source": [
    "위의 방법과 동일하지만, sort시킬때 reverse를 True로 바꾸어 내림차순으로 정렬되게 만들었습니다."
   ]
  },
  {
   "cell_type": "markdown",
   "id": "2438f732",
   "metadata": {},
   "source": [
    "- 3) 값의 오름차순 순서대로 튜플 (키, 값)을 차례대로 출력하시오."
   ]
  },
  {
   "cell_type": "code",
   "execution_count": 133,
   "id": "3b02e8e4",
   "metadata": {
    "scrolled": true
   },
   "outputs": [
    {
     "name": "stdout",
     "output_type": "stream",
     "text": [
      "[2, 4, 6, 3, 5]\n",
      "('one', 2)\n",
      "('four', 3)\n",
      "('two', 4)\n",
      "('five', 5)\n",
      "('three', 6)\n"
     ]
    }
   ],
   "source": [
    "d = {'one':2, 'two':4, 'three':6, 'four':3, 'five':5}\n",
    "d_key = d.keys()\n",
    "list_key = []\n",
    "list_value = []\n",
    "list_newvalue = []\n",
    "d_value = d.values()\n",
    "\n",
    "for ch in d_value:\n",
    "    list_value.append(ch)\n",
    "for key in d.keys():\n",
    "    list_key.append(key)\n",
    "for ch in list_value:\n",
    "    list_newvalue.append(ch)\n",
    "print(list_newvalue)\n",
    "list_value.sort()\n",
    "a = 0\n",
    "for ch in list_value:\n",
    "    a = list_newvalue.index(ch)\n",
    "    print((list_key[a], ch))"
   ]
  },
  {
   "cell_type": "markdown",
   "id": "2ea0203b",
   "metadata": {},
   "source": [
    "먼저 key의 값과 value값을 넣을 리스트를 만들고, 정렬시키기 전 원래의 value를 담아줄 리스트를 하나 만들었습니다\n",
    "그리고 a의 변수를 선언 후 a에 원래의 value리스트의 정렬된 리스트 안에 값의 인덱스를 넣어줘서 key:value 짝을 맞추었습니다."
   ]
  },
  {
   "cell_type": "markdown",
   "id": "eb262185",
   "metadata": {},
   "source": [
    "- 4) 값의 내림차순 순서대로 튜플 (키, 값)을 차례대로 출력하시오."
   ]
  },
  {
   "cell_type": "code",
   "execution_count": 190,
   "id": "ca7196f0",
   "metadata": {},
   "outputs": [
    {
     "name": "stdout",
     "output_type": "stream",
     "text": [
      "('five', 5)\n",
      "('four', 4)\n",
      "('three', 3)\n",
      "('two', 2)\n",
      "('one', 1)\n"
     ]
    }
   ],
   "source": [
    "d = {'one':1, 'two':2, 'three':3, 'four':4, 'five':5}\n",
    "d_key = d.keys()\n",
    "list_key = []\n",
    "list_value = []\n",
    "list_newvalue = []\n",
    "d_value = d.values()\n",
    "for ch in d_value:\n",
    "    list_value.append(ch)\n",
    "for key in d.keys():\n",
    "    list_key.append(key)\n",
    "for ch in list_value:\n",
    "    list_newvalue.append(ch)\n",
    "list_value.sort(reverse = True)\n",
    "a = 0\n",
    "for ch in list_value:\n",
    "    a = list_newvalue.index(ch)\n",
    "    print((list_key[a], ch))"
   ]
  },
  {
   "cell_type": "markdown",
   "id": "50ea1908",
   "metadata": {},
   "source": [
    "위의 방법과 동일하고 내림차순으로 하기위해 sort함수를 쓸때 reverse를 True로 바꿔주면서 내림차순으로 정렬시켰습니다."
   ]
  },
  {
   "cell_type": "markdown",
   "id": "d0c10655",
   "metadata": {},
   "source": [
    "# 8. 다음 문제를 정확히 읽고 적합한 코딩을 제시하시오.\n",
    "- length(X)를 다음과 같이 정의한다 : 10진수로 표현된 X의 자릿수\n",
    "- Strange라는 숫자를 아래과 같이 정의한다.\n",
    "    - 음이 아닌 정수 중 자릿수가 1인 모든 숫자는 Strange이다.\n",
    "    - length(X) > 1 인 숫자 X 는 다음 2가지를 만족하면 Strange이다.\n",
    "        - X는 length(X)로 정확히 나누어 떨어진다.\n",
    "        - X / length(X) 가 strnage이다.\n",
    "\n",
    "- 이 문제에서 숫자 하나가 주어질 때, 이 숫자가 Strange인지 판단하는 함수 isStrange(num)을 작성하시오.\n",
    "- isStrange(num) 함수가 재귀적인 함수가 되도록 작성해 보세요."
   ]
  },
  {
   "cell_type": "code",
   "execution_count": 186,
   "id": "d29fa9ab",
   "metadata": {},
   "outputs": [],
   "source": [
    "def length(X):\n",
    "    n = 0\n",
    "    if X == 0:\n",
    "        n = 1\n",
    "    else:\n",
    "        while X>0:\n",
    "            X//=10\n",
    "            n+=1\n",
    "    return n\n",
    "def isStrange(num):\n",
    "    if(length(num) == 1 and num>=0):\n",
    "        return True\n",
    "    elif(length(num)>1 and num>=0):\n",
    "        if(num%length(num) == 0):\n",
    "            return True\n",
    "        else:\n",
    "            return False\n",
    "    if length(num/length(num))!= 1:\n",
    "            return isStrange((num/length(num)))"
   ]
  },
  {
   "cell_type": "code",
   "execution_count": 187,
   "id": "ba20955b",
   "metadata": {
    "scrolled": true
   },
   "outputs": [
    {
     "name": "stdout",
     "output_type": "stream",
     "text": [
      "1. num = 0                       => True\n",
      "2. num = 56                      => True\n",
      "3. num = 100                     => False\n",
      "4. num = 7882602506492313600     => True\n",
      "4. num = 6012302549522098651     => False\n"
     ]
    }
   ],
   "source": [
    "print(\"1. num = 0                       =>\", isStrange(0))\n",
    "print(\"2. num = 56                      =>\", isStrange(56))\n",
    "print(\"3. num = 100                     =>\", isStrange(100))\n",
    "print(\"4. num = 7882602506492313600     =>\", isStrange(7882602506492313600))\n",
    "print(\"4. num = 6012302549522098651     =>\", isStrange(6012302549522098651)) "
   ]
  },
  {
   "cell_type": "markdown",
   "id": "f6f745e7",
   "metadata": {},
   "source": [
    "먼저 자리수를 반환해줄 length()를 만들고, isStrange에서 length()를 호출함으로 num의 자리수를 받고, if문을 이용해 자리수가 1이면 True, 1을 넘어 섰을 때 num과 그 자리수가 정확히 나누어 떨어지면 True, 그리고 아니면은 False, 그리고 재귀함수를 어디서 사용해야할지 생각을 하다, 재귀함수를 넣는 다면 마지막에 알려준 X/length(x) 이곳말고는 생각이 나지않아 이곳에 재귀함수를 사용해주었습니다. 이곳에 재귀함수를 사용하게 된다면, 만약 num/length(num)의 자리수가 한자리면 계속 나누어 떨어지므로, 1이 아닐때만 재귀가 돌게끔 해주었습니다. "
   ]
  },
  {
   "cell_type": "markdown",
   "id": "b181adc7",
   "metadata": {},
   "source": [
    "# 9. 다음 문제를 정확히 읽고 적합한 코딩을 제시하시오.\n",
    "\n",
    "- 1번 그룹, 2번 그룹, ... n번 그룹으로 번호가 매겨진 총 n개의 그룹이 존재하고, ith 그룹에는 임의의 팀원 수 ai 명이 있다.\n",
    "  하나의 버스 정류장이 있고, 버스는 오직 한 대만 운영한다. 버스는 버스 정류장에 도착하고 모든 그룹은 버스를 통해 여행하길 원한다.\n",
    "  하지만, 같은 그룹에 속한 팀원들은 분리되기를 원치 않는다. 그래서 그룹의 모든 팀원이 탈 수 있을 때 에만 그 그룹은 버스에 탑승한다.\n",
    "  또한, 이들은 그룹의 번호순으로 여행을 하길 원한다. 예를 들어, 3번 그룹은 1번 그룹과 2번 그룹이 여행을 한 뒤에 버스를 탈 수 있거나, 1번     그룹과 2번 그룹이 이미 버스에 탑승한 상태에 있을 때 동시에 버스를 탈 수 있다.\n",
    "  마지막으로, 버스는 빈 좌석이 없을 때 에만 여행을 떠난다.\n",
    "\n",
    "\n",
    "- 이 문제에서 각 그룹의 팀원 수가 리스트로 주어질 때, 가능한 모든 버스의 사이즈 x(x명의 사람들이 동시에 탈 수 있음)를 반환하는 함수 solve(a) 를 작성하시오.\n",
    "- [주의] 반드시 계산 복잡도를 최대한 낮추세요. 아래 예시 3번을 실행했을 때 결과가 바로 나타날 수 있도록!!"
   ]
  },
  {
   "cell_type": "code",
   "execution_count": 198,
   "id": "32054769",
   "metadata": {},
   "outputs": [],
   "source": [
    "def solve(a):\n",
    "    sum = 0\n",
    "    totalsum = 0\n",
    "    result = False\n",
    "    listmax = max(a)\n",
    "    bus = listmax\n",
    "    index = 0\n",
    "    bus_size = []\n",
    "    ch_size = []\n",
    "    false_size = []\n",
    "    for ch in a:\n",
    "        totalsum+=ch\n",
    "    while bus<=totalsum//2:\n",
    "        if listmax<=bus<=totalsum:\n",
    "            for ch in range(len(a)):\n",
    "                sum+=a[ch]\n",
    "                if bus == sum:\n",
    "                    sum = 0\n",
    "                    result = True\n",
    "                    ch_size.append(ch)\n",
    "                else: \n",
    "                    result = False\n",
    "                    false_size.append(ch)\n",
    "            \n",
    "        if result:\n",
    "            bus_size.append(bus)\n",
    "            bus+=a[index]\n",
    "        else:\n",
    "            bus+=a[index]\n",
    "        if sum != 0:\n",
    "            sum = 0\n",
    "        ch_size.clear()\n",
    "    bus_size.append(totalsum)\n",
    "    bus_size.sort()\n",
    "    return bus_size"
   ]
  },
  {
   "cell_type": "code",
   "execution_count": 199,
   "id": "24db9661",
   "metadata": {
    "scrolled": false
   },
   "outputs": [
    {
     "name": "stdout",
     "output_type": "stream",
     "text": [
      "b =  [1, 1, 1, 1]  =>  [1, 2, 4]\n",
      "a =  [1, 2, 1, 1, 1, 2, 1, 3]  =>  [3, 4, 6, 12]\n"
     ]
    },
    {
     "ename": "MemoryError",
     "evalue": "",
     "output_type": "error",
     "traceback": [
      "\u001b[1;31m---------------------------------------------------------------------------\u001b[0m",
      "\u001b[1;31mMemoryError\u001b[0m                               Traceback (most recent call last)",
      "\u001b[1;32m<ipython-input-199-cf687a827402>\u001b[0m in \u001b[0;36m<module>\u001b[1;34m\u001b[0m\n\u001b[0;32m      4\u001b[0m \u001b[0mprint\u001b[0m\u001b[1;33m(\u001b[0m\u001b[1;34m\"b = \"\u001b[0m\u001b[1;33m,\u001b[0m \u001b[0mb\u001b[0m\u001b[1;33m,\u001b[0m \u001b[1;34m\" => \"\u001b[0m\u001b[1;33m,\u001b[0m \u001b[0msolve\u001b[0m\u001b[1;33m(\u001b[0m\u001b[0mb\u001b[0m\u001b[1;33m)\u001b[0m\u001b[1;33m)\u001b[0m\u001b[1;33m\u001b[0m\u001b[1;33m\u001b[0m\u001b[0m\n\u001b[0;32m      5\u001b[0m \u001b[0mprint\u001b[0m\u001b[1;33m(\u001b[0m\u001b[1;34m\"a = \"\u001b[0m\u001b[1;33m,\u001b[0m \u001b[0ma\u001b[0m\u001b[1;33m,\u001b[0m \u001b[1;34m\" => \"\u001b[0m\u001b[1;33m,\u001b[0m \u001b[0msolve\u001b[0m\u001b[1;33m(\u001b[0m\u001b[0ma\u001b[0m\u001b[1;33m)\u001b[0m\u001b[1;33m)\u001b[0m\u001b[1;33m\u001b[0m\u001b[1;33m\u001b[0m\u001b[0m\n\u001b[1;32m----> 6\u001b[1;33m \u001b[0mprint\u001b[0m\u001b[1;33m(\u001b[0m\u001b[1;34m\"c = \"\u001b[0m\u001b[1;33m,\u001b[0m \u001b[0ma\u001b[0m\u001b[1;33m,\u001b[0m \u001b[1;34m\" => \"\u001b[0m\u001b[1;33m,\u001b[0m \u001b[0msolve\u001b[0m\u001b[1;33m(\u001b[0m\u001b[0mc\u001b[0m\u001b[1;33m)\u001b[0m\u001b[1;33m)\u001b[0m\u001b[1;33m\u001b[0m\u001b[1;33m\u001b[0m\u001b[0m\n\u001b[0m",
      "\u001b[1;32m<ipython-input-198-8b8adce53205>\u001b[0m in \u001b[0;36msolve\u001b[1;34m(a)\u001b[0m\n\u001b[0;32m     21\u001b[0m                 \u001b[1;32melse\u001b[0m\u001b[1;33m:\u001b[0m\u001b[1;33m\u001b[0m\u001b[1;33m\u001b[0m\u001b[0m\n\u001b[0;32m     22\u001b[0m                     \u001b[0mresult\u001b[0m \u001b[1;33m=\u001b[0m \u001b[1;32mFalse\u001b[0m\u001b[1;33m\u001b[0m\u001b[1;33m\u001b[0m\u001b[0m\n\u001b[1;32m---> 23\u001b[1;33m                     \u001b[0mfalse_size\u001b[0m\u001b[1;33m.\u001b[0m\u001b[0mappend\u001b[0m\u001b[1;33m(\u001b[0m\u001b[0mch\u001b[0m\u001b[1;33m)\u001b[0m\u001b[1;33m\u001b[0m\u001b[1;33m\u001b[0m\u001b[0m\n\u001b[0m\u001b[0;32m     24\u001b[0m \u001b[1;33m\u001b[0m\u001b[0m\n\u001b[0;32m     25\u001b[0m         \u001b[1;32mif\u001b[0m \u001b[0mresult\u001b[0m\u001b[1;33m:\u001b[0m\u001b[1;33m\u001b[0m\u001b[1;33m\u001b[0m\u001b[0m\n",
      "\u001b[1;31mMemoryError\u001b[0m: "
     ]
    }
   ],
   "source": [
    "a =[1, 2, 1, 1, 1, 2, 1, 3]\n",
    "b = [1, 1, 1, 1]\n",
    "c=  [9999] * 10**5 \n",
    "print(\"b = \", b, \" => \", solve(b))\n",
    "print(\"a = \", a, \" => \", solve(a))\n",
    "print(\"c = \", a, \" => \", solve(c))"
   ]
  },
  {
   "cell_type": "markdown",
   "id": "287ecc0c",
   "metadata": {},
   "source": [
    "이 문제에서 테스트케이스 1과 2를 통과한 후 최대한 계산복잡도를 줄여보고자 했지만, 실패하여 이때 까지한 코드로 하겠습니다.\n",
    "먼저 while문을 bus가 함수에서 받은 리스트의 총합의 반을 넘어갈때 까지 돌렸는데, 최종 리스트의 최고값은 입력한 리스트를 다 더한 값이고, 최고보다 한 단계 낮은 값은 다 더한 값에 반이기 때문이다. 그리고 for을 돌려 sum이라는 변수에 리스트안에 있는 값을 더해주고 만야 bus와 같아진다면, result를 true로 만들어줍니다. 만약 같지 않다면 False로 해주어 다 돌았을 때 True이면 그때의 bus를 최종리스트에 넣어주는 방법으로 했습니다."
   ]
  },
  {
   "cell_type": "markdown",
   "id": "179e6985",
   "metadata": {},
   "source": [
    "# [Incremental Project 문제]\n",
    "이전 Assignment 2의 마지막 문제는 웹 URL로 지정된 웹페이지를 문자열로 가져와 모든 HTML 태그를 제외한 순수 텍스트를 얻어내고 그 안에 존재하는 단어를 추출하고 단어들의 총 개수를 출력하는 프로그램을 작성하는 것이었다. 이번에는 그 마지막 숙제를 그대로 확장하여 웹 URL로 지정된 웹페이지 내 순수 텍스트 안에 존재하는 각 단어들에 대해 다음 요구사항 대로 출력하는 프로그램을 작성하시오.¶\n",
    "\n",
    "- 요구사항 1. CSS와 Javascript 내용도 모두 제거하시오 (이전 숙제에서 이미 제외하였다면 본 요구사항 무시)\n",
    "- 요구사항 2. 순수 텍스트 안에 존재하는 단어들에 대해 string 모듈을 활용하여 모든 punctuation (구두문자)를 완벽히 제거하시오.\n",
    "    - 예: ['world!', ':', '+hello+', '~python$$$', '=', 'world'] ---> ['world', 'hello', 'python', 'world']\n",
    "    - 모든 punctuation을 확인하는 방법은 아래와 같다.\n",
    "        - import string\n",
    "        - print(string.punctuation)\n",
    "- 요구사항 3. 만약 punctuation (구두문자)를 제거한 이후 공백으로 판명되는 단어들은 해당 단어 리스트에서 제거하시오.\n",
    "    - 예: ['컴퓨터공학부!', '---?', '%지향~', '...'] ---> ['컴퓨터공학부', '', '지향', ''] ---> ['컴퓨터공학부', '지향']\n",
    "\n",
    "- 요구사항 3. 각 단어들의 출현빈도를 사전형태로 저장하여 출력하시오.\n",
    "    - 예: ['world', 'hello', 'python', 'world', '컴퓨터공학부', '지향'] ---> {'world': 2, 'hello': 1, 'python': 1, '컴퓨터공학부': 1, '지향': 1}\n",
    "\n",
    "- 요구사항 4. 다음 5개의 사이트에 대한 단어 출현빈도 결과를 출력하시오.\n",
    "    - http://cse.koreatech.ac.kr\n",
    "    -https://www.koreatech.ac.kr\n",
    "    -http://www.naver.com\n",
    "    -http://www.daum.net\n",
    "    -http://www.nytimes.com"
   ]
  },
  {
   "cell_type": "code",
   "execution_count": 156,
   "id": "7a30c686",
   "metadata": {
    "scrolled": false
   },
   "outputs": [
    {
     "name": "stdout",
     "output_type": "stream",
     "text": [
      "{'00': 1, '01': 9, '01일금05일화': 1, '02': 3, '02B': 2, '02일화': 1, '03': 6, '03일금07일화': 2, '04': 6, '04B': 2, '05': 4, '05일금09일화': 1, '06': 2, '07': 2, '08': 4, '08월': 1, '08일': 1, '08일금12일화': 1, '09': 4, '0900': 2, '09월': 5, '1': 5, '10': 3, '100': 1, '10월': 7, '10일': 2, '10일금14일화': 2, '11': 5, '1100': 4, '11월': 6, '12': 4, '12월': 4, '12일금16일화': 1, '13': 4, '1300': 2, '14': 4, '15': 4, '15일금19일화': 1, '16': 2, '17': 1, '17일금': 1, '17일금21일화': 1, '18': 1, '19시': 1, '19일': 1, '19일금23일화': 1, '1분반': 1, '2': 5, '20': 1, '2019': 1, '2020': 4, '2021': 5, '2021년': 5, '20일22일': 1, '21시': 1, '22일': 1, '22일금10월': 1, '23시': 5, '24일': 1, '24일금28일화': 1, '26일금30일화': 1, '26일화': 1, '29일금11월': 1, '2공학관': 1, '2분반': 1, '3': 3, '30': 2, '30분': 1, '31일화': 1, '36': 1, '4': 3, '409호': 1, '423호': 1, '5': 2, '59분': 5, 'About': 2, 'Activity': 2, 'Acts': 1, 'AddisonWesley': 1, 'Album': 2, 'All': 2, 'Alumni': 2, 'Any': 1, 'Areas': 2, 'Asterisks': 1, 'Attendance': 2, 'Awards': 2, 'Bennett': 1, 'Board숙제': 1, 'Books': 1, 'Brian': 1, 'CSE221': 1, 'Classes': 1, 'Click': 4, 'Code': 1, 'Copyright': 2, 'Course': 4, 'Courses': 2, 'CoursesnbspSince': 2, 'CoursesnbspUntil': 2, 'Current': 2, 'Date': 6, 'Dictionary': 1, 'Drobbox': 1, 'Due': 5, 'ELearning': 3, 'ESC': 1, 'Editor': 1, 'Email': 3, 'Evaluation': 1, 'Exam': 1, 'Fall': 2, 'Final': 1, 'Five': 1, 'Github': 1, 'Home': 1, 'Homework': 7, 'I': 3, 'II': 3, 'III': 1, 'Information': 1, 'Intelligent': 2, 'Introduction': 2, 'Invited': 2, 'John': 1, 'Jupyter': 1, 'KOREATECH': 3, 'LINK': 1, 'LINKKOREATECH': 1, 'Lab': 2, 'Laboratory': 3, 'Lecture': 18, 'Lecturer': 1, 'Level': 1, 'Location': 2, 'Logistics': 1, 'Markdown': 5, 'Math': 1, 'Meeting': 1, 'Members': 2, 'Midterm': 1, 'Networks': 2, 'News': 2, 'Next': 1, 'Note': 16, 'Notebook': 1, 'Notes': 1, 'Notice': 1, 'Old': 2, 'Online': 1, 'Overland': 1, 'Papers': 2, 'Partners': 1, 'Patents': 2, 'Prerequisites': 1, 'Professor': 2, 'Programming': 3, 'Projects': 2, 'Publications': 2, 'Pycharm': 1, 'Python': 3, 'Quiz': 1, 'RPN': 1, 'Random과': 1, 'Reference': 1, 'Research': 4, 'Reserved': 2, 'Rights': 2, 'Rm': 1, 'Room': 1, 'STEP': 1, 'Schedule': 1, 'Script': 3, 'Semester': 1, 'Seminar': 2, 'Set': 1, 'Standards': 2, 'StudentsMembers': 2, 'Supercharged': 1, 'Take': 1, 'Talks': 2, 'Tutorial': 1, 'URL': 3, 'URL은': 1, 'URL을': 3, 'Your': 2, 'Zoom': 2, 'a': 1, 'absence': 1, 'absences': 1, 'academic': 1, 'amp': 1, 'and': 3, 'are': 1, 'b': 1, 'based': 1, 'be': 2, 'but': 1, 'cheating': 1, 'class': 2, 'classmates': 1, 'copy': 2, 'copying': 1, 'course': 1, 'dd': 1, 'deduction': 2, 'educational': 1, 'evaluation': 1, 'exam': 4, 'final': 1, 'for': 1, 'from': 1, 'grade': 2, 'homework': 1, 'httpelkoreatechackr': 1, 'httpnbviewerjupyterorg': 2, 'httpnbviewerjupyterorgurlsdldropboxcomst9nmklgjkp7w4okkmeansipynb': 1, 'ie': 1, 'in': 5, 'integrity”': 1, 'intensive': 1, 'ipynb': 3, 'jupyter': 3, 'knowledge': 1, 'koir5660koreatechackr': 1, 'learned': 1, 'm': 1, 'midterm': 1, 'much': 1, 'nbsp': 9, 'nbviewer': 2, 'not': 2, 'notebook': 3, 'of': 6, 'on': 1, 'one': 1, 'or': 1, 'out': 1, 'points': 3, 'process': 1, 'professor': 1, 'relationships': 1, 'result': 3, 'set': 1, 'ten': 1, 'the': 7, 'there': 1, 'this': 2, 'to': 1, 'tolerate': 1, 'trust': 2, 'two': 1, 'undermine': 1, 'violate': 1, 'violations': 1, 'which': 1, 'will': 6, 'y': 1, 'yhhankoreatechackr': 1, 'yoweifkoreatechackr': 1, '–': 4, '‘F’': 2, '“Studentprofessor': 1, '“failure”': 1, '가상환경': 1, '가져오기': 1, '각': 1, '각자': 1, '강의': 10, '것': 1, '게시판': 1, '고급': 4, '고사': 2, '교수': 1, '교재': 2, '구글학술검색': 1, '구매': 1, '그리고': 2, '글쓰기로': 1, '금01A': 1, '금03A': 1, '금요일': 2, '금융': 1, '기간': 1, '기능': 3, '기말': 1, '기본': 1, '기초': 3, '길벗': 1, '까지': 1, '날짜': 1, '내에': 1, '내장': 1, '넘파이': 2, '다루기': 1, '다산정보관': 1, '다음': 1, '대면': 3, '대해': 1, '데이터': 1, '돌아보기': 3, '등록': 3, '따라서': 1, '라인': 2, '람다': 2, '로': 1, '리스트': 4, '마크다운': 1, '매직': 1, '메소드': 3, '메소드와': 1, '명령어': 1, '모듈': 1, '모듈과': 1, '모듈의': 1, '모드': 1, '문법': 1, '문법으로': 1, '문자열': 3, '및': 2, '바이너리': 1, '반드시': 1, '반복문': 1, '방법': 1, '방법을': 1, '버전으로': 1, '범위': 1, '베넷': 1, '변경': 2, '보여지는': 1, '본문에': 1, '브라이언': 1, '사용법': 4, '사용법은': 1, '사용하기': 1, '사용하여': 1, '사이트': 1, '사이트로': 1, '사이트를': 1, '사이트에': 1, '사전': 2, '생성': 2, '생성한': 1, '석사과정': 2, '설명시에': 1, '설정': 1, '설치': 1, '설치하기': 2, '셀': 1, '셀로': 2, '셀추가': 2, '소개': 1, '수': 1, '수업': 5, '수업조교TA': 1, '수치형': 1, '숙제': 4, '숙제를': 1, '숙제별로': 1, '스크립트': 1, '스킬업': 1, '시작하기': 1, '시작하기02': 1, '시작해야': 1, '시험': 1, '실시간': 2, '실시간오프라인': 1, '아래로': 1, '언어의': 1, '얻기': 2, '업로드': 2, '여러': 1, '역': 1, '연구실': 1, '연휴': 1, '예': 3, '예시': 1, '예외': 1, '오버랜드': 1, '오프라인': 2, '오프라인Zoom': 2, '오후': 1, '온라인': 6, '온라인상': 1, '외부': 1, '원서': 1, '위': 1, '위로': 1, '위치': 1, '이해': 1, '익힐': 1, '인정': 1, '인터넷에서': 1, '입력': 1, '입력해야': 1, '입출력': 1, '자료': 3, '자료형과': 1, '자료형의': 4, '자신만의': 1, '자신의': 1, '작성하고': 1, '작성한': 1, '저조인석': 1, '정리': 2, '정밀하게': 1, '제출': 2, '조건문': 1, '존': 1, '주교재': 1, '중간': 1, '지름길': 2, '지우기': 1, '지창훈': 1, '진도': 1, '집합': 1, '참고': 2, '처리': 1, '처음': 1, '첨단기술연구소': 1, '최요한': 1, '추석': 1, '출석': 1, '커맨드': 2, '컴퓨터': 1, '컴퓨터공학부': 1, '코드': 2, '코드를': 1, '코딩을': 1, '콘다': 1, '콘텐츠': 2, '클래스': 1, '클래스와': 1, '클래스의': 1, '텍스트': 1, '텍스트와': 1, '통하여': 1, '튜플': 2, '특징': 2, '파이썬': 16, '파이썬의': 7, '파일': 4, '파일에': 1, '패키지': 5, '평생교육원': 1, '포매팅하기': 1, '포맷팅': 1, '폴더로': 1, '프로그래밍': 1, '프로그래밍2019년': 1, '필수': 1, '학습': 1, '한국기술교육대학교': 3, '한국연구재단': 1, '한연희': 1, '함': 3, '함수': 4, '함수의': 2, '해당': 2, '해야': 1, '화01A': 1, '화03A': 1, '화요일': 2, '확인하고': 1, '환경에서': 1, '활용': 3, '활용과': 3, '후': 2}\n"
     ]
    }
   ],
   "source": [
    "import requests\n",
    "import string\n",
    "req = requests.get('http://link.koreatech.ac.kr/lecture/2021/script_programming')\n",
    "\n",
    "source = req.text\n",
    "d = True\n",
    "oh = ''\n",
    "sh = ''\n",
    "lh = ''\n",
    "po = ''\n",
    "char = '>'\n",
    "lista = []\n",
    "a = source\n",
    "b = '<style>'\n",
    "c = '</style>'\n",
    "f= '<script type=\"text/javascript\">'\n",
    "e ='</script>'\n",
    "for ch in range(len(a)):\n",
    "    if(a[ch:ch+31]==f):\n",
    "        d = False\n",
    "    elif(a[ch:ch+9] == e):\n",
    "        d= True\n",
    "    if d:\n",
    "        po = po + a[ch]\n",
    "for ch in range(len(po)):\n",
    "    if(po[ch:ch+7] == b):\n",
    "        d = False\n",
    "    elif(po[ch:ch+8] == c):\n",
    "        d= True\n",
    "    if d:\n",
    "        sh = sh + po[ch]\n",
    "\n",
    "for ch in range(len(sh)):\n",
    "    if(sh[ch] == '>'):\n",
    "        d = True\n",
    "    if(sh[ch] == '<'):\n",
    "        d = False\n",
    "    if d:\n",
    "        lh = lh + sh[ch]\n",
    "for x in range(len(char)):\n",
    "    lh = lh.replace(char[x],\"\")\n",
    "list = lh.split()\n",
    "pun = string.punctuation\n",
    "newlist = []\n",
    "for ch in pun:\n",
    "    for sh in list:\n",
    "        if sh == ch:\n",
    "            list.remove(sh)\n",
    "for ch in range(len(list)):\n",
    "    punout = ''.join([i for i in list[ch] if i not in string.punctuation])\n",
    "    newlist.append(punout)\n",
    "newlist.sort()\n",
    "dic = dict()\n",
    "for ch in newlist:\n",
    "    dic[ch] = 0\n",
    "for ch in dic.keys():\n",
    "    for sh in newlist:\n",
    "        if ch == sh:\n",
    "            dic[ch]+=1\n",
    "print(dic)"
   ]
  },
  {
   "cell_type": "markdown",
   "id": "9547672e",
   "metadata": {},
   "source": [
    "먼저 string.punctuation을 pun의 변수에 넣어주고, for문을 돌려 리스트에 punctuation이 있는지 검사하고 있다면 remove를 시켜주고, 그리고 리스트 내포방식과 join을 이용하여 리스트안에 있는 문자열에 punctuation이 있는지 검사하고 있다면 지워주게 했습니다.그리고 새로운 리스트를 만들고 제거된 문자열을 넣어주고, 구두문자가 없었던 문자열 또한 넣어주게 했습니다.\n",
    "다음으로 dic이라는 딕셔너리 변수를 만들고, for문을 이용해 dic에 newlist를 넣고 value를 0으로 만들고 다시한번 for문을 돌려 리스트 안에 같이 문자열이 있으면 value를 1씩 증가시켜주었습니다."
   ]
  },
  {
   "cell_type": "markdown",
   "id": "ee0699ac",
   "metadata": {},
   "source": [
    "소감문"
   ]
  },
  {
   "cell_type": "markdown",
   "id": "c668b167",
   "metadata": {},
   "source": [
    "9번문제의 계산복잡도를 최대한 낮추려 해보았지만, 실패하여 아쉽고, 시간이 나면 다시 도전하고 싶습니다."
   ]
  }
 ],
 "metadata": {
  "kernelspec": {
   "display_name": "Python 3",
   "language": "python",
   "name": "python3"
  },
  "language_info": {
   "codemirror_mode": {
    "name": "ipython",
    "version": 3
   },
   "file_extension": ".py",
   "mimetype": "text/x-python",
   "name": "python",
   "nbconvert_exporter": "python",
   "pygments_lexer": "ipython3",
   "version": "3.8.8"
  }
 },
 "nbformat": 4,
 "nbformat_minor": 5
}

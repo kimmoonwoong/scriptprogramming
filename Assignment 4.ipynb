{
 "cells": [
  {
   "cell_type": "markdown",
   "id": "7386ccf8",
   "metadata": {},
   "source": [
    "# 1. 다음 문제를 읽고 알맞은 코드를 제시하시오.\n",
    "\n",
    "1) 파일 s.txt 내의 다음 내용과 함께 아래 문제의 코드를 제시하시오.\n",
    "\n",
    "pig ham\n",
    "\n",
    "cat dog\n",
    "\n",
    "ham bird\n",
    "\n",
    "dog pig"
   ]
  },
  {
   "cell_type": "code",
   "execution_count": 117,
   "id": "14574eca",
   "metadata": {},
   "outputs": [
    {
     "name": "stdout",
     "output_type": "stream",
     "text": [
      "pig ham\n",
      "cat dog\n",
      "ham bird\n",
      "dog pig\n"
     ]
    }
   ],
   "source": [
    "with open(\"s.txt\", \"w\") as f:\n",
    "    f.write(\"pig ham\\n\")\n",
    "    f.write(\"cat dog\\n\")\n",
    "    f.write(\"ham bird\\n\")\n",
    "    f.write(\"dog pig\")\n",
    "with open(\"s.txt\" ,\"r\") as f:\n",
    "    print(f.read())"
   ]
  },
  {
   "cell_type": "markdown",
   "id": "6efb1293",
   "metadata": {},
   "source": [
    "파일 입출력에서 쓰기와 읽기를 통해 다음 내용을 출력했습니다."
   ]
  },
  {
   "cell_type": "markdown",
   "id": "196c3090",
   "metadata": {},
   "source": [
    "2) 파일 s.txt을 읽어서 각 라인에 있는 첫 번째 단어(문자열) 자체들을 기준으로 라인별 정렬후 파일 s1.txt에 그 결과를 기록하는 코드를 작성하시오. 즉, 프로그램 수행 후 s1.txt에 있는 파일 내용은 다음과 같다.\n",
    "\n",
    "cat dog\n",
    "\n",
    "dog pig\n",
    "\n",
    "ham bird\n",
    "\n",
    "pig ham"
   ]
  },
  {
   "cell_type": "code",
   "execution_count": 140,
   "id": "b5dc66a4",
   "metadata": {},
   "outputs": [
    {
     "name": "stdout",
     "output_type": "stream",
     "text": [
      "['pig ham', 'cat dog', 'ham bird', 'dog pig']\n",
      "['c', 'd', 'h', 'p']\n",
      "cat dog\n",
      "dog pig\n",
      "ham bird\n",
      "pig ham\n",
      "\n"
     ]
    }
   ],
   "source": [
    "list = []\n",
    "listB = []\n",
    "lastlist = []\n",
    "with open(\"s.txt\", \"w\") as f:\n",
    "    f.write(\"pig ham\\n\")\n",
    "    f.write(\"cat dog\\n\")\n",
    "    f.write(\"ham bird\\n\")\n",
    "    f.write(\"dog pig\")\n",
    "with open(\"s.txt\" ,\"r\") as f:\n",
    "    list.append(f.read())\n",
    "listA = list[0].split(\"\\n\")\n",
    "for ch in range(len(listA)):\n",
    "    listB.append(listA[ch][0])\n",
    "listB.sort()\n",
    "for i in listB:\n",
    "    for j in listA:\n",
    "        if(j[0] == i):\n",
    "            lastlist.append(j)\n",
    "            \n",
    "with open(\"s1.txt\", 'w') as f:\n",
    "    for i in lastlist:\n",
    "        f.write(i)\n",
    "        f.write(\"\\n\")\n",
    "with open(\"s1.txt\", 'r') as f:\n",
    "    print(f.read())"
   ]
  },
  {
   "cell_type": "markdown",
   "id": "98269a44",
   "metadata": {},
   "source": [
    "먼저 list에 파일을 읽은 것을 저장하고, 그 저장된 값에 \\n을 기준으로 split을 하여 수순 문자 리스틀을 얻고 그리고 각 문자열의 첫번쩨 문자만 뽑아와 리스트를 만들고 그 리스트를 정렬한 후 lastlist에 if문을 이용해 정렬된 문자열을 넣어줌으로 해결했습니다."
   ]
  },
  {
   "cell_type": "markdown",
   "id": "9ba938db",
   "metadata": {},
   "source": [
    "3) 파일 s.txt을 읽어서 각 라인에 있는 두 번째 단어(문자열) 자체들을 기준으로 라인별 정렬후 파일 s2.txt에 그 결과를 기록하는 코드를 작성하시오. 즉, 프로그램 수행 후 s2.txt에 있는 파일 내용은 다음과 같다.\n",
    "\n",
    "ham bird\n",
    "\n",
    "cat dog\n",
    "\n",
    "pig ham\n",
    "\n",
    "dog pig"
   ]
  },
  {
   "cell_type": "code",
   "execution_count": 141,
   "id": "ac01f0af",
   "metadata": {
    "scrolled": true
   },
   "outputs": [
    {
     "name": "stdout",
     "output_type": "stream",
     "text": [
      "['cat dog', 'ham bird', 'pig ham', 'dog pig']\n",
      "ham bird\n",
      "cat dog\n",
      "pig ham\n",
      "dog pig\n",
      "\n"
     ]
    }
   ],
   "source": [
    "list = []\n",
    "listB = []\n",
    "lastlist = []\n",
    "newlist = []\n",
    "with open(\"s.txt\", \"w\") as f:\n",
    "    f.write(\"pig ham\\n\")\n",
    "    f.write(\"cat dog\\n\")\n",
    "    f.write(\"ham bird\\n\")\n",
    "    f.write(\"dog pig\")\n",
    "with open(\"s.txt\" ,\"r\") as f:\n",
    "    list.append(f.read())\n",
    "listA = list[0].split(\"\\n\")\n",
    "for ch in range(len(listA)):\n",
    "    listB.append(listA[ch][1])\n",
    "\n",
    "listB.sort()\n",
    "\n",
    "for i in listB:\n",
    "    for j in listA:\n",
    "        if(j[1] == i):\n",
    "            lastlist.append(j)\n",
    "for i in lastlist:\n",
    "    if i not in newlist:\n",
    "        newlist.append(i)\n",
    "print(newlist)\n",
    "copylist = newlist[:]\n",
    "for ch in range(len(newlist)):\n",
    "    if ch +1 >= len(newlist):\n",
    "        break\n",
    "    \n",
    "    elif newlist[ch][1] == newlist[ch+1][1]:\n",
    "        if newlist[ch][2] < newlist[ch+1][2]:\n",
    "            newlist[ch] = newlist[ch]\n",
    "            newlist[ch+1] = newlist[ch+1]\n",
    "        elif newlist[ch][2] > newlist[ch+1][2]:\n",
    "            newlist[ch] = copylist[ch+1]\n",
    "            newlist[ch+1] = copylist[ch]\n",
    "with open(\"s1.txt\", 'w') as f:\n",
    "    for i in newlist:\n",
    "        f.write(i)\n",
    "        f.write(\"\\n\")\n",
    "with open(\"s1.txt\", 'r') as f:\n",
    "    print(f.read())"
   ]
  },
  {
   "cell_type": "markdown",
   "id": "02bcced1",
   "metadata": {},
   "source": [
    "앞에서와 마찬가지로 두번째 자리의 문자만 뽑아와 정렬시키고 그것을 이용해 정렬을 시켰습니다. 하지만 문자가 같은 경우가 있기에 정렬된 리스트를 카피한 카피리스트를 만들어 3번째 자리의 우선순위를 비교해서 위치를 바꿔주는 것으로 해결했습니다"
   ]
  },
  {
   "cell_type": "markdown",
   "id": "09cc238d",
   "metadata": {},
   "source": [
    "4) 파일 s.txt을 읽어서 각 라인들에 있는 모든 단어들을 순차적으로 다시 나열하되 각 라인에 세 개의 단어들이 오도록 하여 s3.txt에 기록하는 코드를 작성하시오. 즉, 프로그램 수행 후 s3.txt에 있는 파일 내용은 다음과 같다.\n",
    "\n",
    "pig ham cat\n",
    "\n",
    "dog ham bird\n",
    "\n",
    "dog pig"
   ]
  },
  {
   "cell_type": "code",
   "execution_count": 146,
   "id": "e8642a71",
   "metadata": {},
   "outputs": [
    {
     "name": "stdout",
     "output_type": "stream",
     "text": [
      "[['pig', 'ham'], ['cat', 'dog'], ['ham', 'bird'], ['dog', 'pig']]\n",
      "pig ham cat \n",
      "dog ham bird \n",
      "dog pig \n"
     ]
    }
   ],
   "source": [
    "list = []\n",
    "listB = []\n",
    "listC = []\n",
    "lastlist = []\n",
    "index = 1\n",
    "with open(\"s.txt\", \"w\") as f:\n",
    "    f.write(\"pig ham\\n\")\n",
    "    f.write(\"cat dog\\n\")\n",
    "    f.write(\"ham bird\\n\")\n",
    "    f.write(\"dog pig\")\n",
    "with open(\"s.txt\" ,\"r\") as f:\n",
    "    list.append(f.read())\n",
    "listA = list[0].split(\"\\n\")\n",
    "for ch in range(len(listA)):\n",
    "    listB.append(listA[ch].split(\" \"))\n",
    "print(listB)\n",
    "for ch in range(len(listB)):\n",
    "    for sh in range(len(listB[ch])):\n",
    "        listC.append(listB[ch][sh])\n",
    "with open(\"s1.txt\", 'w') as f:\n",
    "    for i in listC:\n",
    "        f.write(i)\n",
    "        f.write(\" \")\n",
    "        if index % 3 == 0:\n",
    "            f.write(\"\\n\")\n",
    "        index += 1\n",
    "with open(\"s1.txt\", 'r') as f:\n",
    "    print(f.read())"
   ]
  },
  {
   "cell_type": "markdown",
   "id": "d5b75a26",
   "metadata": {},
   "source": [
    "먼저 앞에서와 같이 파일을 읽어 리스트로 저장하고 새로운 리스트를 만들어 리스트 안의 내용들을 공백을 기준으로 split하여 저장해주었고,\n",
    "그리고 그 리스트를 또 다른 리스트를 만들어 순서대로 저장하게 해주었습니다. 마지막으로 파일을 쓸때 index 변수를 만들어 한 줄에 3개씩 표현\n",
    "하도록 했습니다."
   ]
  },
  {
   "cell_type": "markdown",
   "id": "3fcc658c",
   "metadata": {},
   "source": [
    "# 2. 다음과 같은 조건들을 참고하여 회원 가입 및 로그인 프로그램을 작성하시오.\n",
    "1) 프로그램 시작 후 다음과 같은 메시지가 출력되어 1, 2, 3 중 하나의 값을 입력 받도록 한다.\n",
    "Welcome to Our Service\n",
    "\n",
    "Sign Up\n",
    "Sign In\n",
    "Quit\n",
    "2) 1을 선택하면 ID, Password, Name, School의 4가지 정보를 입력받아 파일에 저장하는 프로그램을 작성한다.\n",
    "\n",
    "2-1) 입력된 내용은 access.txt 라는 이름의 텍스트 파일 내에 저장된다.\n",
    "\n",
    "2-2) access.txt 파일의 각 라인에는 가입된 회원 각각의 정보가 \"[id]: [password], [name], [school]\" 형태로 저장된다.\n",
    "\n",
    "2-3) 즉, 가입 회원이 10명이면 access.txt 파일 내에 라인 수도 정확히 10개이다.\n",
    "\n",
    "2-4) 암호화 방식은 sha 모듈을 활용한다. sha 모듈 활용 방법은 본 문제의 마지막에 제시된 sha 활용 예를 참고한다.\n",
    "\n",
    "즉, access.txt 파일 내에 password 정보는 암호화 되어 저장되어야 한다.\n",
    "\n",
    "2-5) 회원 정보를 입력 받을 때 id를 입력 받은 직후 access.txt를 확인하여 이미 존재하는 id가 입력되었다면 다음 메시지를 출력하고 id 정보를 다시 입력받는다.\n",
    "\n",
    "Sorry, the entered ID is already used.\n",
    "\n",
    "3) 2를 선택하면 ID, Password의 2가지 정보를 입력받는 프로그램을 작성한다.\n",
    "\n",
    "3-1) 입력된 ID 정보가 access.txt에 존재하지 않으면 다음과 같은 메시지를 출력하고 다시 입력받는다.\n",
    "\n",
    "Sorry, you are not a registered member\n",
    "\n",
    "3-2) 입력된 ID가 올바르게 존재하지만 Password 정보가 access.txt 파일에 있는 정보와 불일치하면 다음과 같은 메시지를 출력하고 Password를 다시 입력받는다.\n",
    "\n",
    "Sorry, the entered password is not correct.\n",
    "\n",
    "이 때에도 사용자가 입력한 Password 정보와 함께 sha 모듈이 활용되어야 한다.\n",
    "\n",
    "3-3) 입력된 ID와 Password가 모두 올바르면 다음과 같은 메시지를 출력한다.\n",
    "\n",
    "Hello [name]!\n",
    "\n",
    "위 [name]에는 access.txt에 기록되어 있는 name 정보를 출력한다.\n",
    "\n",
    "4) 3을 선택하면 프로그램이 끝난다.\n",
    "\n",
    "[참고] sha 모듈 활용 예\n"
   ]
  },
  {
   "cell_type": "code",
   "execution_count": 62,
   "id": "f551a9d2",
   "metadata": {},
   "outputs": [],
   "source": [
    "import hashlib\n",
    "def textInsert():\n",
    "    while True:\n",
    "        id = input(\"ID를 입력하시오\")\n",
    "        with open(\"access.txt\", \"r\") as f:\n",
    "            a = f.readlines()\n",
    "            result = True\n",
    "            for ch in a:\n",
    "                if id == ch[:ch.find(\":\")]:\n",
    "                    print(\"Sorry, the entered ID is already used.\")\n",
    "                    result = False\n",
    "                    break;\n",
    "        if result == True:\n",
    "            break\n",
    "    password = input(\"Password를 입려하시오\")\n",
    "    name = input(\"이름을 입력하시오\")\n",
    "    school = input(\"학교를 입력하시오\")\n",
    "    m = hashlib.sha256()\n",
    "    m.update(password.encode('utf-8'))\n",
    "    s= id + \":\" + m.hexdigest() + \", \" + name + \", \" + school + '\\n'\n",
    "    with open(\"access.txt\", 'a') as f:\n",
    "        f.write(s)\n",
    "        f.close   "
   ]
  },
  {
   "cell_type": "markdown",
   "id": "33e7232e",
   "metadata": {},
   "source": [
    "id를 입력받을 때 while문을 썼고, 그리고 result의 bool형 변수를 이용해 만약 id가 없다면 while문을 나가게 만들었습니다. 그리고 비교를 할때는 \n",
    "슬라이싱을 이용해 ':'이 나오기 전까지가 id인 것을 이용해 비교했습니다."
   ]
  },
  {
   "cell_type": "code",
   "execution_count": 152,
   "id": "b6b317ce",
   "metadata": {},
   "outputs": [],
   "source": [
    "def eq_idpas():\n",
    "    getid = \" \"\n",
    "    while True:\n",
    "        finalresult = False\n",
    "        isCheck = False\n",
    "        with open(\"access.txt\", 'r') as f:\n",
    "            i = f.readlines()\n",
    "            while True:\n",
    "                id = input(\"ID를 입력하시오\")\n",
    "                result = True\n",
    "                for ch in i:\n",
    "                    if id == ch[:ch.find(\":\")]:\n",
    "                        result = True\n",
    "                        isCheck = True\n",
    "                        getid = ch\n",
    "                        break\n",
    "                    else:\n",
    "                        isCheck = False\n",
    "                        result = False\n",
    "                    getid = \" \"\n",
    "                if isCheck == False:\n",
    "                    print(\"Sorry, you are not a registered member\")\n",
    "                if isCheck == True:\n",
    "                    break\n",
    "            if result == True:\n",
    "                while True:\n",
    "                    pasresult = True\n",
    "                    pas = input(\"Password를 입력하시오\")\n",
    "                    m = hashlib.sha256()\n",
    "                    m.update(pas.encode(\"utf-8\"))\n",
    "                    for ch in getid:\n",
    "                        if(m.hexdigest() == getid[getid.find(\":\")+1:getid.find(\",\")]):\n",
    "                            pasresult = True\n",
    "                            break\n",
    "                        else:\n",
    "                            print(\"Sorry, the entered password is not correct.\")\n",
    "                            pasresult = False\n",
    "                            break\n",
    "                    if pasresult == True:\n",
    "                        finalresult = True\n",
    "                        break\n",
    "            if finalresult == True:\n",
    "                rearfinal = True\n",
    "                break \n",
    "            \n",
    "        f.close\n",
    "    print(\"Hello\" + \" \" + getid[getid.find(\",\",0)+2:getid.rfind(',')] + \"!\")               "
   ]
  },
  {
   "cell_type": "markdown",
   "id": "717573df",
   "metadata": {},
   "source": [
    "시스템 전체를 while문으로 하고있고, id를 입력할 때도 while문을 써서 만약 등록된 id가 아니라면 다시 쓰게 하고, 맞다면은 bool형 변수를 사용해 id의 while문을 나가게 해주었습니다. 그리고 password도 동일하게 while문을 썼고, 입력받은 패스워드가 다르면 while문을 못나가고 만약 같다면 나가게 해주었습니다."
   ]
  },
  {
   "cell_type": "code",
   "execution_count": 154,
   "id": "afa704bd",
   "metadata": {},
   "outputs": [
    {
     "name": "stdout",
     "output_type": "stream",
     "text": [
      "Welcome to Our Service\n",
      "A. Sing Up\n",
      "B. Sing In\n",
      "C. Quit\n",
      "세가지중 선택하시오A\n",
      "ID를 입력하시오ansdnd8964\n",
      "Password를 입려하시오rlaansdnd205!\n",
      "이름을 입력하시오kimmoon\n",
      "학교를 입력하시오korea\n",
      "A. Sing Up\n",
      "B. Sing In\n",
      "C. Quit\n",
      "세가지중 선택하시오B\n",
      "ID를 입력하시오ansdnd8964\n",
      "Password를 입력하시오rlaansdnd205!\n",
      "Hello kimmoon!\n",
      "A. Sing Up\n",
      "B. Sing In\n",
      "C. Quit\n",
      "세가지중 선택하시오B\n",
      "ID를 입력하시오ansdnd887\n",
      "Sorry, you are not a registered member\n",
      "ID를 입력하시오ansndd777\n",
      "Sorry, you are not a registered member\n",
      "ID를 입력하시오ansdnd8964\n",
      "Password를 입력하시오rlaansdnd205!\n",
      "Hello kimmoon!\n",
      "A. Sing Up\n",
      "B. Sing In\n",
      "C. Quit\n",
      "세가지중 선택하시오C\n"
     ]
    }
   ],
   "source": [
    "import hashlib\n",
    "print(\"Welcome to Our Service\")\n",
    "while True:\n",
    "    print(\"A. Sing Up\")\n",
    "    print(\"B. Sing In\")\n",
    "    print(\"C. Quit\")\n",
    "    s = input(\"세가지중 선택하시오\")\n",
    "    if s == \"A\":\n",
    "        textInsert()\n",
    "    elif s == \"B\":\n",
    "        eq_idpas()\n",
    "    elif s == \"C\":\n",
    "        break"
   ]
  },
  {
   "cell_type": "markdown",
   "id": "8b5d182f",
   "metadata": {},
   "source": [
    "A를 누르면 Sing Up, B를 누르면 Sing In, C를 누르면 Quit을 구현했고, while문을 써서 Quit을 이용하게 했습니다."
   ]
  },
  {
   "cell_type": "markdown",
   "id": "5c036bb0",
   "metadata": {},
   "source": [
    "# 3. range() 함수와 유사한 frange() 함수를 다음 조건을 참고하여 만드시오.\n",
    "\n",
    "1) frange()의 인자 구성은 다음과 같이 range와 동일하지만 각 인수들은 음수를 받지 않는다고 가정한다.\n",
    "\n",
    "    range(stop)\n",
    "\n",
    "    range(start, stop[, step])\n",
    "\n",
    "2) frange() 함수의 인자에 대한 기본 시작(start) 값은 0.0이고, 기본 단계(step) 값은 0.1이다.\n",
    "\n",
    "3) frange 사용 예\n",
    "\n",
    "3-1) frange(0.5)\n",
    "\n",
    "    [0.0, 0.1, 0.2, 0.3, 0.4]\n",
    "\n",
    "3-2) frange(1.0, 2.0)\n",
    "\n",
    "    [1.0, 1.1, 1.2, 1.3, 1.4, 1.5, 1.6, 1.7, 1.8, 1.9]\n",
    "\n",
    "3-3) frange(2.2, 4.0, 0.5)\n",
    "\n",
    "    [2.2, 2.7, 3.2, 3.7]"
   ]
  },
  {
   "cell_type": "code",
   "execution_count": 56,
   "id": "40309fde",
   "metadata": {},
   "outputs": [
    {
     "name": "stdout",
     "output_type": "stream",
     "text": [
      "[0.0, 0.1, 0.2, 0.3, 0.4]\n",
      "[1.0, 1.1, 1.2, 1.3, 1.4, 1.5, 1.6, 1.7, 1.8, 1.9]\n",
      "[2.2, 2.7, 3.2, 3.7]\n"
     ]
    }
   ],
   "source": [
    "def frange(start = 0.0, stop = -1, step = 0.1):\n",
    "    list = []\n",
    "    if(stop == -1):\n",
    "        stop = start\n",
    "        start = 0.0\n",
    "    while True:\n",
    "        list.append(round(start,1))\n",
    "        start += step\n",
    "        if round(start,1) >=round(stop,1):\n",
    "            break\n",
    "    return list\n",
    "print(frange(0.5))\n",
    "print(frange(1.0, 2.0))\n",
    "print(frange(2.2,4.0,0.5))    "
   ]
  },
  {
   "cell_type": "markdown",
   "id": "b0e463c8",
   "metadata": {},
   "source": [
    "start, stop, step을 위와같이 디폴트값을 주었고, 만약 stop이 -1이라면 stop값을 start로 바꾸고, start를 0.0으로 만들어주었습니다. 그리고 while문을 써서 start를 step만큼 증가시키고 리스트에 append를 시켜주고, start가 stop보다 크거나 같으면 while문을 빠져나오게 했습니다.\n",
    "그리고 부동소수점을 처리하기 위해 반올림을 해주어 처리했습니다."
   ]
  },
  {
   "cell_type": "markdown",
   "id": "765bb81b",
   "metadata": {},
   "source": [
    "# 4.가변인수를 받는 함수 sum()을 다음과 같은 조건을 참고하여 구현하시오\n",
    "\n",
    "- sum() 사용 예\n",
    "\n",
    "    sum()\n",
    "    \n",
    "    0\n",
    "\n",
    "    sum(1, 2)\n",
    "    \n",
    "    3\n",
    "\n",
    "    sum(1, 2, 3, 4, 5)\n",
    "    \n",
    "    15\n",
    "\n",
    "    sum(1, 5, 7, 2, -10)\n",
    "    \n",
    "    5"
   ]
  },
  {
   "cell_type": "code",
   "execution_count": 147,
   "id": "ec87e31a",
   "metadata": {},
   "outputs": [
    {
     "name": "stdout",
     "output_type": "stream",
     "text": [
      "0\n",
      "3\n",
      "15\n",
      "5\n"
     ]
    }
   ],
   "source": [
    "def sum(*args):\n",
    "    sums = 0\n",
    "    for ch in args:\n",
    "        sums += ch\n",
    "    return sums\n",
    "\n",
    "print(sum())\n",
    "print(sum(1, 2))\n",
    "print(sum(1, 2, 3, 4, 5))\n",
    "print(sum(1, 5, 7, 2, -10))\n"
   ]
  },
  {
   "cell_type": "markdown",
   "id": "75d88ee0",
   "metadata": {},
   "source": [
    "sum함수에 가변인수를 넣고, 가변인수를 이용해 받은 값 만큼 for문을 돌리고 그 값을 sums변수에 더하여 sums변수를 return시켜 해결했습니다."
   ]
  },
  {
   "cell_type": "markdown",
   "id": "f939886b",
   "metadata": {},
   "source": [
    "# 5. 여러 단어로 이루어진 문자열을 입력받아 각 단어의 첫글자로 이루어진 단어를 대문자로 출력하는 myinitial() 함수를 다음 조건을 참고하여 작성하시오.\n",
    "\n",
    "1) 다음에 제시되는 함수들을 모두 이용해야 한다.\n",
    "\n",
    "    - split\n",
    "    - map\n",
    "    - join\n",
    "    \n",
    "2) myinitial() 함수 사용 예\n",
    "\n",
    "    - myinitial(\"as soon as possible\")\n",
    "        - ASAP\n"
   ]
  },
  {
   "cell_type": "code",
   "execution_count": 1,
   "id": "244059c3",
   "metadata": {
    "scrolled": true
   },
   "outputs": [
    {
     "name": "stdout",
     "output_type": "stream",
     "text": [
      "ASAP\n"
     ]
    }
   ],
   "source": [
    "def myinitial(string):\n",
    "    listA =string.split(\" \")\n",
    "    y = list(map(lambda x: x[0].upper(), listA))\n",
    "    s= ''.join(y)\n",
    "    return s\n",
    "    \n",
    "x = \"as soon as possible\"\n",
    "print(myinitial(x))"
   ]
  },
  {
   "cell_type": "markdown",
   "id": "15d41542",
   "metadata": {},
   "source": [
    "받은 문자열을 공백을 기준으로 split을 하고, map과 lambda함수를 이용해 split을 하여 얻은 리스트의 각 요소의 첫번째 자리를 대문자로 바꾼 것을 list에 저장해주었습니다. 마지막으로 join을 사용하여 리스트를 문자열로 바꾸고 return해주었 습니다."
   ]
  },
  {
   "cell_type": "markdown",
   "id": "275643d5",
   "metadata": {},
   "source": [
    "# 6. 음이 아닌 정수 n를 입력받으면 n! (factorial)을 계산하는 myfact() 함수를 재귀적 함수로 구현하시오.\n",
    "- [옵션] 참을 수 있는 정도 만큼의 수행시간을 직접 기다려보면서 n을 늘려보도록 합시다."
   ]
  },
  {
   "cell_type": "code",
   "execution_count": 182,
   "id": "f5c4cf84",
   "metadata": {},
   "outputs": [
    {
     "name": "stdout",
     "output_type": "stream",
     "text": [
      "505952377564956574235399487483041822888119906495646428420108128343971780124357271627183187181901985489257810723352466337235751018907859251483748076712221335242456072511956620861657068464658696977275319548308128323491783917474904823913336186702557231203052281424187828395416859857650094981705373496768015046695461677805249020166776518284295970082765903694461122649954549098532765643831376261157499518461143563135097922059297592457480472528808956521277781996009697748813767752317901993583593064711390389256539592213382336750436174727185984611760421291141324911097267225552199730476774453050697842602214070935344031411264401893900574346899099074352438646458875367356096148179163702062404569627599604398082394992936879385517649368601293248572380303208752748532898279993016519568119152122997226350756743992971418437596814731963479245017081663815882070810350128181274021195041969125382972166350502231430456320751213523019414063808516433867248249458204960649567320833484525228075044368117053546317603246367348305223651166741619208572954894754963564906549900945718620560144664619176792361928902055495486766678111048939613458737412922392294514406609754352193128612689646312984389391384542004936977915717862835284618842815353884331578173485518049245163406721754394757532153630949794490352956706658643356384827761671051127033493861835851858266803047303528721645085359830071308178059987895159485448770011421607061291723072538712061663843713634472913489277136293532711346437784150028750732691015545860917019871467854175069186555128848527975507743980014621065347175998899503889555524246048425283036762865132185738163019720604486888790649229080920897997356932714808171903128984446953736128013641915138607295668586443278128585861795381105865300374543687713038363463734625326242378569900174429119032387561641410316557859320181006422069507062358883630822542555165462364329302020473271497387715792071820765665790638352153555764538517631260623412723313093124092432789491632554073948827390735545716441923238289865340885387413615546454862536340143133279001626002846851251985749608403099376032761637880189487407395316371555518384151347805569454991207771447814049085283309396973938146616587548492080685353361421300685402925961961594457843812808323627052444494531230842541527876374091449199498505040454348872835833672606472991662324687936591415102700920099451882798533790160819905229463966579386064091196159794033606595148486318974279886252625281882417946278062935437494064201030712069959884123056091383908894582389150116181563280017248260639726389219082618229436407923655677520787696484231955335749934869835829529232873565123341894383043689415677290245298872397296236062684486528804501714047715809281111825145284594085527682612469161079097724306324717717370616852498132614961555068777564065642212901785044040759229586430531033571738833642484102909150553156027449172810226051647526127119143506842908589132811939877335365609394825488767298324967689803294237085972150685775692210531284369176050389712589027201065029068982183877762434780175410176411293776022903071007023268833118929966361919876102344186026867789948320263121167877330315760562199392980017581153413893390806854924128901636586801254240778519544856193062608281831069246248690202744846293153414312300720120488144461290066803974638049281133970882034227745035365268761916176529984894968882158839745651008741895339444483102420184236636656503952076535669164343850080510907764043670290796001080548105515761735330566670042746571098546589282620109426209884181482355186402707898206641430425001620671967112727455983421839234154954288153498865505042532193748772902749650088676740366711134605696859906919405304391865790833479216987711960824939008151644804857062230211669069733854091647246315171830638665160173141295848165892546880585459436607927176474071620899667956618334059746950873938562409188599241938567067170692849335683578966128411131236518266361726453493044283429562907397961739920262899101091557097458225429801892281994203718754852487125577824395869704288849547013579105355501910384793072992984186683937908935816601954766367685950245149761678601855600240560451474616640462771914114328102885542174972636486024811157948367110693824340795404853680662792040710852726375081527919472495980882595698444686925765216736741417065761432093611761958622217033877441500445781888826033981568474678352598856427653847134498181718363645160970117611198237806641968770399090817865908899097634156897883286063770636278923699777992330368066454906593057270525484589748275601744312937497807614063496206864488956347571208678713857351251986907901301155119653872991190512442242526972487566285913946822301636688681655324235085482760023655672140754322321687858963519125110309264260832864639362761076410076399273686859052245563539008740456478742972074915912598042429112715276797080483484822698765501490430410978494396869083392852410845191024762745118937835484291069818760572045299004832186854889093147675598707363973119450033863038330685809160394058978787332058962616408131153575731817837715853975139168133864169744811491217996493870236325772162182489527457900879728203741482655364355939821462687169262142215976857618362012820567379046490311453885812795002452094207230799870176163322437919683639287666135370401815833833114157811898800783684850036382330136730920295573939818328117306643485779261792831821615739553610107679284541695364939657683746178542760118788613838308936469819427291942011685629577480903614801233083214880029478804996040922186274075836756880804024306078751473402908273251646747992644309725929690164954923031579740513944424076760724123662993821684545937599720064648741572624012685336283652494850265165491710714116374718489034729818280389918959040385125552773949761595076511255097735742149514700239890510147693892465104050405925290340225256290247354872111938446371065651977972020396615781202590783439160203919245603491084569341628299982296116764683113780777390921400474959343950454243439772316470197613709313374203286255015141696789916941932106840344433822594804423071598055281167282171780011466022383650523904986419378845041609455851735293524289387419978210692206302846111773391488175884121102570766897002872703145900033371681393798014544425397255200765468172768570535980920261758464497062501938150472688373769489767558588943257503967378934038491593905386896680129514085292610357934575551496717705414023438716150545440995752904251918923448418223156270058694405255050170867464300372799423619454006883636624680995003769658469030613696236936432069590913382591773157686138328499407784406427308805760759216414925733287713963049493696399382385752236778315567618527900838466462251053761666931318703304661654026328368628876754259925621774699287851246861910845584625608916871935351626827663388730660445798602673640720613960683859065468530587682219591775317089012936269062742766542323135936800322925330833758684418563126325826007396617007834217576725275993610108562544798619626536400277088314201459204383823376559943634430809754806647054466439571225841739621532058941853482752809345093162308901404855233474085243121022418317848999217370129424792306080763705958365013033311530366136930553424436332618971344403186596683093976160965358502597713321038168748925230956815570105995634684054037999913797591638272704582788809169713089976586905012505250924187891686723238511522302073579758158912744029159463165911781806567781258042549923403774721567302720941897494341666584621373121753575105984289757730937867014241826012173778451101146637465044455471909853246060847358204554009205055968763184964159539920129319487624308928830155282689112619749820454152892727555967564143362354220295682215993530992721667609801435444589589598847755289197930460551226323858814103011419655108254159920621031411833690169900373926961071064012696440626630653113890239678769466209364900318934579927782472728196734195503919675356415269316704586534036749990612630025583699768295835742208376937327058309669264558472243712025144898820706116786736088328767049707940907607077728112791287799898737446268042773013232285623381907584849757921426968276132505010829220774454431445160714392448234608332463967141786186867411318473367495692266264774383213263461870491802448140275996364999495942699301677345564954135247466914996254290661281441421798303037648923046578424982193421649853808640000000000000000000000000000000000000000000000000000000000000000000000000000000000000000000000000000000000000000000000000000000000000000000000000000000000000000000000000000000000000000000000000000000000000000000000000000000000000000000000000000000000000000000000000000000000000000000000000000000000000000000000000000000000000000000000000000000000000000000000000000000000000000000000000000000000000000000000000000000000000000000000000000000000000000000000000000000000000000000000000000000000000000000000000000000000000000000000000000000000000000000000000000000000000000000000000000000000000000000000000000000000000000000000000000000000000000000000000000000000000000000000000000000000000000000000000000000000000000000000000000000000000000\n"
     ]
    }
   ],
   "source": [
    "def myfact(n):\n",
    "    if n == 1:      \n",
    "        return 1    \n",
    "    return n * myfact(n - 1)    \n",
    " \n",
    "print(myfact(2958))"
   ]
  },
  {
   "cell_type": "markdown",
   "id": "44a96f87",
   "metadata": {},
   "source": [
    "재귀함수를 사용해 팩토리얼을 구현했습니다 그리고 2958까지 계산이 되는 것을 확인 했습니다."
   ]
  },
  {
   "cell_type": "markdown",
   "id": "8e3e43fd",
   "metadata": {},
   "source": [
    "# 7. (서술형) import string 과 from string import * 의 차이점을 설명하시오."
   ]
  },
  {
   "cell_type": "markdown",
   "id": "e60dc8b9",
   "metadata": {},
   "source": [
    "import를 사용할 경우는 모듈 안의 함수를 사용할 때 모듈명을 쓰고 함수이름을 쓰지만, from을 사용할 경우 모듈안에 있는 함수의 이름을 바로 사용할 수 있다."
   ]
  },
  {
   "cell_type": "markdown",
   "id": "92ffa634",
   "metadata": {},
   "source": [
    "# [Incremental Project 문제]\n",
    "- 이전 Assignment 3의 마지막 문제는 웹 URL로 지정된 웹페이지를 문자열로 가져와 모든 HTML 태그 및 CSS와 Javascript를 제외한 순수 텍스트를 얻어내고 그 안에 존재하는 단어를 추출하여 각 단어들에 대해 출현빈도를 사전형태({'world': 2, 'hello': 1, 'python': 1})로 저장하여 출력하는 것이었다. 이번에는 Assignment 3를 확장하여 다음과 같은 조건을 만족하도록 구현하시오"
   ]
  },
  {
   "cell_type": "code",
   "execution_count": 121,
   "id": "35acaa26",
   "metadata": {},
   "outputs": [],
   "source": [
    "import requests\n",
    "import string\n",
    "import pickle\n",
    "def Informationreturn(getHtml):\n",
    "    req = requests.get(getHtml)\n",
    "\n",
    "    source = req.text\n",
    "\n",
    "    with open(getHtml[getHtml.find('//')+2:] + '.html','a', encoding='UTF8') as f:\n",
    "        f.write(source)\n",
    "    d = True\n",
    "    oh = ''\n",
    "    sh = ''\n",
    "    lh = ''\n",
    "    po = ''\n",
    "    char = '>'\n",
    "    s = ''\n",
    "    lista = []\n",
    "    a = source\n",
    "    b = '<style>'\n",
    "    c = '</style>'\n",
    "    f= '<script type=\"text/javascript\">'\n",
    "    e ='</script>'\n",
    "    for ch in range(len(a)):\n",
    "        if(a[ch:ch+31]==f):\n",
    "            d = False\n",
    "        elif(a[ch:ch+9] == e):\n",
    "            d= True\n",
    "        if d:\n",
    "            po = po + a[ch]\n",
    "    for ch in range(len(po)):\n",
    "        if(po[ch:ch+7] == b):\n",
    "            d = False\n",
    "        elif(po[ch:ch+8] == c):\n",
    "            d= True\n",
    "        if d:\n",
    "            sh = sh + po[ch]\n",
    "\n",
    "    for ch in range(len(sh)):\n",
    "        if(sh[ch] == '>'):\n",
    "            d = True\n",
    "        elif(sh[ch] == '<'):\n",
    "            d = False\n",
    "        if d:\n",
    "            lh = lh + sh[ch]\n",
    "    for x in range(len(char)):\n",
    "        lh = lh.replace(char[x],\"\")\n",
    "    list = lh.split()\n",
    "    pun = string.punctuation\n",
    "    newlist = []\n",
    "    for ch in pun:\n",
    "        for sh in list:\n",
    "            if sh == ch:\n",
    "                list.remove(sh)\n",
    "    for ch in range(len(list)):\n",
    "        punout = ''.join([i for i in list[ch] if i not in string.punctuation])\n",
    "        newlist.append(punout)\n",
    "    newlist.sort()\n",
    "    dic = dict()\n",
    "    listC = []\n",
    "    listD  = []\n",
    "    with open(\"stop_words_english.txt\", 'rt', encoding='UTF8') as f:\n",
    "        i = f.readlines()\n",
    "        for ch in i:\n",
    "            if ch.find(\"\\n\") != -1:\n",
    "                listC.append(ch[:ch.find(\"\\n\")])\n",
    "            else:\n",
    "                listC.append(ch)\n",
    "    with open(\"hangel_stop.txt\", 'rt', encoding='UTF8') as p:\n",
    "        j = p.readlines()\n",
    "        for ch in j:\n",
    "            if ch.find('\\n') !=-1:\n",
    "                listD.append(ch[:ch.find(\"\\n\")])\n",
    "            else:\n",
    "                listD.append(ch)\n",
    "    for ch in listC:\n",
    "        for sh in newlist:\n",
    "            if ch == sh:\n",
    "                newlist.remove(sh)\n",
    "            \n",
    "    for ch in listD:\n",
    "        for sh in newlist:\n",
    "            if ch == sh:\n",
    "                newlist.remove(sh)\n",
    "    for ch in newlist:\n",
    "        if ch == '':\n",
    "            newlist.remove(ch)\n",
    "    for ch in newlist:\n",
    "        dic[ch] = 0\n",
    "    for ch in dic.keys():\n",
    "        for sh in newlist:\n",
    "            if ch == sh:\n",
    "                dic[ch]+=1\n",
    "    with open(getHtml[getHtml.find('//')+2:] +'.words_frequency.pickle', 'wb') as f:\n",
    "        pickle.dump(dic,f)\n",
    "    with open(getHtml[getHtml.find('//')+2:] +'.words_frequency.pickle', 'rb') as f:\n",
    "        a = pickle.load(f)\n",
    "    return a"
   ]
  },
  {
   "cell_type": "markdown",
   "id": "3669fe86",
   "metadata": {},
   "source": [
    "먼저 3번째 과제해서 했던 것에서 영어 불용어 txt파일을 읽어 listC에 저장했는데, \\n이 붙어있어 제거 한뒤에 저장했습니다. 한글 불용어도 마찬가지로 했고, 이제 이 리스트들을 이용해 불용어를 처리했습니다. 그리고 pickle을 이용해 딕셔너리 변수를 파일에 저장하고 그리고 a변수에 load한 것을 저장시키고 a를 리턴시켜주었습니다."
   ]
  },
  {
   "cell_type": "code",
   "execution_count": 138,
   "id": "725e8ffd",
   "metadata": {
    "scrolled": true
   },
   "outputs": [
    {
     "name": "stdout",
     "output_type": "stream",
     "text": [
      "naver:  [('전', 64), ('책방', 61), ('구독', 26)]\n",
      "cnn:  [('and', 123), ('media', 105), ('screen', 99)]\n",
      "github:  [('GitHub', 39), ('rarr', 26), ('and', 21)]\n",
      "daum:  [('osmac', 160), ('0', 102), ('suggestBox', 96)]\n",
      "bbc:  [('', 28), ('to', 22), ('The', 21)]\n",
      "단어를 입력하시오: 전 책방 Github To rarr\n",
      "['전', '책방', 'Github', 'To', 'rarr']\n",
      "[('naver: ', 2), ('cnn', 1), ('git', 1), ('daum', 0), ('bbc', 0)]\n"
     ]
    }
   ],
   "source": [
    "import operator\n",
    "naverlist = []\n",
    "cnnlist = []\n",
    "gitlist = []\n",
    "daumlist = []\n",
    "bbclist = []\n",
    "naver = Informationreturn(\"https://www.naver.com\")\n",
    "cnn = Informationreturn(\"http://www.cnn.com\")\n",
    "git = Informationreturn(\"https://github.com\")\n",
    "daum = Informationreturn(\"https://www.daum.net\")\n",
    "bbc = Informationreturn(\"https://www.bbc.com\") \n",
    "naverrankingtext= sorted(naver.items(), key=operator.itemgetter(1), reverse=True)\n",
    "cnnrangkintext =  sorted(cnn.items(), key=operator.itemgetter(1), reverse=True)\n",
    "gitrankingtext =  sorted(git.items(), key=operator.itemgetter(1), reverse=True)\n",
    "daumrankingtext =  sorted(daum.items(), key=operator.itemgetter(1), reverse=True)\n",
    "bbcrankingtext =  sorted(bbc.items(), key=operator.itemgetter(1), reverse=True)\n",
    "for ch in range(3):\n",
    "    naverlist.append(naverrankingtext[ch])\n",
    "    cnnlist.append(cnnrangkintext[ch])\n",
    "    gitlist.append(gitrankingtext[ch])\n",
    "    daumlist.append(daumrankingtext[ch])\n",
    "    bbclist.append(bbcrankingtext[ch])\n",
    "print(\"naver: \" , naverlist)\n",
    "print(\"cnn: \",cnnlist)\n",
    "print(\"github: \",gitlist)\n",
    "print(\"daum: \",daumlist)\n",
    "print(\"bbc: \",bbclist)\n",
    "text = input(\"단어를 입력하시오: \")\n",
    "list = text.split()\n",
    "print(list)\n",
    "navercount = 0\n",
    "cnncount = 0\n",
    "gitcount = 0\n",
    "daumcount = 0\n",
    "bbccount = 0\n",
    "with open(\"stop_words_english.txt\", 'rt', encoding='UTF8') as f:\n",
    "    i = f.readlines()\n",
    "    for ch in i:\n",
    "        if ch.find(\"\\n\") != -1:\n",
    "            listC.append(ch[:ch.find(\"\\n\")])\n",
    "        else:\n",
    "            listC.append(ch)\n",
    "with open(\"hangel_stop.txt\", 'rt', encoding='UTF8') as p:\n",
    "    j = p.readlines()\n",
    "    for ch in j:\n",
    "        if ch.find('\\n') !=-1:\n",
    "            listD.append(ch[:ch.find(\"\\n\")])\n",
    "        else:\n",
    "            listD.append(ch)\n",
    "for ch in listC:\n",
    "    for sh in list:\n",
    "        if ch == sh:\n",
    "            list.remove(sh)\n",
    "            \n",
    "for ch in listD:\n",
    "    for sh in list:\n",
    "        if ch == sh:\n",
    "            list.remove(sh)\n",
    "\n",
    "for ch in list:\n",
    "    if ch in naver:\n",
    "        navercount+=1\n",
    "    elif ch in cnn:\n",
    "        cnncount+=1\n",
    "    elif ch in git:\n",
    "        gitcount +=1\n",
    "    elif ch in daum:\n",
    "        daumcount+=1\n",
    "    elif ch in bbc:\n",
    "        bbccount+=1\n",
    "lastdict = {\"naver: \": navercount, \"cnn\": cnncount, \"git\": gitcount, \"daum\": daumcount, \"bbc\": bbccount}\n",
    "laststr = sorted(lastdict.items(), key=operator.itemgetter(1), reverse=True)\n",
    "print(laststr)"
   ]
  },
  {
   "cell_type": "markdown",
   "id": "716fa9a4",
   "metadata": {},
   "source": [
    "5개의 사이트의 불용어를 제거한 단어들의 출현빈도를 사전형태로 받아오고, sorted를 사용해 내림차순으로 정리하였고, 각 사이트의 제일 많이 나온 3개의 단어를 저장할 리스트를 만들어 그것을 출력시켰습니다. 그리고 이제 입력을 받으면 위에서 했던 불용어 처리 방식과 같이 입력 단어를 정리하였고, 이제 이 입력 단어를 리스트로 만들고 각 사이트별 딕셔너리에 입력한 단어가 있으면 점수가 오르게 해주었습니다. 그리고 점수가 가장 높은 사이트가 유사도 또한 가장 높다고 판단되게 했습니다."
   ]
  },
  {
   "cell_type": "markdown",
   "id": "f8f829af",
   "metadata": {},
   "source": [
    "# 소감문"
   ]
  },
  {
   "cell_type": "markdown",
   "id": "11c4c89f",
   "metadata": {},
   "source": [
    "파일 입출력을 제대로 다루어 보지 못했는데, 이번 시간에 제대로 공부 할 수 있어서 좋았고, 공부를 하다보니 이런 방법으로 html의 사이트 또한 만들 수 있다는 것을 알게되어 좋은 시간이었습니다."
   ]
  }
 ],
 "metadata": {
  "kernelspec": {
   "display_name": "Python 3",
   "language": "python",
   "name": "python3"
  },
  "language_info": {
   "codemirror_mode": {
    "name": "ipython",
    "version": 3
   },
   "file_extension": ".py",
   "mimetype": "text/x-python",
   "name": "python",
   "nbconvert_exporter": "python",
   "pygments_lexer": "ipython3",
   "version": "3.8.8"
  }
 },
 "nbformat": 4,
 "nbformat_minor": 5
}

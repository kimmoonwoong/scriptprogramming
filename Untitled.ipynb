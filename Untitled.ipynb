{
 "cells": [
  {
   "cell_type": "markdown",
   "id": "c393edc8",
   "metadata": {},
   "source": [
    "# 1. a=\"Hello Python\" 문자열을 Slicing과 연결 연산자 (+)를 사용하여 \"Python Hello\"로 변경하시오."
   ]
  },
  {
   "cell_type": "code",
   "execution_count": 6,
   "id": "c17ca51c",
   "metadata": {},
   "outputs": [
    {
     "name": "stdout",
     "output_type": "stream",
     "text": [
      "Python Hello\n"
     ]
    }
   ],
   "source": [
    "a = \"Hello Python\"\n",
    "a = a[6:] +\" \"+ a[0:5]\n",
    "print(a)"
   ]
  },
  {
   "cell_type": "markdown",
   "id": "da450aae",
   "metadata": {},
   "source": [
    "a에 Hello Python을 저장하고 슬라이스를 이용해 a의 6부터 끝까지 + 0부터 5까지의 인덱스를 더한다."
   ]
  },
  {
   "cell_type": "markdown",
   "id": "910d6cfe",
   "metadata": {},
   "source": [
    "# 2. b=\"Hello Python World\" 문자열을 Slicing과 연결 연산자 (+)를 사용하여 \"World Python Hello\"로 변경하시오."
   ]
  },
  {
   "cell_type": "code",
   "execution_count": 2,
   "id": "e4e78030",
   "metadata": {
    "scrolled": true
   },
   "outputs": [
    {
     "name": "stdout",
     "output_type": "stream",
     "text": [
      "World Python Hello\n"
     ]
    }
   ],
   "source": [
    "b = \"Hello Python World\"\n",
    "b= b[13:] + \" \"+ b[6:12] + \" \" + b[0:5]\n",
    "print(b)"
   ]
  },
  {
   "cell_type": "markdown",
   "id": "230dcdfb",
   "metadata": {},
   "source": [
    "b에 Hello Python World를 저장하고 b의 13부터 끝까지 + b의 6부터 12까지 + b의 0부터 5까지의 인덱스를 더한다."
   ]
  },
  {
   "cell_type": "markdown",
   "id": "f342e01a",
   "metadata": {},
   "source": [
    "# 3. c=\"Hello\"를 \"olleH\"로 변경하시오"
   ]
  },
  {
   "cell_type": "code",
   "execution_count": 1,
   "id": "659c039c",
   "metadata": {
    "scrolled": true
   },
   "outputs": [
    {
     "name": "stdout",
     "output_type": "stream",
     "text": [
      "olleH\n"
     ]
    }
   ],
   "source": [
    "c = \"Hello\"\n",
    "c= c[::-1]\n",
    "print(c)"
   ]
  },
  {
   "cell_type": "markdown",
   "id": "af9ae550",
   "metadata": {},
   "source": [
    "c에 Hello를 저장하고 확장슬라이스를 이용하여 c의 문자열을 반대로 출력한다."
   ]
  },
  {
   "cell_type": "markdown",
   "id": "a70e6e18",
   "metadata": {},
   "source": [
    " # 4. s=\"python\"에 대해 다음 문제를 풀어보시오.\n"
   ]
  },
  {
   "cell_type": "markdown",
   "id": "338661db",
   "metadata": {},
   "source": [
    "- s[0], s[0][0], s[0][0][0]은 각각 어떤 값이 나오는지 확인하고 그 이유를 나름대로 설명해 보시오."
   ]
  },
  {
   "cell_type": "code",
   "execution_count": 14,
   "id": "c6f4c884",
   "metadata": {
    "scrolled": false
   },
   "outputs": [
    {
     "name": "stdout",
     "output_type": "stream",
     "text": [
      "p\n",
      "p\n",
      "p\n"
     ]
    }
   ],
   "source": [
    "s = \"python\"\n",
    "print(s[0])\n",
    "print(s[0][0])\n",
    "print(s[0][0][0])"
   ]
  },
  {
   "cell_type": "markdown",
   "id": "857758d0",
   "metadata": {},
   "source": [
    "모두 s[0]은 p이므로 p가 나온다"
   ]
  },
  {
   "cell_type": "markdown",
   "id": "2dc1f253",
   "metadata": {},
   "source": [
    "- s[-100], s[100]은 값이 나오는지 에러가 나오는지 확인하고 그 결과에 대한 이유를 나름대로 설명해 보시오.\n"
   ]
  },
  {
   "cell_type": "code",
   "execution_count": 15,
   "id": "dcb36aa2",
   "metadata": {},
   "outputs": [
    {
     "ename": "IndexError",
     "evalue": "string index out of range",
     "output_type": "error",
     "traceback": [
      "\u001b[1;31m---------------------------------------------------------------------------\u001b[0m",
      "\u001b[1;31mIndexError\u001b[0m                                Traceback (most recent call last)",
      "\u001b[1;32m<ipython-input-15-142e48f823a8>\u001b[0m in \u001b[0;36m<module>\u001b[1;34m\u001b[0m\n\u001b[0;32m      1\u001b[0m \u001b[0ms\u001b[0m \u001b[1;33m=\u001b[0m \u001b[1;34m\"python\"\u001b[0m\u001b[1;33m\u001b[0m\u001b[1;33m\u001b[0m\u001b[0m\n\u001b[1;32m----> 2\u001b[1;33m \u001b[0mprint\u001b[0m\u001b[1;33m(\u001b[0m\u001b[0ms\u001b[0m\u001b[1;33m[\u001b[0m\u001b[1;33m-\u001b[0m\u001b[1;36m100\u001b[0m\u001b[1;33m]\u001b[0m\u001b[1;33m)\u001b[0m\u001b[1;33m\u001b[0m\u001b[1;33m\u001b[0m\u001b[0m\n\u001b[0m\u001b[0;32m      3\u001b[0m \u001b[0mprint\u001b[0m\u001b[1;33m(\u001b[0m\u001b[0ms\u001b[0m\u001b[1;33m[\u001b[0m\u001b[1;36m100\u001b[0m\u001b[1;33m]\u001b[0m\u001b[1;33m)\u001b[0m\u001b[1;33m\u001b[0m\u001b[1;33m\u001b[0m\u001b[0m\n",
      "\u001b[1;31mIndexError\u001b[0m: string index out of range"
     ]
    }
   ],
   "source": [
    "s = \"python\"\n",
    "print(s[-100])\n",
    "print(s[100])"
   ]
  },
  {
   "cell_type": "markdown",
   "id": "419f426d",
   "metadata": {},
   "source": [
    "s의 문자열의 인덱스를 넘어섰기 때문에 에러가 뜬다"
   ]
  },
  {
   "cell_type": "markdown",
   "id": "695da4ee",
   "metadata": {},
   "source": [
    "- s[-100, 100]은 값이 나오는지 에러가 나오는지 확인하고 그 결과에 대한 이유를 나름대로 설명해 보시오."
   ]
  },
  {
   "cell_type": "code",
   "execution_count": 19,
   "id": "af0a3325",
   "metadata": {
    "scrolled": true
   },
   "outputs": [
    {
     "ename": "TypeError",
     "evalue": "string indices must be integers",
     "output_type": "error",
     "traceback": [
      "\u001b[1;31m---------------------------------------------------------------------------\u001b[0m",
      "\u001b[1;31mTypeError\u001b[0m                                 Traceback (most recent call last)",
      "\u001b[1;32m<ipython-input-19-8e3036c87757>\u001b[0m in \u001b[0;36m<module>\u001b[1;34m\u001b[0m\n\u001b[1;32m----> 1\u001b[1;33m \u001b[0mprint\u001b[0m\u001b[1;33m(\u001b[0m\u001b[0ms\u001b[0m\u001b[1;33m[\u001b[0m\u001b[1;33m-\u001b[0m\u001b[1;36m100\u001b[0m\u001b[1;33m,\u001b[0m\u001b[1;36m100\u001b[0m\u001b[1;33m]\u001b[0m\u001b[1;33m)\u001b[0m\u001b[1;33m\u001b[0m\u001b[1;33m\u001b[0m\u001b[0m\n\u001b[0m",
      "\u001b[1;31mTypeError\u001b[0m: string indices must be integers"
     ]
    }
   ],
   "source": [
    "print(s[-100,100])"
   ]
  },
  {
   "cell_type": "markdown",
   "id": "cd7b89ae",
   "metadata": {},
   "source": [
    "s에 -100번째 문자가 없고, 100번째 문자도 없기때문에 오류가 발생한다."
   ]
  },
  {
   "cell_type": "markdown",
   "id": "a747eca8",
   "metadata": {},
   "source": [
    "- s[1:-1]의 결과를 확인하고 그 결과에 대한 이유를 정확하게 설명하시오."
   ]
  },
  {
   "cell_type": "code",
   "execution_count": 21,
   "id": "0796ac44",
   "metadata": {},
   "outputs": [
    {
     "name": "stdout",
     "output_type": "stream",
     "text": [
      "ytho\n"
     ]
    }
   ],
   "source": [
    "print(s[1:-1])"
   ]
  },
  {
   "cell_type": "markdown",
   "id": "d8d5b2aa",
   "metadata": {},
   "source": [
    "s[1]번째 문자인 y부터 마지막 인덱스전 까지를 출력하는거이기에 ytho가 나온다"
   ]
  },
  {
   "cell_type": "markdown",
   "id": "54be45da",
   "metadata": {},
   "source": [
    "- s[3:-3]의 결과를 확인하고 그 결과에 대한 이유를 정확하게 설명하시오."
   ]
  },
  {
   "cell_type": "code",
   "execution_count": 23,
   "id": "863b28e0",
   "metadata": {},
   "outputs": [
    {
     "name": "stdout",
     "output_type": "stream",
     "text": [
      "\n"
     ]
    }
   ],
   "source": [
    "s = \"python\"\n",
    "print(s[3:-3])"
   ]
  },
  {
   "cell_type": "markdown",
   "id": "e01333be",
   "metadata": {},
   "source": [
    "s[3]는 h이고 s[-3]또한 h이므로 두개 같기때문에 출력이 되지 않는다"
   ]
  },
  {
   "cell_type": "markdown",
   "id": "184a126c",
   "metadata": {},
   "source": [
    "# 5. for문을 활용하여 1부터 100사이의 홀수를 출력하시오."
   ]
  },
  {
   "cell_type": "code",
   "execution_count": 1,
   "id": "4c8ba66f",
   "metadata": {
    "scrolled": true
   },
   "outputs": [
    {
     "name": "stdout",
     "output_type": "stream",
     "text": [
      "1 3 5 7 9 11 13 15 17 19 21 23 25 27 29 31 33 35 37 39 41 43 45 47 49 51 53 55 57 59 61 63 65 67 69 71 73 75 77 79 81 83 85 87 89 91 93 95 97 99 "
     ]
    }
   ],
   "source": [
    "for a in range(100):\n",
    "    if(a%2 != 0):\n",
    "        print(a, end = ' ')"
   ]
  },
  {
   "cell_type": "markdown",
   "id": "a1fb06bc",
   "metadata": {},
   "source": [
    "for문을 이용해 100번 돌리고 a를 1씩 증가시킨다. 그리고 if문을 이용해 a가 홀수임을 확인하고 홀수이면 출력하게끔 했다."
   ]
  },
  {
   "cell_type": "markdown",
   "id": "666193fd",
   "metadata": {},
   "source": [
    "# 6. while문을 활용하여 1부터 100사이의 짝수의 합을 계산하여 출력하시오.\n"
   ]
  },
  {
   "cell_type": "code",
   "execution_count": 5,
   "id": "361b3939",
   "metadata": {},
   "outputs": [
    {
     "name": "stdout",
     "output_type": "stream",
     "text": [
      "2550\n"
     ]
    }
   ],
   "source": [
    "a=0\n",
    "b=0\n",
    "while a<100:\n",
    "    a= a+2\n",
    "    b = b+a\n",
    "\n",
    "print(b)"
   ]
  },
  {
   "cell_type": "markdown",
   "id": "a3419693",
   "metadata": {},
   "source": [
    "a를 2씩 증가시키고 그것을 b에 더하는 방식을 이용했습니다"
   ]
  },
  {
   "cell_type": "markdown",
   "id": "315aad67",
   "metadata": {},
   "source": [
    "# 7. 사용자로 부터 임의의 정수를 입력받고, 해당 숫자를 역순으로 출력하는 프로그램을 작성하시오."
   ]
  },
  {
   "cell_type": "code",
   "execution_count": 27,
   "id": "a452779a",
   "metadata": {},
   "outputs": [
    {
     "name": "stdout",
     "output_type": "stream",
     "text": [
      "정수를 입력하세요: 3125\n",
      "5 2 1 3\n"
     ]
    }
   ],
   "source": [
    "a = int(input(\"정수를 입력하세요: \"))\n",
    "b = 0\n",
    "f = a%10\n",
    "b =(a//10)%10\n",
    "c = (a//100)%10\n",
    "d = (a//1000)%10\n",
    "print(f,b,c,d)"
   ]
  },
  {
   "cell_type": "markdown",
   "id": "0cb73197",
   "metadata": {},
   "source": [
    "나머지를 구하는 것을 이용해 일의자리, 십의자리, 백의자리,천의자리를 구하고 일의자리부터 출력하게 했습니다."
   ]
  },
  {
   "cell_type": "markdown",
   "id": "ef1cd0c5",
   "metadata": {},
   "source": [
    "# 8. 사용자로 부터 정수를 입력받아서 1부터 그 사이에 존재하는 소수 (Prime number)를 출력하는 파이썬 프로그램을 작성하시오."
   ]
  },
  {
   "cell_type": "code",
   "execution_count": 13,
   "id": "7a272135",
   "metadata": {},
   "outputs": [
    {
     "name": "stdout",
     "output_type": "stream",
     "text": [
      "정수를 입력하세여100\n",
      "2 3 5 7 11 13 17 19 23 29 31 37 41 43 47 53 59 61 67 71 73 79 83 89 97 "
     ]
    }
   ],
   "source": [
    "a = int(input(\"정수를 입력하세여\"))\n",
    "for b in range(a+1):\n",
    "    result = True\n",
    "    if(b<2):\n",
    "        result = False\n",
    "    for c in range(2,b):\n",
    "        if(b%c ==0):\n",
    "            result = False\n",
    "    if result:\n",
    "        print(b, end = \" \")"
   ]
  },
  {
   "cell_type": "markdown",
   "id": "06bd0759",
   "metadata": {},
   "source": [
    "이중 for문과 bool형을 if문을 썼을 때 true이면 출력하는 것을 이용해서 코드를 작성했습니다"
   ]
  },
  {
   "cell_type": "markdown",
   "id": "d4ea607e",
   "metadata": {},
   "source": [
    "# 9. Kevin과 Stuart는 게임을 한다. 규칙은 아래와 같다.\n",
    "- 두 플레이어에게 같은 string, S, 가 주어진다.\n",
    "- 두 플레이어는 string S의 문자를 사용하여 substring을 만들어야 한다(중복 가능).\n",
    "- Stuart는 자음으로 시작하는 단어를 만들어야 한다.\n",
    "- Kevin은 모음으로 시작하는 단어를 만들어야 한다.\n",
    "- 게임은 두 플레이어가 만들 수 있는 모든 단어를 만들었을 때 끝난다.\n",
    "- 점수 계산 : substring 1개당 +1 점을 획득한다. (아래 그림 참고)\n",
    "\n",
    "사용자로 부터 대문자로 이루어진 string S를 입력받고, 승자와 그의 점수를 출력하는 프로그램을 작성하시오."
   ]
  },
  {
   "cell_type": "code",
   "execution_count": 33,
   "id": "180e916d",
   "metadata": {},
   "outputs": [
    {
     "name": "stdout",
     "output_type": "stream",
     "text": [
      " string s를 입력하세요: BANANA\n",
      "승자: Stuart 점수: 12\n"
     ]
    }
   ],
   "source": [
    "s = input(' string s를 입력하세요: ')\n",
    "kevinscore = 0\n",
    "stuartscore = 0\n",
    "count = 0\n",
    "for ch in s.upper():\n",
    "    if(ch.upper() != 'A' and ch.upper() != 'E' and ch.upper() != 'O' and ch.upper() != 'U' and ch.upper() !='I'):\n",
    "        stuartscore = stuartscore + len(s[count:len(s)])\n",
    "            \n",
    "    else:\n",
    "        kevinscore = kevinscore + len(s[count:len(s)])\n",
    "       \n",
    "    count = count + 1   \n",
    "\n",
    "if(kevinscore>stuartscore):\n",
    "    print('승자: Kevin 점수:', kevinscore)\n",
    "elif(stuartscore>kevinscore):\n",
    "    print('승자: Stuart 점수:', stuartscore)\n",
    "else:\n",
    "    print('무승부입니다')\n",
    "\n",
    "\n"
   ]
  },
  {
   "cell_type": "markdown",
   "id": "5824e386",
   "metadata": {},
   "source": [
    "for문을 통해 입력받은 문자열의 길이만큼 돌리고, 자음과 모음일 때를 if문을 통해 나누었습니다. 그리고 입력받은 문자열 s[i]번째가 자음일때 i번째부터 끝까지의 len값인 것을 찾아내고 그것을 공식화한것이 이 코드입니다."
   ]
  },
  {
   "cell_type": "markdown",
   "id": "f558a253",
   "metadata": {},
   "source": [
    "# 10. 알파벳 소문자만으로 이루어진 string, S, 가 주어지고 아래 2가지 연산을 수행할 수 있다.\n",
    "- 추가 : string S의 끝에 알파벳 소문자 하나를 추가한다.\n",
    "- 삭제 : string S의 마지막 문자 하나를 삭제한다. empty string에서 삭제 연산을 수행한 결과는 empty string이다.\n",
    "\n",
    "두 개의 string, s와 t, 그리고 정수 k가 주어질 때, 정확히 k번의 연산을 통해 s를 t로 바꿀 수 있는지 판단하는 함수를 작성하시오."
   ]
  },
  {
   "cell_type": "code",
   "execution_count": 3,
   "id": "f48c6eca",
   "metadata": {},
   "outputs": [
    {
     "name": "stdout",
     "output_type": "stream",
     "text": [
      "s = ashlis\n",
      "t = ash\n",
      "k = 2\n",
      " =>  NO\n"
     ]
    }
   ],
   "source": [
    "def appendDelete(s,t,k):\n",
    "    d = 0\n",
    "    count = 0\n",
    "    a = 'd'\n",
    "    for ch in s:\n",
    "        if(len(s)==len(t)):\n",
    "            if(s[d]==t[d]):\n",
    "                d= d+1\n",
    "            elif(s[d] != t[d]):\n",
    "                count = count + len(t[d:])\n",
    "                t = t[0:d]\n",
    "                t= t + s[d]\n",
    "                count = count +1\n",
    "                d= d+1\n",
    "        elif(len(s)>len(t)):\n",
    "            t = t + a\n",
    "            if(s[d]==t[d]):\n",
    "                d= d+1\n",
    "            else:\n",
    "                t = t[0:d]\n",
    "                t = t+s[d]\n",
    "                count = count+1\n",
    "                d =d+1\n",
    "\n",
    "        else:\n",
    "            t= t[0:len(s[0:])]\n",
    "            if(s[d]==t[d]):\n",
    "                d = d+1\n",
    "            \n",
    "    count =count -1\n",
    "    if(k>=count):\n",
    "        return 'YES'\n",
    "    elif(k<count):\n",
    "        return 'NO'\n",
    "\n",
    "se = input('s = ')\n",
    "te = input('t = ')\n",
    "ke = int(input('k = '))\n",
    "print(' => ',appendDelete(se,te,ke))\n"
   ]
  },
  {
   "cell_type": "markdown",
   "id": "fd600259",
   "metadata": {},
   "source": [
    "for문을 통해 s의 문자열의 길이만큼 돌리고, s의 문자열의 길이와 t의 문자열의 길이에 따라 if문으로 나누어 했습니다.\n",
    "왜냐하면 서로 같다면 틀려진 부분에서 끝까지 제거할 수 있기때문입니다.\n",
    "그리고 길이가 s가 더 길다면 s의 문자열 길이만큼 a라는 문자를 추가해주어 문자열 길이를 맞추어 주면서 다시 문자열 길이가 같을때의 if문으로 돌아가게 했습니다."
   ]
  }
 ],
 "metadata": {
  "kernelspec": {
   "display_name": "Python 3",
   "language": "python",
   "name": "python3"
  },
  "language_info": {
   "codemirror_mode": {
    "name": "ipython",
    "version": 3
   },
   "file_extension": ".py",
   "mimetype": "text/x-python",
   "name": "python",
   "nbconvert_exporter": "python",
   "pygments_lexer": "ipython3",
   "version": "3.8.8"
  }
 },
 "nbformat": 4,
 "nbformat_minor": 5
}

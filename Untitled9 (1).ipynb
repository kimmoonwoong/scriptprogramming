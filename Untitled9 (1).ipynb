{
 "cells": [
  {
   "cell_type": "markdown",
   "id": "b30b5ace",
   "metadata": {},
   "source": [
    "# 3. 머신 러닝 핵심 알고리즘"
   ]
  },
  {
   "cell_type": "markdown",
   "id": "d2cff673",
   "metadata": {},
   "source": [
    "## 3.1 지도학습"
   ]
  },
  {
   "cell_type": "markdown",
   "id": "cdfe9197",
   "metadata": {},
   "source": [
    "- 분류와 회귀\n",
    " - 분류: 주어진 데이터를 정해진 범주에 따라 분류\n",
    " \n",
    " - 회귀: 데이터들의 특성을 기준으로 연속된 값을 그래프로 표현하여 패턴이나 트렌드를 예측할때 사용"
   ]
  },
  {
   "cell_type": "markdown",
   "id": "b68eca6e",
   "metadata": {},
   "source": [
    "| 구분         | 분류                                 |  회귀                             |\n",
    "| ------------ |------------------------------------- |  -------------------------------- |\n",
    "| 데이터 유형  | 이산형 데이터                        |  연속형 데이터                    |\n",
    "| 결과         | 훈련 데이터의 레이블 중 하나를 예측  |  연속된 값을 예측                 |\n",
    "| 예시         | 학습 데이터를 A B C 중 하나로 매핑   |  결과값이 어떤 값이든 나올 수 있음|"
   ]
  },
  {
   "cell_type": "markdown",
   "id": "ca4cf0ce",
   "metadata": {},
   "source": [
    "  "
   ]
  },
  {
   "cell_type": "markdown",
   "id": "804b19aa",
   "metadata": {},
   "source": [
    "<img src= \"https://blog.kakaocdn.net/dn/bblCkC/btqEq8rEkUa/LM1DLkUgBku9ApbkTYX90K/img.png\" width=\"450px\" height=\"450px\">"
   ]
  },
  {
   "cell_type": "markdown",
   "id": "dc79ae0b",
   "metadata": {},
   "source": [
    "### 3.1.1 K-최근접 이웃"
   ]
  },
  {
   "cell_type": "markdown",
   "id": "7ed6ee4a",
   "metadata": {},
   "source": [
    "- K-최근접 이웃: 새로운 입력을 받았을 때 기존 클러스터에서 모든 데이터와 인스턴드 기반 거리를 측정한 후 가장 많은  \n",
    "                 속성을 가진 클러스터에 할당하는 \"분류\" 알고리즘"
   ]
  },
  {
   "cell_type": "markdown",
   "id": "52da68a9",
   "metadata": {},
   "source": [
    "<img src= \"data:image/png;base64,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\" width=\"450px\" height=\"450px\">"
   ]
  },
  {
   "cell_type": "markdown",
   "id": "b343695d",
   "metadata": {},
   "source": [
    "(k는 홀수로 해주는 것이 좋다. 왜냐하면, 동점이 발생할 수 있기 때문)"
   ]
  },
  {
   "cell_type": "markdown",
   "id": "e1c76881",
   "metadata": {},
   "source": [
    "### 왜 사용할까?  \n",
    "#### : 주어진 데이터에 대한 분류"
   ]
  },
  {
   "cell_type": "markdown",
   "id": "ec8ae356",
   "metadata": {},
   "source": [
    "### 언제 사용하면 좋을까?  \n",
    "  #### K-최근접 이웃은 직관적이면서 사용하기 쉬기때문에 초보가 사용하기 좋음  \n",
    "  훈련 데이터를 충분히 확보할 수 있는 환경에서 사용하기 좋음"
   ]
  },
  {
   "cell_type": "code",
   "execution_count": 10,
   "id": "18b64059",
   "metadata": {
    "scrolled": false
   },
   "outputs": [
    {
     "name": "stdout",
     "output_type": "stream",
     "text": [
      "^C\n",
      "Requirement already satisfied: numpy in c:\\users\\user\\anaconda3\\envs\\torch_book\\lib\\site-packages (1.23.1)\n",
      "Collecting pandas\n",
      "  Downloading pandas-1.4.4-cp39-cp39-win_amd64.whl (10.6 MB)\n",
      "     -------------------------------------- 10.6/10.6 MB 999.4 kB/s eta 0:00:00\n",
      "Collecting pytz>=2020.1\n",
      "  Downloading pytz-2022.2.1-py2.py3-none-any.whl (500 kB)\n",
      "     -------------------------------------- 500.6/500.6 kB 1.4 MB/s eta 0:00:00\n",
      "Requirement already satisfied: python-dateutil>=2.8.1 in c:\\users\\user\\anaconda3\\envs\\torch_book\\lib\\site-packages (from pandas) (2.8.2)\n",
      "Requirement already satisfied: numpy>=1.18.5 in c:\\users\\user\\anaconda3\\envs\\torch_book\\lib\\site-packages (from pandas) (1.23.1)\n",
      "Requirement already satisfied: six>=1.5 in c:\\users\\user\\anaconda3\\envs\\torch_book\\lib\\site-packages (from python-dateutil>=2.8.1->pandas) (1.16.0)\n",
      "Installing collected packages: pytz, pandas\n",
      "Successfully installed pandas-1.4.4 pytz-2022.2.1\n",
      "Collecting matplotlib\n",
      "  Downloading matplotlib-3.6.0-cp39-cp39-win_amd64.whl (7.2 MB)\n",
      "     ---------------------------------------- 7.2/7.2 MB 833.4 kB/s eta 0:00:00\n",
      "Requirement already satisfied: pyparsing>=2.2.1 in c:\\users\\user\\anaconda3\\envs\\torch_book\\lib\\site-packages (from matplotlib) (3.0.9)\n",
      "Requirement already satisfied: pillow>=6.2.0 in c:\\users\\user\\anaconda3\\envs\\torch_book\\lib\\site-packages (from matplotlib) (9.2.0)\n",
      "Requirement already satisfied: packaging>=20.0 in c:\\users\\user\\anaconda3\\envs\\torch_book\\lib\\site-packages (from matplotlib) (21.3)\n",
      "Collecting contourpy>=1.0.1\n",
      "  Downloading contourpy-1.0.5-cp39-cp39-win_amd64.whl (161 kB)\n",
      "     ------------------------------------ 162.0/162.0 kB 441.1 kB/s eta 0:00:00\n",
      "Collecting fonttools>=4.22.0\n",
      "  Downloading fonttools-4.37.2-py3-none-any.whl (959 kB)\n",
      "     ------------------------------------ 959.8/959.8 kB 524.1 kB/s eta 0:00:00\n",
      "Requirement already satisfied: python-dateutil>=2.7 in c:\\users\\user\\anaconda3\\envs\\torch_book\\lib\\site-packages (from matplotlib) (2.8.2)\n",
      "Collecting kiwisolver>=1.0.1\n",
      "  Downloading kiwisolver-1.4.4-cp39-cp39-win_amd64.whl (55 kB)\n",
      "     -------------------------------------- 55.4/55.4 kB 717.0 kB/s eta 0:00:00\n",
      "Collecting cycler>=0.10\n",
      "  Downloading cycler-0.11.0-py3-none-any.whl (6.4 kB)\n",
      "Requirement already satisfied: numpy>=1.19 in c:\\users\\user\\anaconda3\\envs\\torch_book\\lib\\site-packages (from matplotlib) (1.23.1)\n",
      "Requirement already satisfied: six>=1.5 in c:\\users\\user\\anaconda3\\envs\\torch_book\\lib\\site-packages (from python-dateutil>=2.7->matplotlib) (1.16.0)\n",
      "Installing collected packages: kiwisolver, fonttools, cycler, contourpy, matplotlib\n",
      "Successfully installed contourpy-1.0.5 cycler-0.11.0 fonttools-4.37.2 kiwisolver-1.4.4 matplotlib-3.6.0\n"
     ]
    }
   ],
   "source": [
    "!pip install pandas\n",
    "!pip install numpy\n",
    "!pip install matplotlib"
   ]
  },
  {
   "cell_type": "code",
   "execution_count": 14,
   "id": "6cf8cabb",
   "metadata": {},
   "outputs": [
    {
     "name": "stdout",
     "output_type": "stream",
     "text": [
      "Collecting scikit-learn\n",
      "  Downloading scikit_learn-1.1.2-cp39-cp39-win_amd64.whl (7.4 MB)\n",
      "     ---------------------------------------- 7.4/7.4 MB 1.5 MB/s eta 0:00:00\n",
      "Collecting joblib>=1.0.0\n",
      "  Downloading joblib-1.2.0-py3-none-any.whl (297 kB)\n",
      "     ------------------------------------ 298.0/298.0 kB 541.9 kB/s eta 0:00:00\n",
      "Collecting scipy>=1.3.2\n",
      "  Downloading scipy-1.9.1-cp39-cp39-win_amd64.whl (38.6 MB)\n",
      "     ---------------------------------------- 38.6/38.6 MB 2.0 MB/s eta 0:00:00\n",
      "Requirement already satisfied: numpy>=1.17.3 in c:\\users\\user\\anaconda3\\envs\\torch_book\\lib\\site-packages (from scikit-learn) (1.23.1)\n",
      "Collecting threadpoolctl>=2.0.0\n",
      "  Downloading threadpoolctl-3.1.0-py3-none-any.whl (14 kB)\n",
      "Installing collected packages: threadpoolctl, scipy, joblib, scikit-learn\n",
      "Successfully installed joblib-1.2.0 scikit-learn-1.1.2 scipy-1.9.1 threadpoolctl-3.1.0\n"
     ]
    }
   ],
   "source": [
    "!pip install scikit-learn"
   ]
  },
  {
   "cell_type": "markdown",
   "id": "8b0979e3",
   "metadata": {},
   "source": [
    "- 라이브러리 호출 및 데이터 준비"
   ]
  },
  {
   "cell_type": "code",
   "execution_count": 4,
   "id": "43133bba",
   "metadata": {},
   "outputs": [],
   "source": [
    "import numpy as np    # 벡터 및 행렬의 연산 처리를 위한 라이브러리\n",
    "import matplotlib.pyplot as plt  # 데이터를 차트나 플롯으로 그려 주는 라이브러리\n",
    "import pandas as pd            # 데이터 분석 및 조작을 위한 라이브러리\n",
    "from sklearn import metrics    # 모델 성능 평가\n",
    "names = ['sepal-length', 'sepal-width', 'petal-length', 'petal-width', 'Class']    # 데아터셋애 열 이름 저장\n",
    "dataset = pd.read_csv('C:/Users/user/Desktop/080289-main/chap03/data/iris.data', names=names) # 데이터를 판다스 데이터프레임에 저장"
   ]
  },
  {
   "cell_type": "markdown",
   "id": "c45f15a2",
   "metadata": {},
   "source": [
    "- 훈련과 테스트 데이터셋 분리"
   ]
  },
  {
   "cell_type": "code",
   "execution_count": 5,
   "id": "9d30690c",
   "metadata": {},
   "outputs": [],
   "source": [
    "X = dataset.iloc[:, :-1].values     # 모든 행을 사용하지만 열은 뒤에서 하나를 뺀 값을 가져와 x에 저장\n",
    "y = dataset.iloc[:, 4].values       # 모든 행을 사용하지만 열은 앞에서 다섯 번째 값만 가져와서 y에 저장\n",
    "\n",
    "from sklearn.model_selection import train_test_split\n",
    "X_train, X_test, y_train, y_test = train_test_split(X, y, test_size=0.20) # 훈련 셋과 데이터 셋으로 분리"
   ]
  },
  {
   "cell_type": "code",
   "execution_count": 6,
   "id": "62c81c2a",
   "metadata": {},
   "outputs": [],
   "source": [
    "from sklearn.preprocessing import StandardScaler\n",
    "s = StandardScaler()             # 툭성 스케일링. 평균이 0, 표준편차가 1이 되도록 반환\n",
    "\n",
    "X_train = s.fit_transform(X_train)  # 훈련 데이터를 스케일링 처리\n",
    "X_test = s.fit_transform(X_test)    # 테스트 데이터를 스케일링 처리"
   ]
  },
  {
   "cell_type": "markdown",
   "id": "bbef22d6",
   "metadata": {},
   "source": [
    "- 모델 생성 및 훈련"
   ]
  },
  {
   "cell_type": "code",
   "execution_count": 7,
   "id": "da635f28",
   "metadata": {},
   "outputs": [
    {
     "data": {
      "text/html": [
       "<style>#sk-container-id-1 {color: black;background-color: white;}#sk-container-id-1 pre{padding: 0;}#sk-container-id-1 div.sk-toggleable {background-color: white;}#sk-container-id-1 label.sk-toggleable__label {cursor: pointer;display: block;width: 100%;margin-bottom: 0;padding: 0.3em;box-sizing: border-box;text-align: center;}#sk-container-id-1 label.sk-toggleable__label-arrow:before {content: \"▸\";float: left;margin-right: 0.25em;color: #696969;}#sk-container-id-1 label.sk-toggleable__label-arrow:hover:before {color: black;}#sk-container-id-1 div.sk-estimator:hover label.sk-toggleable__label-arrow:before {color: black;}#sk-container-id-1 div.sk-toggleable__content {max-height: 0;max-width: 0;overflow: hidden;text-align: left;background-color: #f0f8ff;}#sk-container-id-1 div.sk-toggleable__content pre {margin: 0.2em;color: black;border-radius: 0.25em;background-color: #f0f8ff;}#sk-container-id-1 input.sk-toggleable__control:checked~div.sk-toggleable__content {max-height: 200px;max-width: 100%;overflow: auto;}#sk-container-id-1 input.sk-toggleable__control:checked~label.sk-toggleable__label-arrow:before {content: \"▾\";}#sk-container-id-1 div.sk-estimator input.sk-toggleable__control:checked~label.sk-toggleable__label {background-color: #d4ebff;}#sk-container-id-1 div.sk-label input.sk-toggleable__control:checked~label.sk-toggleable__label {background-color: #d4ebff;}#sk-container-id-1 input.sk-hidden--visually {border: 0;clip: rect(1px 1px 1px 1px);clip: rect(1px, 1px, 1px, 1px);height: 1px;margin: -1px;overflow: hidden;padding: 0;position: absolute;width: 1px;}#sk-container-id-1 div.sk-estimator {font-family: monospace;background-color: #f0f8ff;border: 1px dotted black;border-radius: 0.25em;box-sizing: border-box;margin-bottom: 0.5em;}#sk-container-id-1 div.sk-estimator:hover {background-color: #d4ebff;}#sk-container-id-1 div.sk-parallel-item::after {content: \"\";width: 100%;border-bottom: 1px solid gray;flex-grow: 1;}#sk-container-id-1 div.sk-label:hover label.sk-toggleable__label {background-color: #d4ebff;}#sk-container-id-1 div.sk-serial::before {content: \"\";position: absolute;border-left: 1px solid gray;box-sizing: border-box;top: 0;bottom: 0;left: 50%;z-index: 0;}#sk-container-id-1 div.sk-serial {display: flex;flex-direction: column;align-items: center;background-color: white;padding-right: 0.2em;padding-left: 0.2em;position: relative;}#sk-container-id-1 div.sk-item {position: relative;z-index: 1;}#sk-container-id-1 div.sk-parallel {display: flex;align-items: stretch;justify-content: center;background-color: white;position: relative;}#sk-container-id-1 div.sk-item::before, #sk-container-id-1 div.sk-parallel-item::before {content: \"\";position: absolute;border-left: 1px solid gray;box-sizing: border-box;top: 0;bottom: 0;left: 50%;z-index: -1;}#sk-container-id-1 div.sk-parallel-item {display: flex;flex-direction: column;z-index: 1;position: relative;background-color: white;}#sk-container-id-1 div.sk-parallel-item:first-child::after {align-self: flex-end;width: 50%;}#sk-container-id-1 div.sk-parallel-item:last-child::after {align-self: flex-start;width: 50%;}#sk-container-id-1 div.sk-parallel-item:only-child::after {width: 0;}#sk-container-id-1 div.sk-dashed-wrapped {border: 1px dashed gray;margin: 0 0.4em 0.5em 0.4em;box-sizing: border-box;padding-bottom: 0.4em;background-color: white;}#sk-container-id-1 div.sk-label label {font-family: monospace;font-weight: bold;display: inline-block;line-height: 1.2em;}#sk-container-id-1 div.sk-label-container {text-align: center;}#sk-container-id-1 div.sk-container {/* jupyter's `normalize.less` sets `[hidden] { display: none; }` but bootstrap.min.css set `[hidden] { display: none !important; }` so we also need the `!important` here to be able to override the default hidden behavior on the sphinx rendered scikit-learn.org. See: https://github.com/scikit-learn/scikit-learn/issues/21755 */display: inline-block !important;position: relative;}#sk-container-id-1 div.sk-text-repr-fallback {display: none;}</style><div id=\"sk-container-id-1\" class=\"sk-top-container\"><div class=\"sk-text-repr-fallback\"><pre>KNeighborsClassifier(n_neighbors=50)</pre><b>In a Jupyter environment, please rerun this cell to show the HTML representation or trust the notebook. <br />On GitHub, the HTML representation is unable to render, please try loading this page with nbviewer.org.</b></div><div class=\"sk-container\" hidden><div class=\"sk-item\"><div class=\"sk-estimator sk-toggleable\"><input class=\"sk-toggleable__control sk-hidden--visually\" id=\"sk-estimator-id-1\" type=\"checkbox\" checked><label for=\"sk-estimator-id-1\" class=\"sk-toggleable__label sk-toggleable__label-arrow\">KNeighborsClassifier</label><div class=\"sk-toggleable__content\"><pre>KNeighborsClassifier(n_neighbors=50)</pre></div></div></div></div></div>"
      ],
      "text/plain": [
       "KNeighborsClassifier(n_neighbors=50)"
      ]
     },
     "execution_count": 7,
     "metadata": {},
     "output_type": "execute_result"
    }
   ],
   "source": [
    "from sklearn.neighbors import KNeighborsClassifier\n",
    "knn = KNeighborsClassifier(n_neighbors=50)  # k=50인 k-최근접 이웃 모델 생성\n",
    "knn.fit(X_train, y_train)"
   ]
  },
  {
   "cell_type": "markdown",
   "id": "8a090460",
   "metadata": {},
   "source": [
    "- 모델 정확도 측정"
   ]
  },
  {
   "cell_type": "code",
   "execution_count": 8,
   "id": "30a96229",
   "metadata": {},
   "outputs": [
    {
     "name": "stdout",
     "output_type": "stream",
     "text": [
      "정확도: 0.8666666666666667\n"
     ]
    }
   ],
   "source": [
    "from sklearn.metrics import accuracy_score\n",
    "y_pred = knn.predict(X_test)\n",
    "print(\"정확도: {}\".format( accuracy_score(y_test, y_pred))) # 정확도 측정"
   ]
  },
  {
   "cell_type": "markdown",
   "id": "347579f1",
   "metadata": {},
   "source": [
    "- 최적의 K찾기"
   ]
  },
  {
   "cell_type": "code",
   "execution_count": 9,
   "id": "4f9cec50",
   "metadata": {},
   "outputs": [
    {
     "name": "stdout",
     "output_type": "stream",
     "text": [
      "정확도  1.0 으로 최적의 k는 5 입니다.\n"
     ]
    }
   ],
   "source": [
    "k=10\n",
    "acc_array=np.zeros(k)\n",
    "for k in np.arange(1,k+1,1): #for문을 통해 반복하면서 1~10 중 최적의 k를 찾음\n",
    "    classifier = KNeighborsClassifier(n_neighbors=k).fit(X_train,y_train) \n",
    "    y_pred = classifier.predict(X_test)\n",
    "    acc = metrics.accuracy_score(y_test, y_pred)\n",
    "    acc_array[k-1]=acc \n",
    "\n",
    "max_acc=np.amax(acc_array)\n",
    "acc_list=list(acc_array)\n",
    "k=acc_list.index(max_acc)\n",
    "print(\"정확도 \", max_acc, \"으로 최적의 k는\", k+1, \"입니다.\")"
   ]
  },
  {
   "cell_type": "markdown",
   "id": "5f630751",
   "metadata": {},
   "source": [
    "### 3.1.2 서포트 벡터 머신"
   ]
  },
  {
   "cell_type": "markdown",
   "id": "d8a3a789",
   "metadata": {},
   "source": [
    "- 서포트 벡터 머신: 분류를 위한 기준선을 정의하는 모델입니다. 즉, 분류되지 않은 새로운 데이터가 나타나면  \n",
    "                     결정 경계를 기준으로 경계의 어느쪽으로 속하는지 분류하는 모델입니다\n",
    "                    (결정 경계가 분류된 클래스에서 최대한 멀리 떨어져 있을 때 성능이 가장 좋음)"
   ]
  },
  {
   "cell_type": "markdown",
   "id": "ad059096",
   "metadata": {},
   "source": [
    "<img src= \"https://thebook.io/img/080263/071.jpg\" width=\"450px\" height=\"450px\">"
   ]
  },
  {
   "cell_type": "markdown",
   "id": "7cd90de5",
   "metadata": {},
   "source": [
    "### 왜 사용할까?  \n",
    "####  : 주어진 데이터에 대한 분류"
   ]
  },
  {
   "cell_type": "markdown",
   "id": "c060cfae",
   "metadata": {},
   "source": [
    "### 언제 사용하면 좋을까?  \n",
    ": 서포트 벡터 머신은 커널만 적절히 선택한다면 정확도가 상당히 좋다  \n",
    "  그렇기 때문에 정확도를 요구하는 분류 문제를 다룰 때 사용하면 좋다"
   ]
  },
  {
   "cell_type": "markdown",
   "id": "a6ab4685",
   "metadata": {},
   "source": [
    "### 서포트 벡터 머신을 이해하기 위해선 마진이라는 개념의 이해가 필요"
   ]
  },
  {
   "cell_type": "markdown",
   "id": "f11f8195",
   "metadata": {},
   "source": [
    "### 마진이란?"
   ]
  },
  {
   "cell_type": "markdown",
   "id": "e983b5ec",
   "metadata": {},
   "source": [
    "결정 경계와 서포트 벡터 사이의 거리를 의미 (서포트 벡터: 결정경계와 가까이 있는 데이터들)"
   ]
  },
  {
   "cell_type": "markdown",
   "id": "a00ac856",
   "metadata": {},
   "source": [
    "  "
   ]
  },
  {
   "cell_type": "markdown",
   "id": "88b05126",
   "metadata": {},
   "source": [
    "- 서포트 벡터 머신은 데이터들을 올바르게 분리하면서 마진 크기를 최대로 해야하는데 이상치(패턴에서 벗어난 값)를 잘 다루는 것이 중요하다"
   ]
  },
  {
   "cell_type": "markdown",
   "id": "5e5e506b",
   "metadata": {},
   "source": [
    "- 이상치의 허용 정도로 하드 마진과 소프트 마진으로 나뉠 수 있다"
   ]
  },
  {
   "cell_type": "markdown",
   "id": "0c4f1fda",
   "metadata": {},
   "source": [
    "- 하드 마진: 이상치를 허용하지 않는 것\n",
    "  \n",
    "  \n",
    "- 소프트 마진: 어느정도의 이상치들이 마진 안에 포함되는 것을 허용하는 마진"
   ]
  },
  {
   "cell_type": "markdown",
   "id": "3cb0aa69",
   "metadata": {},
   "source": [
    "<img src= \"https://t1.daumcdn.net/cfile/tistory/99AAC83359E9B5EA0F\" width=\"450px\" height=\"450px\">"
   ]
  },
  {
   "cell_type": "markdown",
   "id": "40f15b45",
   "metadata": {},
   "source": [
    "- 라이브러리 호출"
   ]
  },
  {
   "cell_type": "code",
   "execution_count": 10,
   "id": "885a6f96",
   "metadata": {},
   "outputs": [],
   "source": [
    "from sklearn import svm\n",
    "from sklearn import metrics\n",
    "from sklearn import datasets\n",
    "from sklearn import model_selection\n",
    "\n",
    "import os\n",
    "os.environ['TF_CPP_MIN_LOG_LEVEL'] = '3'"
   ]
  },
  {
   "cell_type": "markdown",
   "id": "2fc0a46c",
   "metadata": {},
   "source": [
    "- (TF_CPP_MIN_LOG_LEVEL 이라는 환경변수를 사용하여 로깅 제어)\n",
    "- (1: INFO 로그 필터링  \n",
    "   2: WARNING 로그 필터링  \n",
    "   3: ERROR 로그 필터링)"
   ]
  },
  {
   "cell_type": "markdown",
   "id": "6ed26a34",
   "metadata": {},
   "source": [
    "- iris 데이터를 준비하고 훈련과 테스트 데이터셋으로 분리"
   ]
  },
  {
   "cell_type": "code",
   "execution_count": 11,
   "id": "0cb5a475",
   "metadata": {},
   "outputs": [],
   "source": [
    "iris = datasets.load_iris()    # 사이킷런에서 제공하는 iris 데이터 호출\n",
    "x_train, x_test, y_train, y_test = model_selection.train_test_split(iris.data, \n",
    "                                                                    iris.target, \n",
    "                                                                    test_size=0.6, \n",
    "                                                                   random_state=42)\n",
    "                    # 사이킷런의 model_sekection패키지에서 제공하는 train_test  _split 메서드를 이용하여 \n",
    "                    # 훈련과 테스트 데이터셋으로 분리"
   ]
  },
  {
   "cell_type": "markdown",
   "id": "7fe67f50",
   "metadata": {},
   "source": [
    "- SVM 모델에 대한 정확도"
   ]
  },
  {
   "cell_type": "code",
   "execution_count": 12,
   "id": "4bc7258f",
   "metadata": {},
   "outputs": [
    {
     "name": "stdout",
     "output_type": "stream",
     "text": [
      "정확도: 0.988889\n"
     ]
    }
   ],
   "source": [
    "svm = svm.SVC(kernel='linear', C=1.0, gamma=0.5) # ---- 1\n",
    "svm.fit(x_train, y_train)                        # 훈련 데이터를 사용하여 SVM 분류기를 훈련\n",
    "predictions = svm.predict(x_test)                # 훈련된 모델을 사용하여 테스트 데이터에서 예측\n",
    "score = metrics.accuracy_score(y_test, predictions) \n",
    "print('정확도: {0:f}'.format(score))             # 테스트 데이터 정확도 측정"
   ]
  },
  {
   "cell_type": "markdown",
   "id": "35571e43",
   "metadata": {},
   "source": [
    "- 1: SVM은 선형 분류와 비선형 분류를 지원합니다. 비선형에 대한 커널은 선형으로 분류될 수 없는 데이터들 때문에 발생"
   ]
  },
  {
   "cell_type": "markdown",
   "id": "371e2b4e",
   "metadata": {},
   "source": [
    "- 1 - C: 오류를 어느정도 허용할지 정하는 파라미터(C가 클수록 하드마진, 작을 수록 소프트 마진 )"
   ]
  },
  {
   "cell_type": "markdown",
   "id": "ba3568f3",
   "metadata": {},
   "source": [
    "- 비선형 문제를 해결하는 가장 기본적인 방법은 저차원 데이터를 고차원으로 보내는 것"
   ]
  },
  {
   "cell_type": "markdown",
   "id": "56076835",
   "metadata": {},
   "source": [
    "### But!! 많은 수학적 계산이 필요하기 때문에 성능에 문제를 줄 수 있음"
   ]
  },
  {
   "cell_type": "markdown",
   "id": "e102a1b6",
   "metadata": {},
   "source": [
    "### 이러한 문제를 해결하기 위해 도입 된것이 커널 트릭!"
   ]
  },
  {
   "cell_type": "markdown",
   "id": "eb43bdea",
   "metadata": {},
   "source": [
    "1. 선형 커널: 선형 모델을 위한 커널  \n",
    "\n",
    "\n",
    "  2. 가우시안 RBF 커널: 비선형 모델을 위한 커널  \n",
    "  \n",
    "  \n",
    "  3. 다항식 커널: 비선형 모델을 위한 커널"
   ]
  },
  {
   "cell_type": "markdown",
   "id": "0ca62cb0",
   "metadata": {},
   "source": [
    "- RBF 커널, 다항식 커널: 수학적 기교를 이용하여 벡터내적을 계산 후 고차원으로 보내는 방법으로 연산량을 줄임"
   ]
  },
  {
   "cell_type": "markdown",
   "id": "ec6499ae",
   "metadata": {},
   "source": [
    "- 선형 커널 \n",
    "\n",
    "수식: K(a,b) = a^T * b  \n",
    " \n",
    "특징: 기본 커널 트릭으로 커널 트릭을 사용하지 않겠다는 의미"
   ]
  },
  {
   "cell_type": "markdown",
   "id": "308d7af6",
   "metadata": {},
   "source": [
    "- 다형식 커널  \n",
    "\n",
    "수식: K(a,b) = (ra^T * b)^d \n",
    "(a,b: 입력벡터\n",
    " r: 감마\n",
    " d: 차원)\n",
    "\n",
    "특징: 실제로는 특성을 추가하지 않지만, 다항식 특성을 많이 추가한 것과 같은 결과를 얻을 수 있음"
   ]
  },
  {
   "cell_type": "markdown",
   "id": "3dd0ff17",
   "metadata": {},
   "source": [
    "- 가우시안 RBF 커널  \n",
    "\n",
    "수식: K(a,b) = exp(-r ||a-b||^2)  \n",
    "\n",
    "특징: 다항식 커널의 확장, 다항식 커널은 차수에 한계가 있는데, 가우시안 RBF는 차수 제한 없이 무한 확장 가능"
   ]
  },
  {
   "cell_type": "markdown",
   "id": "8868ce48",
   "metadata": {},
   "source": [
    " "
   ]
  },
  {
   "cell_type": "markdown",
   "id": "122ca1c5",
   "metadata": {},
   "source": [
    "### 3.1.3 결정 트리"
   ]
  },
  {
   "cell_type": "markdown",
   "id": "ad62d1d2",
   "metadata": {},
   "source": [
    "- 결정 트리: 데이터를 분류하거나 결괏값을 예측하는 분석 방법. 결과 모델이 트리구조이기에 결정트리라 불림 "
   ]
  },
  {
   "cell_type": "markdown",
   "id": "2e58fdd1",
   "metadata": {},
   "source": [
    "<img src= \"https://images.velog.io/images/ljs7463/post/f2da1e98-f4ee-408a-bb8b-444bbcd04997/bandicam%202021-06-15%2021-24-03-854.jpg\" width=\"450px\" height=\"450px\">"
   ]
  },
  {
   "cell_type": "markdown",
   "id": "bf9681aa",
   "metadata": {},
   "source": [
    "### 왜 사용할까?  \n",
    "####  : 주어진 데이터에 대한 분류"
   ]
  },
  {
   "cell_type": "markdown",
   "id": "3494dc0f",
   "metadata": {},
   "source": [
    "### 언제 사용하면 좋을까?  \n",
    ": 결정트리는 이상치가 많은 값으로 구성된 데이터셋을 다룰 때 사용하면 좋다.  \n",
    "  또한, 결과과정이 시각적으로 표현되기 때문에 머신러닝이 어떤방식으로 의사결정을 하는 알고 싶을 때 유용 "
   ]
  },
  {
   "cell_type": "markdown",
   "id": "36b70f16",
   "metadata": {},
   "source": [
    "### 순도"
   ]
  },
  {
   "cell_type": "markdown",
   "id": "decc662f",
   "metadata": {},
   "source": [
    "- 결정트리는 데이터를 n차로 분류할 때마다 영역의 순도가 증가, 불순도와 불확실정은 감소"
   ]
  },
  {
   "cell_type": "markdown",
   "id": "f6962d27",
   "metadata": {},
   "source": [
    "- 정보 획득: 순도가 증가하고 불확실성이 줄어드는 것"
   ]
  },
  {
   "cell_type": "markdown",
   "id": "72449365",
   "metadata": {},
   "source": [
    "- 순도를 계산하는 방법: 엔트로피, 지니 계수"
   ]
  },
  {
   "cell_type": "markdown",
   "id": "43e80d9b",
   "metadata": {},
   "source": [
    "### 엔트로피"
   ]
  },
  {
   "cell_type": "markdown",
   "id": "6176bbac",
   "metadata": {},
   "source": [
    ": 확률 변수의 불확실성을 수치로 나타낸 것으로, 엔트로피가 높을수록 불확실성이 높다는 뜻  \n",
    "(ex: 엔트로피 = 0 = 불확실성 최소 = 순도 최대   \n",
    "       엔트로피 = 0.5 = 불확실성 최대 = 순도 최소)"
   ]
  },
  {
   "cell_type": "markdown",
   "id": "6745f7d2",
   "metadata": {},
   "source": [
    "- 수식"
   ]
  },
  {
   "cell_type": "markdown",
   "id": "ff92e039",
   "metadata": {},
   "source": [
    "<img src= \"https://t1.daumcdn.net/cfile/tistory/999A69425B25187107\" width=\"450px\" height=\"450px\">"
   ]
  },
  {
   "cell_type": "markdown",
   "id": "9934bbae",
   "metadata": {},
   "source": [
    "(p = 영역에 속하는 데이터 가운데 k 범주에 속하는 데이터 비율)"
   ]
  },
  {
   "cell_type": "markdown",
   "id": "8e18a661",
   "metadata": {},
   "source": [
    "- 예시: 동전을 두번 던져 앞면이 나올 확룰이 1/4이고, 뒷면이 나올 확률이 3/4일 때 엔트로피"
   ]
  },
  {
   "cell_type": "markdown",
   "id": "b714df43",
   "metadata": {},
   "source": [
    "E = -(1/4)log(1/4) - (3/4)lon(3/4)  \n",
    "= 2/4 * 2/4 * 0.42  \n",
    "= 0.31\n"
   ]
  },
  {
   "cell_type": "markdown",
   "id": "a6e811a4",
   "metadata": {},
   "source": [
    "### 지니 계수"
   ]
  },
  {
   "cell_type": "markdown",
   "id": "9e8d66ed",
   "metadata": {},
   "source": [
    ": 불순도를 측정하는 지표로, 데이터의 통계적 분산 정도를 정량화해서 표현한 값  \n",
    "즉, 지니계수는 원소 n개 중에서 임의로 두 개를 추출했을 때, 추출된 두 개가 서로 다른 그룹에 속해 있을 확률"
   ]
  },
  {
   "cell_type": "markdown",
   "id": "38b84041",
   "metadata": {},
   "source": [
    "- 수식"
   ]
  },
  {
   "cell_type": "markdown",
   "id": "18239e35",
   "metadata": {},
   "source": [
    "<img src= \"https://coding-x-service-file.s3.ap-northeast-2.amazonaws.com/1635303516933\" width=\"450px\" height=\"450px\">"
   ]
  },
  {
   "cell_type": "markdown",
   "id": "ba09055c",
   "metadata": {},
   "source": [
    "지니 계수는 로그를 계산할 필요가 없어 엔트로피보다 계산이 빠르기 때문에 결정트리에서 많이 사용됨"
   ]
  },
  {
   "cell_type": "markdown",
   "id": "975d9fe0",
   "metadata": {},
   "source": [
    "## 실습코드"
   ]
  },
  {
   "cell_type": "markdown",
   "id": "34de7ae0",
   "metadata": {},
   "source": [
    "- 라이브러리 호출 및 데이터 준비"
   ]
  },
  {
   "cell_type": "code",
   "execution_count": 13,
   "id": "e9cdea0f",
   "metadata": {},
   "outputs": [
    {
     "name": "stdout",
     "output_type": "stream",
     "text": [
      "             Survived  Pclass  \\\n",
      "PassengerId                     \n",
      "1                   0       3   \n",
      "2                   1       1   \n",
      "3                   1       3   \n",
      "4                   1       1   \n",
      "5                   0       3   \n",
      "\n",
      "                                                          Name     Sex   Age  \\\n",
      "PassengerId                                                                    \n",
      "1                                      Braund, Mr. Owen Harris    male  22.0   \n",
      "2            Cumings, Mrs. John Bradley (Florence Briggs Th...  female  38.0   \n",
      "3                                       Heikkinen, Miss. Laina  female  26.0   \n",
      "4                 Futrelle, Mrs. Jacques Heath (Lily May Peel)  female  35.0   \n",
      "5                                     Allen, Mr. William Henry    male  35.0   \n",
      "\n",
      "             SibSp  Parch            Ticket     Fare Cabin Embarked  \n",
      "PassengerId                                                          \n",
      "1                1      0         A/5 21171   7.2500   NaN        S  \n",
      "2                1      0          PC 17599  71.2833   C85        C  \n",
      "3                0      0  STON/O2. 3101282   7.9250   NaN        S  \n",
      "4                1      0            113803  53.1000  C123        S  \n",
      "5                0      0            373450   8.0500   NaN        S  \n"
     ]
    }
   ],
   "source": [
    "import pandas as pd\n",
    "# 판다스를 이용하여 train,csv 파일을 로드해서 df에 저장\n",
    "df = pd.read_csv('C:/Users/user/Desktop/080289-main/chap03/data/titanic/train.csv', index_col='PassengerId')\n",
    "print(df.head()) # 상위 행 5개 출력"
   ]
  },
  {
   "cell_type": "markdown",
   "id": "29893bc9",
   "metadata": {},
   "source": [
    "- 데이터 전처리"
   ]
  },
  {
   "cell_type": "code",
   "execution_count": 14,
   "id": "72ca76f4",
   "metadata": {},
   "outputs": [],
   "source": [
    "# 승객의 생존여부를 예측하려고 'Pclass', 'Sex', 'Age', 'SibSp', 'Parch', 'Fare', 'Survived' 사용\n",
    "df = df[['Pclass', 'Sex', 'Age', 'SibSp', 'Parch', 'Fare', 'Survived']]\n",
    "df['Sex'] = df['Sex'].map({'male': 0, 'female': 1}) # 성별을 나타내는 'sex' 0 또는 1의 정수 값으로 변환\n",
    "df = df.dropna() # 값이 없는 데이터는 삭제 \n",
    "X = df.drop('Survived', axis=1) \n",
    "y = df['Survived'] #'Survived' 값을 예측 레이블로 사용 "
   ]
  },
  {
   "cell_type": "markdown",
   "id": "0a30560d",
   "metadata": {},
   "source": [
    "- 훈련과 테스트 데이터세으로 분리"
   ]
  },
  {
   "cell_type": "code",
   "execution_count": 15,
   "id": "3715868d",
   "metadata": {},
   "outputs": [],
   "source": [
    "from sklearn.model_selection import train_test_split\n",
    "X_train, X_test, y_train, y_test = train_test_split(X, y, random_state=1) # 훈련과 테스트 데이터셋으로 분리"
   ]
  },
  {
   "cell_type": "markdown",
   "id": "f86943c4",
   "metadata": {},
   "source": [
    "- 결정 트리 모델 생성"
   ]
  },
  {
   "cell_type": "code",
   "execution_count": 16,
   "id": "1ef323d1",
   "metadata": {},
   "outputs": [],
   "source": [
    "from sklearn import tree\n",
    "model = tree.DecisionTreeClassifier() # 결정트리 모델 생성"
   ]
  },
  {
   "cell_type": "markdown",
   "id": "0b6cb45d",
   "metadata": {},
   "source": [
    "- 모델 훈련"
   ]
  },
  {
   "cell_type": "code",
   "execution_count": 17,
   "id": "8d66b20e",
   "metadata": {},
   "outputs": [
    {
     "data": {
      "text/html": [
       "<style>#sk-container-id-2 {color: black;background-color: white;}#sk-container-id-2 pre{padding: 0;}#sk-container-id-2 div.sk-toggleable {background-color: white;}#sk-container-id-2 label.sk-toggleable__label {cursor: pointer;display: block;width: 100%;margin-bottom: 0;padding: 0.3em;box-sizing: border-box;text-align: center;}#sk-container-id-2 label.sk-toggleable__label-arrow:before {content: \"▸\";float: left;margin-right: 0.25em;color: #696969;}#sk-container-id-2 label.sk-toggleable__label-arrow:hover:before {color: black;}#sk-container-id-2 div.sk-estimator:hover label.sk-toggleable__label-arrow:before {color: black;}#sk-container-id-2 div.sk-toggleable__content {max-height: 0;max-width: 0;overflow: hidden;text-align: left;background-color: #f0f8ff;}#sk-container-id-2 div.sk-toggleable__content pre {margin: 0.2em;color: black;border-radius: 0.25em;background-color: #f0f8ff;}#sk-container-id-2 input.sk-toggleable__control:checked~div.sk-toggleable__content {max-height: 200px;max-width: 100%;overflow: auto;}#sk-container-id-2 input.sk-toggleable__control:checked~label.sk-toggleable__label-arrow:before {content: \"▾\";}#sk-container-id-2 div.sk-estimator input.sk-toggleable__control:checked~label.sk-toggleable__label {background-color: #d4ebff;}#sk-container-id-2 div.sk-label input.sk-toggleable__control:checked~label.sk-toggleable__label {background-color: #d4ebff;}#sk-container-id-2 input.sk-hidden--visually {border: 0;clip: rect(1px 1px 1px 1px);clip: rect(1px, 1px, 1px, 1px);height: 1px;margin: -1px;overflow: hidden;padding: 0;position: absolute;width: 1px;}#sk-container-id-2 div.sk-estimator {font-family: monospace;background-color: #f0f8ff;border: 1px dotted black;border-radius: 0.25em;box-sizing: border-box;margin-bottom: 0.5em;}#sk-container-id-2 div.sk-estimator:hover {background-color: #d4ebff;}#sk-container-id-2 div.sk-parallel-item::after {content: \"\";width: 100%;border-bottom: 1px solid gray;flex-grow: 1;}#sk-container-id-2 div.sk-label:hover label.sk-toggleable__label {background-color: #d4ebff;}#sk-container-id-2 div.sk-serial::before {content: \"\";position: absolute;border-left: 1px solid gray;box-sizing: border-box;top: 0;bottom: 0;left: 50%;z-index: 0;}#sk-container-id-2 div.sk-serial {display: flex;flex-direction: column;align-items: center;background-color: white;padding-right: 0.2em;padding-left: 0.2em;position: relative;}#sk-container-id-2 div.sk-item {position: relative;z-index: 1;}#sk-container-id-2 div.sk-parallel {display: flex;align-items: stretch;justify-content: center;background-color: white;position: relative;}#sk-container-id-2 div.sk-item::before, #sk-container-id-2 div.sk-parallel-item::before {content: \"\";position: absolute;border-left: 1px solid gray;box-sizing: border-box;top: 0;bottom: 0;left: 50%;z-index: -1;}#sk-container-id-2 div.sk-parallel-item {display: flex;flex-direction: column;z-index: 1;position: relative;background-color: white;}#sk-container-id-2 div.sk-parallel-item:first-child::after {align-self: flex-end;width: 50%;}#sk-container-id-2 div.sk-parallel-item:last-child::after {align-self: flex-start;width: 50%;}#sk-container-id-2 div.sk-parallel-item:only-child::after {width: 0;}#sk-container-id-2 div.sk-dashed-wrapped {border: 1px dashed gray;margin: 0 0.4em 0.5em 0.4em;box-sizing: border-box;padding-bottom: 0.4em;background-color: white;}#sk-container-id-2 div.sk-label label {font-family: monospace;font-weight: bold;display: inline-block;line-height: 1.2em;}#sk-container-id-2 div.sk-label-container {text-align: center;}#sk-container-id-2 div.sk-container {/* jupyter's `normalize.less` sets `[hidden] { display: none; }` but bootstrap.min.css set `[hidden] { display: none !important; }` so we also need the `!important` here to be able to override the default hidden behavior on the sphinx rendered scikit-learn.org. See: https://github.com/scikit-learn/scikit-learn/issues/21755 */display: inline-block !important;position: relative;}#sk-container-id-2 div.sk-text-repr-fallback {display: none;}</style><div id=\"sk-container-id-2\" class=\"sk-top-container\"><div class=\"sk-text-repr-fallback\"><pre>DecisionTreeClassifier()</pre><b>In a Jupyter environment, please rerun this cell to show the HTML representation or trust the notebook. <br />On GitHub, the HTML representation is unable to render, please try loading this page with nbviewer.org.</b></div><div class=\"sk-container\" hidden><div class=\"sk-item\"><div class=\"sk-estimator sk-toggleable\"><input class=\"sk-toggleable__control sk-hidden--visually\" id=\"sk-estimator-id-2\" type=\"checkbox\" checked><label for=\"sk-estimator-id-2\" class=\"sk-toggleable__label sk-toggleable__label-arrow\">DecisionTreeClassifier</label><div class=\"sk-toggleable__content\"><pre>DecisionTreeClassifier()</pre></div></div></div></div></div>"
      ],
      "text/plain": [
       "DecisionTreeClassifier()"
      ]
     },
     "execution_count": 17,
     "metadata": {},
     "output_type": "execute_result"
    }
   ],
   "source": [
    "model.fit(X_train, y_train) # 모델 훈련"
   ]
  },
  {
   "cell_type": "markdown",
   "id": "7767ce52",
   "metadata": {},
   "source": [
    "- 모델 예측"
   ]
  },
  {
   "cell_type": "code",
   "execution_count": 18,
   "id": "35afbb39",
   "metadata": {},
   "outputs": [
    {
     "data": {
      "text/plain": [
       "0.8268156424581006"
      ]
     },
     "execution_count": 18,
     "metadata": {},
     "output_type": "execute_result"
    }
   ],
   "source": [
    "y_predict = model.predict(X_test)\n",
    "from sklearn.metrics import accuracy_score\n",
    "accuracy_score(y_test, y_predict) # 테스트 데이터에 대한 예측 결과를 보여줌"
   ]
  },
  {
   "cell_type": "markdown",
   "id": "150d7606",
   "metadata": {},
   "source": [
    "- 혼동 행렬을 이용한 성능 측정"
   ]
  },
  {
   "cell_type": "code",
   "execution_count": 19,
   "id": "a8d9e78e",
   "metadata": {},
   "outputs": [
    {
     "data": {
      "text/html": [
       "<div>\n",
       "<style scoped>\n",
       "    .dataframe tbody tr th:only-of-type {\n",
       "        vertical-align: middle;\n",
       "    }\n",
       "\n",
       "    .dataframe tbody tr th {\n",
       "        vertical-align: top;\n",
       "    }\n",
       "\n",
       "    .dataframe thead th {\n",
       "        text-align: right;\n",
       "    }\n",
       "</style>\n",
       "<table border=\"1\" class=\"dataframe\">\n",
       "  <thead>\n",
       "    <tr style=\"text-align: right;\">\n",
       "      <th></th>\n",
       "      <th>Predicted Not Survival</th>\n",
       "      <th>Predicted Survival</th>\n",
       "    </tr>\n",
       "  </thead>\n",
       "  <tbody>\n",
       "    <tr>\n",
       "      <th>True Not Survival</th>\n",
       "      <td>99</td>\n",
       "      <td>13</td>\n",
       "    </tr>\n",
       "    <tr>\n",
       "      <th>True Survival</th>\n",
       "      <td>18</td>\n",
       "      <td>49</td>\n",
       "    </tr>\n",
       "  </tbody>\n",
       "</table>\n",
       "</div>"
      ],
      "text/plain": [
       "                   Predicted Not Survival  Predicted Survival\n",
       "True Not Survival                      99                  13\n",
       "True Survival                          18                  49"
      ]
     },
     "execution_count": 19,
     "metadata": {},
     "output_type": "execute_result"
    }
   ],
   "source": [
    "from sklearn.metrics import confusion_matrix\n",
    "pd.DataFrame(   # 혼동행렬을 출력\n",
    "    confusion_matrix(y_test, y_predict),\n",
    "    columns=['Predicted Not Survival', 'Predicted Survival'],\n",
    "    index=['True Not Survival', 'True Survival']\n",
    ")"
   ]
  },
  {
   "cell_type": "markdown",
   "id": "cb446af0",
   "metadata": {},
   "source": [
    "결과가 잘 나왔는지 확인하기 위해선 혼동 행렬의 개념을 이해해야 한다"
   ]
  },
  {
   "cell_type": "markdown",
   "id": "1016d0de",
   "metadata": {},
   "source": [
    "### 혼동 행렬"
   ]
  },
  {
   "cell_type": "markdown",
   "id": "b5232bcc",
   "metadata": {},
   "source": [
    "- True Positive: 모델이 \"1\"이라 예측했는데, 실제 값도 \"1\"인 경우  \n",
    "\n",
    "- True Negative: 모델이 \"0\"이라 예측했는데, 실제 값도 \"0\"인 경우  \n",
    "\n",
    "- False Positive: 모델이 \"1\"이라 예측했는데, 실제 값이 \"0\"인 경우  \n",
    "\n",
    "- False Negative: 모델이 \"0\"이라 예측했는데, 실제 값이 \"1\"인 경우"
   ]
  },
  {
   "cell_type": "markdown",
   "id": "31e3492c",
   "metadata": {},
   "source": [
    "즉 모델이 예측한 값과 실제 값이 같은 경우는 높고, 다른 경우가 낮을 때 훈련이 잘 됐다 할 수 있다"
   ]
  },
  {
   "cell_type": "markdown",
   "id": "144c0bc6",
   "metadata": {},
   "source": [
    "### 3.1.4 로지스틱 회귀와 선형 회귀"
   ]
  },
  {
   "cell_type": "markdown",
   "id": "e6c9bd5a",
   "metadata": {},
   "source": [
    "#### 회귀란?"
   ]
  },
  {
   "cell_type": "markdown",
   "id": "fbc56413",
   "metadata": {},
   "source": [
    "변수가 두 개 주어졌을 때 한 변수에서 다른 변수를 예측하거나 두 변수의 관계를 규명하는데 사용하는 방법"
   ]
  },
  {
   "cell_type": "markdown",
   "id": "3f9b20db",
   "metadata": {},
   "source": [
    "변수 유형: 독립 변수, 종속 변수"
   ]
  },
  {
   "cell_type": "markdown",
   "id": "8d7dd995",
   "metadata": {},
   "source": [
    "- 독립 변수(예측 변수): 영향을 미칠 것으로 예상되는 변수"
   ]
  },
  {
   "cell_type": "markdown",
   "id": "8e35c0e9",
   "metadata": {},
   "source": [
    "- 종속 변수(기준 변수): 영향을 받을 것으로 예상되는 변수"
   ]
  },
  {
   "cell_type": "markdown",
   "id": "092d6a29",
   "metadata": {},
   "source": [
    "#### 로지스틱 회귀"
   ]
  },
  {
   "cell_type": "markdown",
   "id": "798592a2",
   "metadata": {},
   "source": [
    "- 로지스틱 회귀: 분석하고자 하는 대상들이 두 집단 혹은 그 이상의 집단으로 나누어진 경우,\n",
    "    \n",
    "    개별 관측치들이 어느 집단으로 분류될 수 있는지 분석하고 예측하는 모형을 개발하는데 사용되는 통계 기법"
   ]
  },
  {
   "cell_type": "markdown",
   "id": "53a72d3f",
   "metadata": {},
   "source": [
    "### 왜 사용할까?  \n",
    "####  : 주어진 데이터에 대한 분류"
   ]
  },
  {
   "cell_type": "markdown",
   "id": "4e12611f",
   "metadata": {},
   "source": [
    "### 언제 사용하면 좋을까?  \n",
    ": 주어진 데이터에 대한 확신이 없거나 향후 추가적인 훈련 데이터셋을 수집하여 모델을 훈련시킬 수 있는 환경에서 사용하면 유용"
   ]
  },
  {
   "cell_type": "markdown",
   "id": "e25b2902",
   "metadata": {},
   "source": [
    "- 일반적인 회귀 분석과 로지스틱 회귀 분석의 차이 "
   ]
  },
  {
   "cell_type": "markdown",
   "id": "1e848b82",
   "metadata": {},
   "source": [
    "| 구분          | 일반적인 회귀 분석                   |  로지스틱 회귀분선                |\n",
    "| ------------  |------------------------------------- |  -------------------------------- |\n",
    "| 종속 변수     | 연속형 변수                          |  이산형 변수                      |\n",
    "| 모형 탐색 방법| 최소 제곱법                          |  최대 우도법                      |\n",
    "| 모형 검정     | F-테스트, t-테스트                   |  X^2 테스트                       |"
   ]
  },
  {
   "cell_type": "markdown",
   "id": "297a8572",
   "metadata": {},
   "source": [
    "- 최소제곱법과 최대 우도법"
   ]
  },
  {
   "cell_type": "markdown",
   "id": "1df4fc3a",
   "metadata": {},
   "source": [
    "사용되는 곳: 랜덤 표본에서 모집단 모수를 추정하는데 사용"
   ]
  },
  {
   "cell_type": "markdown",
   "id": "db6948c4",
   "metadata": {},
   "source": [
    "#### 최소제곱법"
   ]
  },
  {
   "cell_type": "markdown",
   "id": "ed2f5c59",
   "metadata": {},
   "source": [
    ": 실제 값에서 예측 값을 뺀 후 제곱해서 구함"
   ]
  },
  {
   "cell_type": "markdown",
   "id": "b07f6d97",
   "metadata": {},
   "source": [
    "<img src= \"https://encrypted-tbn0.gstatic.com/images?q=tbn:ANd9GcQIh4-KfG7RPUf8MrUeYPQtDm0aee3ON83IKw&usqp=CAU\" width=\"450px\" height=\"450px\">"
   ]
  },
  {
   "cell_type": "markdown",
   "id": "74a25319",
   "metadata": {},
   "source": [
    "#### 최대우도법"
   ]
  },
  {
   "cell_type": "markdown",
   "id": "205de211",
   "metadata": {},
   "source": [
    "최대우도법을 이해하기 위해선 우도의 개념을 먼저 이해할 필요가 있다."
   ]
  },
  {
   "cell_type": "markdown",
   "id": "47f552e1",
   "metadata": {},
   "source": [
    "##### 우도란?"
   ]
  },
  {
   "cell_type": "markdown",
   "id": "971cf660",
   "metadata": {},
   "source": [
    ": 나타난 결과에 따라 여러 가능한 가설을 평가할 수 있는 척도를 의미함"
   ]
  },
  {
   "cell_type": "markdown",
   "id": "b68748b4",
   "metadata": {},
   "source": [
    "- 따라서 최대우도는 나타난 결과에 해당하는 가설마다 계산된 우도 값 중 가장 큰 값"
   ]
  },
  {
   "cell_type": "markdown",
   "id": "272ae641",
   "metadata": {},
   "source": [
    "#### 종합적으로 최대우도법: 최대우도 추정치 또는 최대 가능성 추정량"
   ]
  },
  {
   "cell_type": "markdown",
   "id": "a319945a",
   "metadata": {},
   "source": [
    "-------"
   ]
  },
  {
   "cell_type": "markdown",
   "id": "20ef3876",
   "metadata": {},
   "source": [
    "- 로지스틱 회귀 분석의 절차"
   ]
  },
  {
   "cell_type": "markdown",
   "id": "a5f5d8cd",
   "metadata": {},
   "source": [
    "1단계: 각 집단에 속하는 확률을 추정치를 예측. 이때 추정치는 이진 분류의 경우 1에 속하는 확률로 구함"
   ]
  },
  {
   "cell_type": "markdown",
   "id": "12011908",
   "metadata": {},
   "source": [
    "2단계: 분류 기준 값을 설정한 후 특징 범주로 분류"
   ]
  },
  {
   "cell_type": "markdown",
   "id": "998caa6e",
   "metadata": {},
   "source": [
    "### 실습 코드"
   ]
  },
  {
   "cell_type": "code",
   "execution_count": 26,
   "id": "a8f9f35a",
   "metadata": {},
   "outputs": [
    {
     "name": "stdout",
     "output_type": "stream",
     "text": [
      "Image Data Shape (1797, 64)\n",
      "Label Data Shape (1797,)\n"
     ]
    }
   ],
   "source": [
    "%matplotlib inline\n",
    "from sklearn.datasets import load_digits\n",
    "digits = load_digits()              # 숫자 데이터셋은 사이킷런에서 제공\n",
    "print(\"Image Data Shape\" , digits.data.shape) #digits 데이터셋의 형태(이미지가 1797개 있으며, 8*8이미지의 64차원을 가짐)\n",
    "print(\"Label Data Shape\", digits.target.shape) #레이블 이미지 1797개가 있음"
   ]
  },
  {
   "cell_type": "code",
   "execution_count": 27,
   "id": "7e4c92a6",
   "metadata": {},
   "outputs": [
    {
     "data": {
      "image/png": "[encoded data removed]",
      "text/plain": [
       "<Figure size 2000x400 with 6 Axes>"
      ]
     },
     "metadata": {},
     "output_type": "display_data"
    }
   ],
   "source": [
    "import numpy as np \n",
    "import matplotlib.pyplot as plt\n",
    "# 데이터 시각화\n",
    "plt.figure(figsize=(20,4))\n",
    "for index, (image, label) in enumerate(zip(digits.data[0:6], digits.target[0:6])): # 여기서는 예시로 이미지 5개만 확인이지만 저는 6개\n",
    "    plt.subplot(1, 6, index + 1)\n",
    "    plt.imshow(np.reshape(image, (8,8)), cmap=plt.cm.gray)\n",
    "    plt.title('Training: %i\\n' % label, fontsize = 20)"
   ]
  },
  {
   "cell_type": "code",
   "execution_count": 28,
   "id": "b497318f",
   "metadata": {},
   "outputs": [
    {
     "name": "stderr",
     "output_type": "stream",
     "text": [
      "C:\\Users\\user\\anaconda3\\envs\\torch_book\\lib\\site-packages\\sklearn\\linear_model\\_logistic.py:444: ConvergenceWarning: lbfgs failed to converge (status=1):\n",
      "STOP: TOTAL NO. of ITERATIONS REACHED LIMIT.\n",
      "\n",
      "Increase the number of iterations (max_iter) or scale the data as shown in:\n",
      "    https://scikit-learn.org/stable/modules/preprocessing.html\n",
      "Please also refer to the documentation for alternative solver options:\n",
      "    https://scikit-learn.org/stable/modules/linear_model.html#logistic-regression\n",
      "  n_iter_i = _check_optimize_result(\n"
     ]
    },
    {
     "data": {
      "text/html": [
       "<style>#sk-container-id-4 {color: black;background-color: white;}#sk-container-id-4 pre{padding: 0;}#sk-container-id-4 div.sk-toggleable {background-color: white;}#sk-container-id-4 label.sk-toggleable__label {cursor: pointer;display: block;width: 100%;margin-bottom: 0;padding: 0.3em;box-sizing: border-box;text-align: center;}#sk-container-id-4 label.sk-toggleable__label-arrow:before {content: \"▸\";float: left;margin-right: 0.25em;color: #696969;}#sk-container-id-4 label.sk-toggleable__label-arrow:hover:before {color: black;}#sk-container-id-4 div.sk-estimator:hover label.sk-toggleable__label-arrow:before {color: black;}#sk-container-id-4 div.sk-toggleable__content {max-height: 0;max-width: 0;overflow: hidden;text-align: left;background-color: #f0f8ff;}#sk-container-id-4 div.sk-toggleable__content pre {margin: 0.2em;color: black;border-radius: 0.25em;background-color: #f0f8ff;}#sk-container-id-4 input.sk-toggleable__control:checked~div.sk-toggleable__content {max-height: 200px;max-width: 100%;overflow: auto;}#sk-container-id-4 input.sk-toggleable__control:checked~label.sk-toggleable__label-arrow:before {content: \"▾\";}#sk-container-id-4 div.sk-estimator input.sk-toggleable__control:checked~label.sk-toggleable__label {background-color: #d4ebff;}#sk-container-id-4 div.sk-label input.sk-toggleable__control:checked~label.sk-toggleable__label {background-color: #d4ebff;}#sk-container-id-4 input.sk-hidden--visually {border: 0;clip: rect(1px 1px 1px 1px);clip: rect(1px, 1px, 1px, 1px);height: 1px;margin: -1px;overflow: hidden;padding: 0;position: absolute;width: 1px;}#sk-container-id-4 div.sk-estimator {font-family: monospace;background-color: #f0f8ff;border: 1px dotted black;border-radius: 0.25em;box-sizing: border-box;margin-bottom: 0.5em;}#sk-container-id-4 div.sk-estimator:hover {background-color: #d4ebff;}#sk-container-id-4 div.sk-parallel-item::after {content: \"\";width: 100%;border-bottom: 1px solid gray;flex-grow: 1;}#sk-container-id-4 div.sk-label:hover label.sk-toggleable__label {background-color: #d4ebff;}#sk-container-id-4 div.sk-serial::before {content: \"\";position: absolute;border-left: 1px solid gray;box-sizing: border-box;top: 0;bottom: 0;left: 50%;z-index: 0;}#sk-container-id-4 div.sk-serial {display: flex;flex-direction: column;align-items: center;background-color: white;padding-right: 0.2em;padding-left: 0.2em;position: relative;}#sk-container-id-4 div.sk-item {position: relative;z-index: 1;}#sk-container-id-4 div.sk-parallel {display: flex;align-items: stretch;justify-content: center;background-color: white;position: relative;}#sk-container-id-4 div.sk-item::before, #sk-container-id-4 div.sk-parallel-item::before {content: \"\";position: absolute;border-left: 1px solid gray;box-sizing: border-box;top: 0;bottom: 0;left: 50%;z-index: -1;}#sk-container-id-4 div.sk-parallel-item {display: flex;flex-direction: column;z-index: 1;position: relative;background-color: white;}#sk-container-id-4 div.sk-parallel-item:first-child::after {align-self: flex-end;width: 50%;}#sk-container-id-4 div.sk-parallel-item:last-child::after {align-self: flex-start;width: 50%;}#sk-container-id-4 div.sk-parallel-item:only-child::after {width: 0;}#sk-container-id-4 div.sk-dashed-wrapped {border: 1px dashed gray;margin: 0 0.4em 0.5em 0.4em;box-sizing: border-box;padding-bottom: 0.4em;background-color: white;}#sk-container-id-4 div.sk-label label {font-family: monospace;font-weight: bold;display: inline-block;line-height: 1.2em;}#sk-container-id-4 div.sk-label-container {text-align: center;}#sk-container-id-4 div.sk-container {/* jupyter's `normalize.less` sets `[hidden] { display: none; }` but bootstrap.min.css set `[hidden] { display: none !important; }` so we also need the `!important` here to be able to override the default hidden behavior on the sphinx rendered scikit-learn.org. See: https://github.com/scikit-learn/scikit-learn/issues/21755 */display: inline-block !important;position: relative;}#sk-container-id-4 div.sk-text-repr-fallback {display: none;}</style><div id=\"sk-container-id-4\" class=\"sk-top-container\"><div class=\"sk-text-repr-fallback\"><pre>LogisticRegression()</pre><b>In a Jupyter environment, please rerun this cell to show the HTML representation or trust the notebook. <br />On GitHub, the HTML representation is unable to render, please try loading this page with nbviewer.org.</b></div><div class=\"sk-container\" hidden><div class=\"sk-item\"><div class=\"sk-estimator sk-toggleable\"><input class=\"sk-toggleable__control sk-hidden--visually\" id=\"sk-estimator-id-4\" type=\"checkbox\" checked><label for=\"sk-estimator-id-4\" class=\"sk-toggleable__label sk-toggleable__label-arrow\">LogisticRegression</label><div class=\"sk-toggleable__content\"><pre>LogisticRegression()</pre></div></div></div></div></div>"
      ],
      "text/plain": [
       "LogisticRegression()"
      ]
     },
     "execution_count": 28,
     "metadata": {},
     "output_type": "execute_result"
    }
   ],
   "source": [
    "from sklearn.model_selection import train_test_split\n",
    "x_train, x_test, y_train, y_test = train_test_split(digits.data, digits.target, test_size=0.25, random_state=0)\n",
    "\n",
    "from sklearn.linear_model import LogisticRegression\n",
    "logisticRegr = LogisticRegression()  # 로지스틱 회귀 모델의 인스턴스 생성\n",
    "logisticRegr.fit(x_train, y_train) # 모델 훈련"
   ]
  },
  {
   "cell_type": "code",
   "execution_count": 29,
   "id": "6a67bf4d",
   "metadata": {},
   "outputs": [
    {
     "data": {
      "text/plain": [
       "array([2, 8, 2, 6, 6, 7, 1, 9, 8, 5])"
      ]
     },
     "execution_count": 29,
     "metadata": {},
     "output_type": "execute_result"
    }
   ],
   "source": [
    "logisticRegr.predict(x_test[0].reshape(1,-1))  # 새로운 이미지테스트 데이터에 대한 예측결과를 넘파이 배열로 출력\n",
    "logisticRegr.predict(x_test[0:10])             # 이미지 열 개에 대한 예측을 한 번에 배열로 출력"
   ]
  },
  {
   "cell_type": "code",
   "execution_count": 30,
   "id": "f55f666f",
   "metadata": {},
   "outputs": [
    {
     "name": "stdout",
     "output_type": "stream",
     "text": [
      "0.9511111111111111\n"
     ]
    }
   ],
   "source": [
    "predictions = logisticRegr.predict(x_test)    # 전체 데이터셋에 대한 예측\n",
    "score = logisticRegr.score(x_test, y_test)    # 스코어 메서드를 사용하여 성능 측정\n",
    "print(score)"
   ]
  },
  {
   "cell_type": "code",
   "execution_count": 9,
   "id": "68f1c589",
   "metadata": {},
   "outputs": [
    {
     "name": "stdout",
     "output_type": "stream",
     "text": [
      "Collecting seaborn\n",
      "  Downloading seaborn-0.12.0-py3-none-any.whl (285 kB)\n",
      "     -------------------------------------- 285.1/285.1 kB 2.2 MB/s eta 0:00:00\n",
      "Requirement already satisfied: pandas>=0.25 in c:\\users\\user\\anaconda3\\envs\\torch_book\\lib\\site-packages (from seaborn) (1.4.4)\n",
      "Requirement already satisfied: numpy>=1.17 in c:\\users\\user\\anaconda3\\envs\\torch_book\\lib\\site-packages (from seaborn) (1.23.1)\n",
      "Requirement already satisfied: matplotlib>=3.1 in c:\\users\\user\\anaconda3\\envs\\torch_book\\lib\\site-packages (from seaborn) (3.6.0)\n",
      "Requirement already satisfied: pillow>=6.2.0 in c:\\users\\user\\anaconda3\\envs\\torch_book\\lib\\site-packages (from matplotlib>=3.1->seaborn) (9.2.0)\n",
      "Requirement already satisfied: python-dateutil>=2.7 in c:\\users\\user\\anaconda3\\envs\\torch_book\\lib\\site-packages (from matplotlib>=3.1->seaborn) (2.8.2)\n",
      "Requirement already satisfied: pyparsing>=2.2.1 in c:\\users\\user\\anaconda3\\envs\\torch_book\\lib\\site-packages (from matplotlib>=3.1->seaborn) (3.0.9)\n",
      "Requirement already satisfied: fonttools>=4.22.0 in c:\\users\\user\\anaconda3\\envs\\torch_book\\lib\\site-packages (from matplotlib>=3.1->seaborn) (4.37.2)\n",
      "Requirement already satisfied: contourpy>=1.0.1 in c:\\users\\user\\anaconda3\\envs\\torch_book\\lib\\site-packages (from matplotlib>=3.1->seaborn) (1.0.5)\n",
      "Requirement already satisfied: cycler>=0.10 in c:\\users\\user\\anaconda3\\envs\\torch_book\\lib\\site-packages (from matplotlib>=3.1->seaborn) (0.11.0)\n",
      "Requirement already satisfied: packaging>=20.0 in c:\\users\\user\\anaconda3\\envs\\torch_book\\lib\\site-packages (from matplotlib>=3.1->seaborn) (21.3)\n",
      "Requirement already satisfied: kiwisolver>=1.0.1 in c:\\users\\user\\anaconda3\\envs\\torch_book\\lib\\site-packages (from matplotlib>=3.1->seaborn) (1.4.4)\n",
      "Requirement already satisfied: pytz>=2020.1 in c:\\users\\user\\anaconda3\\envs\\torch_book\\lib\\site-packages (from pandas>=0.25->seaborn) (2022.2.1)\n",
      "Requirement already satisfied: six>=1.5 in c:\\users\\user\\anaconda3\\envs\\torch_book\\lib\\site-packages (from python-dateutil>=2.7->matplotlib>=3.1->seaborn) (1.16.0)\n",
      "Installing collected packages: seaborn\n",
      "Successfully installed seaborn-0.12.0\n"
     ]
    }
   ],
   "source": [
    "!pip install seaborn"
   ]
  },
  {
   "cell_type": "code",
   "execution_count": 10,
   "id": "44cff562",
   "metadata": {
    "scrolled": false
   },
   "outputs": [
    {
     "data": {
      "image/png": "[encoded data removed]",
      "text/plain": [
       "<Figure size 900x900 with 2 Axes>"
      ]
     },
     "metadata": {},
     "output_type": "display_data"
    }
   ],
   "source": [
    "# 혼동행렬 시각화\n",
    "import numpy as np \n",
    "import seaborn as sns\n",
    "from sklearn import metrics\n",
    "\n",
    "cm = metrics.confusion_matrix(y_test, predictions)\n",
    "plt.figure(figsize=(9,9))\n",
    "sns.heatmap(cm, annot=True, fmt=\".3f\", linewidths=.5, square = True, cmap = 'Blues_r');\n",
    "plt.ylabel('Actual label');\n",
    "plt.xlabel('Predicted label');\n",
    "all_sample_title = 'Accuracy Score: {0}'.format(score)\n",
    "plt.title(all_sample_title, size = 15);\n",
    "plt.show();"
   ]
  },
  {
   "cell_type": "markdown",
   "id": "8826217a",
   "metadata": {},
   "source": [
    "#### 선형 회귀"
   ]
  },
  {
   "cell_type": "markdown",
   "id": "3523ea73",
   "metadata": {},
   "source": [
    "- 선형 회귀: 독립 변수 x를 사용하여 종속 변수 y의 움직임을 예측하고 설명하는데 사용"
   ]
  },
  {
   "cell_type": "markdown",
   "id": "39902fa8",
   "metadata": {},
   "source": [
    "- 독립 변수 x가 하나이면 단순 선형회귀, x가 여러개이면 다중 선형 회귀"
   ]
  },
  {
   "cell_type": "markdown",
   "id": "0876f040",
   "metadata": {},
   "source": [
    "#### 선형 회귀 vs  로지스틱 회귀"
   ]
  },
  {
   "cell_type": "markdown",
   "id": "64c9d406",
   "metadata": {},
   "source": [
    "- 선형 회귀: 독립변수가 변경되었을 때 종속 변수를 추정하는데 유용"
   ]
  },
  {
   "cell_type": "markdown",
   "id": "fcb63942",
   "metadata": {},
   "source": [
    "즉, 종속변수의 값이 제한적이지 않다"
   ]
  },
  {
   "cell_type": "markdown",
   "id": "bd236ed6",
   "metadata": {},
   "source": [
    "선형 회귀의 예: 어떤 물건의 값이 있고, 시간당 몇개가 팔린다 했을 때 변수 값을 추정이 가능"
   ]
  },
  {
   "cell_type": "markdown",
   "id": "18785f01",
   "metadata": {},
   "source": [
    "  "
   ]
  },
  {
   "cell_type": "markdown",
   "id": "35372217",
   "metadata": {},
   "source": [
    "- 로지스틱 회귀: 사건의 확률을 확인하는데 사용."
   ]
  },
  {
   "cell_type": "markdown",
   "id": "7b4a522c",
   "metadata": {},
   "source": [
    "즉, 종속변수는 이진변수로(1 = 예, 0 = 아니요) 표현"
   ]
  },
  {
   "cell_type": "markdown",
   "id": "19daac22",
   "metadata": {},
   "source": [
    "로지스틱 회귀 예: 어떤 물건을 구매할 것인 여부를 알고 싶을 때 사용"
   ]
  },
  {
   "cell_type": "markdown",
   "id": "e1dbb50b",
   "metadata": {},
   "source": [
    "<img src= \"https://t1.daumcdn.net/cfile/tistory/99F325485C7B76BC2B\" width=\"450px\" height=\"450px\">"
   ]
  },
  {
   "cell_type": "markdown",
   "id": "6a666832",
   "metadata": {},
   "source": [
    "### 실습 코드"
   ]
  },
  {
   "cell_type": "markdown",
   "id": "bb4332f6",
   "metadata": {},
   "source": [
    "- 라이브러리 호출"
   ]
  },
  {
   "cell_type": "code",
   "execution_count": 21,
   "id": "05009bf9",
   "metadata": {},
   "outputs": [],
   "source": [
    "import pandas as pd  \n",
    "import numpy as np  \n",
    "import matplotlib.pyplot as plt  \n",
    "import seaborn as seabornInstance \n",
    "from sklearn.model_selection import train_test_split \n",
    "from sklearn.linear_model import LinearRegression\n",
    "from sklearn import metrics\n",
    "%matplotlib inline"
   ]
  },
  {
   "cell_type": "markdown",
   "id": "efec222e",
   "metadata": {},
   "source": [
    "- 파일 불러오기"
   ]
  },
  {
   "cell_type": "code",
   "execution_count": 23,
   "id": "6c53c05b",
   "metadata": {},
   "outputs": [],
   "source": [
    "dataset = pd.read_csv('C:/Users/user/Desktop/080289-main/chap03/data/weather.csv')"
   ]
  },
  {
   "cell_type": "markdown",
   "id": "8e89dbce",
   "metadata": {},
   "source": [
    "- 데이터 간 관계를 시각화로 표현"
   ]
  },
  {
   "cell_type": "code",
   "execution_count": 24,
   "id": "a35e6b2c",
   "metadata": {
    "scrolled": false
   },
   "outputs": [
    {
     "data": {
      "image/png": "[encoded data removed]",
      "text/plain": [
       "<Figure size 640x480 with 1 Axes>"
      ]
     },
     "metadata": {},
     "output_type": "display_data"
    }
   ],
   "source": [
    "dataset.plot(x='MinTemp', y='MaxTemp', style='o')  \n",
    "plt.title('MinTemp vs MaxTemp')  \n",
    "plt.xlabel('MinTemp')  \n",
    "plt.ylabel('MaxTemp') \n",
    "plt.show()"
   ]
  },
  {
   "cell_type": "markdown",
   "id": "71f6a078",
   "metadata": {},
   "source": [
    "이 예시에서는 독립 변수가 MinTemp이고, 종속 변수가 MaxTemp인 것을 볼 수 있다."
   ]
  },
  {
   "cell_type": "markdown",
   "id": "68a4a740",
   "metadata": {},
   "source": [
    "- 데이터를 독립 변수와 종속 변수로 분리하고 선형 회귀 모델 생성"
   ]
  },
  {
   "cell_type": "code",
   "execution_count": 25,
   "id": "3c81bbb4",
   "metadata": {},
   "outputs": [
    {
     "data": {
      "text/html": [
       "<style>#sk-container-id-2 {color: black;background-color: white;}#sk-container-id-2 pre{padding: 0;}#sk-container-id-2 div.sk-toggleable {background-color: white;}#sk-container-id-2 label.sk-toggleable__label {cursor: pointer;display: block;width: 100%;margin-bottom: 0;padding: 0.3em;box-sizing: border-box;text-align: center;}#sk-container-id-2 label.sk-toggleable__label-arrow:before {content: \"▸\";float: left;margin-right: 0.25em;color: #696969;}#sk-container-id-2 label.sk-toggleable__label-arrow:hover:before {color: black;}#sk-container-id-2 div.sk-estimator:hover label.sk-toggleable__label-arrow:before {color: black;}#sk-container-id-2 div.sk-toggleable__content {max-height: 0;max-width: 0;overflow: hidden;text-align: left;background-color: #f0f8ff;}#sk-container-id-2 div.sk-toggleable__content pre {margin: 0.2em;color: black;border-radius: 0.25em;background-color: #f0f8ff;}#sk-container-id-2 input.sk-toggleable__control:checked~div.sk-toggleable__content {max-height: 200px;max-width: 100%;overflow: auto;}#sk-container-id-2 input.sk-toggleable__control:checked~label.sk-toggleable__label-arrow:before {content: \"▾\";}#sk-container-id-2 div.sk-estimator input.sk-toggleable__control:checked~label.sk-toggleable__label {background-color: #d4ebff;}#sk-container-id-2 div.sk-label input.sk-toggleable__control:checked~label.sk-toggleable__label {background-color: #d4ebff;}#sk-container-id-2 input.sk-hidden--visually {border: 0;clip: rect(1px 1px 1px 1px);clip: rect(1px, 1px, 1px, 1px);height: 1px;margin: -1px;overflow: hidden;padding: 0;position: absolute;width: 1px;}#sk-container-id-2 div.sk-estimator {font-family: monospace;background-color: #f0f8ff;border: 1px dotted black;border-radius: 0.25em;box-sizing: border-box;margin-bottom: 0.5em;}#sk-container-id-2 div.sk-estimator:hover {background-color: #d4ebff;}#sk-container-id-2 div.sk-parallel-item::after {content: \"\";width: 100%;border-bottom: 1px solid gray;flex-grow: 1;}#sk-container-id-2 div.sk-label:hover label.sk-toggleable__label {background-color: #d4ebff;}#sk-container-id-2 div.sk-serial::before {content: \"\";position: absolute;border-left: 1px solid gray;box-sizing: border-box;top: 0;bottom: 0;left: 50%;z-index: 0;}#sk-container-id-2 div.sk-serial {display: flex;flex-direction: column;align-items: center;background-color: white;padding-right: 0.2em;padding-left: 0.2em;position: relative;}#sk-container-id-2 div.sk-item {position: relative;z-index: 1;}#sk-container-id-2 div.sk-parallel {display: flex;align-items: stretch;justify-content: center;background-color: white;position: relative;}#sk-container-id-2 div.sk-item::before, #sk-container-id-2 div.sk-parallel-item::before {content: \"\";position: absolute;border-left: 1px solid gray;box-sizing: border-box;top: 0;bottom: 0;left: 50%;z-index: -1;}#sk-container-id-2 div.sk-parallel-item {display: flex;flex-direction: column;z-index: 1;position: relative;background-color: white;}#sk-container-id-2 div.sk-parallel-item:first-child::after {align-self: flex-end;width: 50%;}#sk-container-id-2 div.sk-parallel-item:last-child::after {align-self: flex-start;width: 50%;}#sk-container-id-2 div.sk-parallel-item:only-child::after {width: 0;}#sk-container-id-2 div.sk-dashed-wrapped {border: 1px dashed gray;margin: 0 0.4em 0.5em 0.4em;box-sizing: border-box;padding-bottom: 0.4em;background-color: white;}#sk-container-id-2 div.sk-label label {font-family: monospace;font-weight: bold;display: inline-block;line-height: 1.2em;}#sk-container-id-2 div.sk-label-container {text-align: center;}#sk-container-id-2 div.sk-container {/* jupyter's `normalize.less` sets `[hidden] { display: none; }` but bootstrap.min.css set `[hidden] { display: none !important; }` so we also need the `!important` here to be able to override the default hidden behavior on the sphinx rendered scikit-learn.org. See: https://github.com/scikit-learn/scikit-learn/issues/21755 */display: inline-block !important;position: relative;}#sk-container-id-2 div.sk-text-repr-fallback {display: none;}</style><div id=\"sk-container-id-2\" class=\"sk-top-container\"><div class=\"sk-text-repr-fallback\"><pre>LinearRegression()</pre><b>In a Jupyter environment, please rerun this cell to show the HTML representation or trust the notebook. <br />On GitHub, the HTML representation is unable to render, please try loading this page with nbviewer.org.</b></div><div class=\"sk-container\" hidden><div class=\"sk-item\"><div class=\"sk-estimator sk-toggleable\"><input class=\"sk-toggleable__control sk-hidden--visually\" id=\"sk-estimator-id-2\" type=\"checkbox\" checked><label for=\"sk-estimator-id-2\" class=\"sk-toggleable__label sk-toggleable__label-arrow\">LinearRegression</label><div class=\"sk-toggleable__content\"><pre>LinearRegression()</pre></div></div></div></div></div>"
      ],
      "text/plain": [
       "LinearRegression()"
      ]
     },
     "execution_count": 25,
     "metadata": {},
     "output_type": "execute_result"
    }
   ],
   "source": [
    "X = dataset['MinTemp'].values.reshape(-1,1)\n",
    "y = dataset['MaxTemp'].values.reshape(-1,1)\n",
    "\n",
    "# 데이터의 80%를 훈련 데이터셋으로 하고 데이터의 20%를 검증 데이터셋으로 분리 \n",
    "X_train, X_test, y_train, y_test = train_test_split(X, y, test_size=0.2, random_state=0) \n",
    "regressor = LinearRegression()\n",
    "regressor.fit(X_train, y_train)"
   ]
  },
  {
   "cell_type": "markdown",
   "id": "8078de7c",
   "metadata": {},
   "source": [
    "- 회귀 모델에 대한 예측"
   ]
  },
  {
   "cell_type": "code",
   "execution_count": 26,
   "id": "a9829bb1",
   "metadata": {},
   "outputs": [
    {
     "data": {
      "text/html": [
       "<div>\n",
       "<style scoped>\n",
       "    .dataframe tbody tr th:only-of-type {\n",
       "        vertical-align: middle;\n",
       "    }\n",
       "\n",
       "    .dataframe tbody tr th {\n",
       "        vertical-align: top;\n",
       "    }\n",
       "\n",
       "    .dataframe thead th {\n",
       "        text-align: right;\n",
       "    }\n",
       "</style>\n",
       "<table border=\"1\" class=\"dataframe\">\n",
       "  <thead>\n",
       "    <tr style=\"text-align: right;\">\n",
       "      <th></th>\n",
       "      <th>Actual</th>\n",
       "      <th>Predicted</th>\n",
       "    </tr>\n",
       "  </thead>\n",
       "  <tbody>\n",
       "    <tr>\n",
       "      <th>0</th>\n",
       "      <td>25.2</td>\n",
       "      <td>23.413030</td>\n",
       "    </tr>\n",
       "    <tr>\n",
       "      <th>1</th>\n",
       "      <td>11.5</td>\n",
       "      <td>13.086857</td>\n",
       "    </tr>\n",
       "    <tr>\n",
       "      <th>2</th>\n",
       "      <td>21.1</td>\n",
       "      <td>27.264856</td>\n",
       "    </tr>\n",
       "    <tr>\n",
       "      <th>3</th>\n",
       "      <td>22.2</td>\n",
       "      <td>25.461874</td>\n",
       "    </tr>\n",
       "    <tr>\n",
       "      <th>4</th>\n",
       "      <td>20.4</td>\n",
       "      <td>26.937041</td>\n",
       "    </tr>\n",
       "    <tr>\n",
       "      <th>...</th>\n",
       "      <td>...</td>\n",
       "      <td>...</td>\n",
       "    </tr>\n",
       "    <tr>\n",
       "      <th>69</th>\n",
       "      <td>18.9</td>\n",
       "      <td>20.216833</td>\n",
       "    </tr>\n",
       "    <tr>\n",
       "      <th>70</th>\n",
       "      <td>22.8</td>\n",
       "      <td>27.674625</td>\n",
       "    </tr>\n",
       "    <tr>\n",
       "      <th>71</th>\n",
       "      <td>16.1</td>\n",
       "      <td>21.446140</td>\n",
       "    </tr>\n",
       "    <tr>\n",
       "      <th>72</th>\n",
       "      <td>25.1</td>\n",
       "      <td>24.970151</td>\n",
       "    </tr>\n",
       "    <tr>\n",
       "      <th>73</th>\n",
       "      <td>12.2</td>\n",
       "      <td>14.070302</td>\n",
       "    </tr>\n",
       "  </tbody>\n",
       "</table>\n",
       "<p>74 rows × 2 columns</p>\n",
       "</div>"
      ],
      "text/plain": [
       "    Actual  Predicted\n",
       "0     25.2  23.413030\n",
       "1     11.5  13.086857\n",
       "2     21.1  27.264856\n",
       "3     22.2  25.461874\n",
       "4     20.4  26.937041\n",
       "..     ...        ...\n",
       "69    18.9  20.216833\n",
       "70    22.8  27.674625\n",
       "71    16.1  21.446140\n",
       "72    25.1  24.970151\n",
       "73    12.2  14.070302\n",
       "\n",
       "[74 rows x 2 columns]"
      ]
     },
     "execution_count": 26,
     "metadata": {},
     "output_type": "execute_result"
    }
   ],
   "source": [
    "y_pred = regressor.predict(X_test)\n",
    "df = pd.DataFrame({'Actual': y_test.flatten(), 'Predicted': y_pred.flatten()})\n",
    "df"
   ]
  },
  {
   "cell_type": "markdown",
   "id": "44e00f18",
   "metadata": {},
   "source": [
    "- 테스트 대이터셋을 사용한 회귀선 표현"
   ]
  },
  {
   "cell_type": "code",
   "execution_count": 27,
   "id": "30218352",
   "metadata": {
    "scrolled": false
   },
   "outputs": [
    {
     "data": {
      "image/png": "[encoded data removed]",
      "text/plain": [
       "<Figure size 640x480 with 1 Axes>"
      ]
     },
     "metadata": {},
     "output_type": "display_data"
    }
   ],
   "source": [
    "plt.scatter(X_test, y_test,  color='gray')\n",
    "plt.plot(X_test, y_pred, color='red', linewidth=2)\n",
    "plt.show()"
   ]
  },
  {
   "cell_type": "markdown",
   "id": "41e1f315",
   "metadata": {},
   "source": [
    "선형 회귀 분석을 평가하기 위해 평균제곱법과 루트 제곱평균법을 사용"
   ]
  },
  {
   "cell_type": "markdown",
   "id": "6a21a346",
   "metadata": {},
   "source": [
    "- 선형 회귀 모델 평가"
   ]
  },
  {
   "cell_type": "code",
   "execution_count": 28,
   "id": "582faa24",
   "metadata": {},
   "outputs": [
    {
     "name": "stdout",
     "output_type": "stream",
     "text": [
      "평균제곱법: 17.011877668640622\n",
      "루트 평균제곱법: 4.124545753006096\n"
     ]
    }
   ],
   "source": [
    "print('평균제곱법:', metrics.mean_squared_error(y_test, y_pred))  \n",
    "print('루트 평균제곱법:', np.sqrt(metrics.mean_squared_error(y_test, y_pred)))"
   ]
  },
  {
   "cell_type": "markdown",
   "id": "a6b3e654",
   "metadata": {},
   "source": [
    "- 평균 제곱법"
   ]
  },
  {
   "cell_type": "markdown",
   "id": "ea6544bc",
   "metadata": {},
   "source": [
    "<img src= \"https://user-images.githubusercontent.com/10937193/58108494-e7bc7580-7c26-11e9-90a1-b988522a0b64.png\" width=\"450px\" height=\"450px\">"
   ]
  },
  {
   "cell_type": "markdown",
   "id": "0c7b3c1e",
   "metadata": {},
   "source": [
    "- 루트 평균제곱법: 평균 제곱법에서 루트를 씌운 것"
   ]
  }
 ],
 "metadata": {
  "kernelspec": {
   "display_name": "torch_book",
   "language": "python",
   "name": "torch_book"
  },
  "language_info": {
   "codemirror_mode": {
    "name": "ipython",
    "version": 3
   },
   "file_extension": ".py",
   "mimetype": "text/x-python",
   "name": "python",
   "nbconvert_exporter": "python",
   "pygments_lexer": "ipython3",
   "version": "3.9.0"
  }
 },
 "nbformat": 4,
 "nbformat_minor": 5
}
